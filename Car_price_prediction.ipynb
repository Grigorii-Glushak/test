{
 "cells": [
  {
   "cell_type": "markdown",
   "metadata": {},
   "source": [
    "# Определение стоимости автомобилей"
   ]
  },
  {
   "cell_type": "markdown",
   "metadata": {},
   "source": [
    "***Описание проекта:*** "
   ]
  },
  {
   "cell_type": "markdown",
   "metadata": {},
   "source": [
    "Сервис по продаже автомобилей с пробегом «Не бит, не крашен» разрабатывает приложение для привлечения новых клиентов. В нём можно быстро узнать рыночную стоимость своего автомобиля. В вашем распоряжении исторические данные: технические характеристики, комплектации и цены автомобилей. Вам нужно построить модель для определения стоимости. \n",
    "\n",
    "*Заказчику важны:*\n",
    "\n",
    "- качество предсказания;\n",
    "- скорость предсказания;\n",
    "- время обучения.\n",
    "\n",
    "Чтобы усилить исследование, мы не будем ограничиваться градиентным бустингом. Попробуем более простые модели — иногда они работают лучше. Эти редкие случаи легко пропустить, если всегда применять только бустинг. \n",
    "Поэкспериментируем и сравним характеристики моделей: время обучения, время предсказания, точность результата. За основу возьмём метрику RMSE. И значение не более 2500."
   ]
  },
  {
   "cell_type": "markdown",
   "metadata": {},
   "source": [
    "***Описание данных:***"
   ]
  },
  {
   "cell_type": "markdown",
   "metadata": {},
   "source": [
    "*Признаки:*\n",
    "- `DateCrawled` — дата скачивания анкеты из базы\n",
    "- `VehicleType` — тип автомобильного кузова\n",
    "- `RegistrationYear` — год регистрации автомобиля\n",
    "- `Gearbox` — тип коробки передач\n",
    "- `Power` — мощность (л. с.)\n",
    "- `Model` — модель автомобиля\n",
    "- `Kilometer` — пробег (км)\n",
    "- `RegistrationMonth` — месяц регистрации автомобиля\n",
    "- `FuelType` — тип топлива\n",
    "- `Brand` — марка автомобиля\n",
    "- `Repaired` — была машина в ремонте или нет\n",
    "- `DateCreated` — дата создания анкеты\n",
    "- `NumberOfPictures` — количество фотографий автомобиля\n",
    "- `PostalCode` — почтовый индекс владельца анкеты (пользователя)\n",
    "- `LastSeen` — дата последней активности пользователя\n",
    "\n",
    "*Целевой признак:*\n",
    "- `Price` — цена (евро)"
   ]
  },
  {
   "cell_type": "markdown",
   "metadata": {},
   "source": [
    "***План работы над проектом:***"
   ]
  },
  {
   "cell_type": "markdown",
   "metadata": {},
   "source": [
    "1. Подготовка данных\n",
    "2. Обучение моделей\n",
    "3. Анализ моделей\n",
    "4. Общий вывод"
   ]
  },
  {
   "cell_type": "markdown",
   "metadata": {},
   "source": [
    "## Подготовка данных"
   ]
  },
  {
   "cell_type": "code",
   "execution_count": 1,
   "metadata": {},
   "outputs": [],
   "source": [
    "# установим последнюю версию scikit-learn, если она не установлена\n",
    "# теперь для OneHotEncoder работает одновремеено drop='first' и handle_unknown='ignore'\n",
    "# !pip install scikit-learn==1.1.3\n",
    "\n",
    "# и установим библиотеку lightgbm если она не установлена\n",
    "# !pip install lightgbm"
   ]
  },
  {
   "cell_type": "code",
   "execution_count": 2,
   "metadata": {},
   "outputs": [],
   "source": [
    "import pandas as pd\n",
    "import numpy as np\n",
    "import seaborn as sns\n",
    "import matplotlib.pyplot as plt\n",
    "import lightgbm\n",
    "import warnings\n",
    "import re\n",
    "\n",
    "from sklearn.tree import DecisionTreeRegressor\n",
    "from sklearn.linear_model import LinearRegression\n",
    "from sklearn.model_selection import (\n",
    "    train_test_split,\n",
    "    GridSearchCV)\n",
    "\n",
    "from sklearn.metrics import mean_squared_error\n",
    "\n",
    "from sklearn.preprocessing import (\n",
    "    StandardScaler, \n",
    "    OneHotEncoder,\n",
    "    OrdinalEncoder)\n",
    "\n",
    "warnings.filterwarnings(\"ignore\")\n",
    "sns.set(rc={'figure.figsize': (15,7)})\n",
    "RD_ST=12345"
   ]
  },
  {
   "cell_type": "code",
   "execution_count": 3,
   "metadata": {},
   "outputs": [],
   "source": [
    "def start(df):\n",
    "        df.info()\n",
    "        print('\\n',df.describe())\n",
    "        display(df.sample(5))\n",
    "        print('Количество пропусков в таблице:', df.isna().sum().sum(), '\\n')\n",
    "        print(df.isna().sum(), '\\n')\n",
    "        print('Количество дубликатов в таблице:',  df.duplicated().sum())\n",
    "        df.hist(figsize=(15, 20));"
   ]
  },
  {
   "cell_type": "code",
   "execution_count": 4,
   "metadata": {
    "scrolled": false
   },
   "outputs": [
    {
     "name": "stdout",
     "output_type": "stream",
     "text": [
      "<class 'pandas.core.frame.DataFrame'>\n",
      "RangeIndex: 354369 entries, 0 to 354368\n",
      "Data columns (total 16 columns):\n",
      " #   Column             Non-Null Count   Dtype \n",
      "---  ------             --------------   ----- \n",
      " 0   DateCrawled        354369 non-null  object\n",
      " 1   Price              354369 non-null  int64 \n",
      " 2   VehicleType        316879 non-null  object\n",
      " 3   RegistrationYear   354369 non-null  int64 \n",
      " 4   Gearbox            334536 non-null  object\n",
      " 5   Power              354369 non-null  int64 \n",
      " 6   Model              334664 non-null  object\n",
      " 7   Kilometer          354369 non-null  int64 \n",
      " 8   RegistrationMonth  354369 non-null  int64 \n",
      " 9   FuelType           321474 non-null  object\n",
      " 10  Brand              354369 non-null  object\n",
      " 11  Repaired           283215 non-null  object\n",
      " 12  DateCreated        354369 non-null  object\n",
      " 13  NumberOfPictures   354369 non-null  int64 \n",
      " 14  PostalCode         354369 non-null  int64 \n",
      " 15  LastSeen           354369 non-null  object\n",
      "dtypes: int64(7), object(9)\n",
      "memory usage: 43.3+ MB\n",
      "\n",
      "                Price  RegistrationYear          Power      Kilometer  \\\n",
      "count  354369.000000     354369.000000  354369.000000  354369.000000   \n",
      "mean     4416.656776       2004.234448     110.094337  128211.172535   \n",
      "std      4514.158514         90.227958     189.850405   37905.341530   \n",
      "min         0.000000       1000.000000       0.000000    5000.000000   \n",
      "25%      1050.000000       1999.000000      69.000000  125000.000000   \n",
      "50%      2700.000000       2003.000000     105.000000  150000.000000   \n",
      "75%      6400.000000       2008.000000     143.000000  150000.000000   \n",
      "max     20000.000000       9999.000000   20000.000000  150000.000000   \n",
      "\n",
      "       RegistrationMonth  NumberOfPictures     PostalCode  \n",
      "count      354369.000000          354369.0  354369.000000  \n",
      "mean            5.714645               0.0   50508.689087  \n",
      "std             3.726421               0.0   25783.096248  \n",
      "min             0.000000               0.0    1067.000000  \n",
      "25%             3.000000               0.0   30165.000000  \n",
      "50%             6.000000               0.0   49413.000000  \n",
      "75%             9.000000               0.0   71083.000000  \n",
      "max            12.000000               0.0   99998.000000  \n"
     ]
    },
    {
     "data": {
      "text/html": [
       "<div>\n",
       "<style scoped>\n",
       "    .dataframe tbody tr th:only-of-type {\n",
       "        vertical-align: middle;\n",
       "    }\n",
       "\n",
       "    .dataframe tbody tr th {\n",
       "        vertical-align: top;\n",
       "    }\n",
       "\n",
       "    .dataframe thead th {\n",
       "        text-align: right;\n",
       "    }\n",
       "</style>\n",
       "<table border=\"1\" class=\"dataframe\">\n",
       "  <thead>\n",
       "    <tr style=\"text-align: right;\">\n",
       "      <th></th>\n",
       "      <th>DateCrawled</th>\n",
       "      <th>Price</th>\n",
       "      <th>VehicleType</th>\n",
       "      <th>RegistrationYear</th>\n",
       "      <th>Gearbox</th>\n",
       "      <th>Power</th>\n",
       "      <th>Model</th>\n",
       "      <th>Kilometer</th>\n",
       "      <th>RegistrationMonth</th>\n",
       "      <th>FuelType</th>\n",
       "      <th>Brand</th>\n",
       "      <th>Repaired</th>\n",
       "      <th>DateCreated</th>\n",
       "      <th>NumberOfPictures</th>\n",
       "      <th>PostalCode</th>\n",
       "      <th>LastSeen</th>\n",
       "    </tr>\n",
       "  </thead>\n",
       "  <tbody>\n",
       "    <tr>\n",
       "      <th>128792</th>\n",
       "      <td>2016-03-30 01:56:29</td>\n",
       "      <td>4900</td>\n",
       "      <td>bus</td>\n",
       "      <td>2001</td>\n",
       "      <td>manual</td>\n",
       "      <td>102</td>\n",
       "      <td>transporter</td>\n",
       "      <td>150000</td>\n",
       "      <td>7</td>\n",
       "      <td>gasoline</td>\n",
       "      <td>volkswagen</td>\n",
       "      <td>no</td>\n",
       "      <td>2016-03-30 00:00:00</td>\n",
       "      <td>0</td>\n",
       "      <td>44793</td>\n",
       "      <td>2016-04-06 19:17:48</td>\n",
       "    </tr>\n",
       "    <tr>\n",
       "      <th>152822</th>\n",
       "      <td>2016-03-20 14:25:37</td>\n",
       "      <td>12000</td>\n",
       "      <td>sedan</td>\n",
       "      <td>1985</td>\n",
       "      <td>manual</td>\n",
       "      <td>72</td>\n",
       "      <td>other</td>\n",
       "      <td>90000</td>\n",
       "      <td>7</td>\n",
       "      <td>gasoline</td>\n",
       "      <td>mercedes_benz</td>\n",
       "      <td>no</td>\n",
       "      <td>2016-03-20 00:00:00</td>\n",
       "      <td>0</td>\n",
       "      <td>35633</td>\n",
       "      <td>2016-04-06 23:45:39</td>\n",
       "    </tr>\n",
       "    <tr>\n",
       "      <th>172264</th>\n",
       "      <td>2016-03-13 23:52:41</td>\n",
       "      <td>3000</td>\n",
       "      <td>convertible</td>\n",
       "      <td>2005</td>\n",
       "      <td>manual</td>\n",
       "      <td>75</td>\n",
       "      <td>2_reihe</td>\n",
       "      <td>125000</td>\n",
       "      <td>7</td>\n",
       "      <td>lpg</td>\n",
       "      <td>peugeot</td>\n",
       "      <td>NaN</td>\n",
       "      <td>2016-03-13 00:00:00</td>\n",
       "      <td>0</td>\n",
       "      <td>24103</td>\n",
       "      <td>2016-03-19 18:46:40</td>\n",
       "    </tr>\n",
       "    <tr>\n",
       "      <th>344903</th>\n",
       "      <td>2016-03-13 11:41:49</td>\n",
       "      <td>9800</td>\n",
       "      <td>small</td>\n",
       "      <td>2012</td>\n",
       "      <td>manual</td>\n",
       "      <td>115</td>\n",
       "      <td>2_reihe</td>\n",
       "      <td>70000</td>\n",
       "      <td>9</td>\n",
       "      <td>gasoline</td>\n",
       "      <td>peugeot</td>\n",
       "      <td>no</td>\n",
       "      <td>2016-03-13 00:00:00</td>\n",
       "      <td>0</td>\n",
       "      <td>53111</td>\n",
       "      <td>2016-04-06 15:17:25</td>\n",
       "    </tr>\n",
       "    <tr>\n",
       "      <th>342394</th>\n",
       "      <td>2016-03-07 20:52:31</td>\n",
       "      <td>555</td>\n",
       "      <td>sedan</td>\n",
       "      <td>1993</td>\n",
       "      <td>manual</td>\n",
       "      <td>90</td>\n",
       "      <td>80</td>\n",
       "      <td>150000</td>\n",
       "      <td>3</td>\n",
       "      <td>petrol</td>\n",
       "      <td>audi</td>\n",
       "      <td>no</td>\n",
       "      <td>2016-03-07 00:00:00</td>\n",
       "      <td>0</td>\n",
       "      <td>91785</td>\n",
       "      <td>2016-03-16 05:16:22</td>\n",
       "    </tr>\n",
       "  </tbody>\n",
       "</table>\n",
       "</div>"
      ],
      "text/plain": [
       "                DateCrawled  Price  VehicleType  RegistrationYear Gearbox  \\\n",
       "128792  2016-03-30 01:56:29   4900          bus              2001  manual   \n",
       "152822  2016-03-20 14:25:37  12000        sedan              1985  manual   \n",
       "172264  2016-03-13 23:52:41   3000  convertible              2005  manual   \n",
       "344903  2016-03-13 11:41:49   9800        small              2012  manual   \n",
       "342394  2016-03-07 20:52:31    555        sedan              1993  manual   \n",
       "\n",
       "        Power        Model  Kilometer  RegistrationMonth  FuelType  \\\n",
       "128792    102  transporter     150000                  7  gasoline   \n",
       "152822     72        other      90000                  7  gasoline   \n",
       "172264     75      2_reihe     125000                  7       lpg   \n",
       "344903    115      2_reihe      70000                  9  gasoline   \n",
       "342394     90           80     150000                  3    petrol   \n",
       "\n",
       "                Brand Repaired          DateCreated  NumberOfPictures  \\\n",
       "128792     volkswagen       no  2016-03-30 00:00:00                 0   \n",
       "152822  mercedes_benz       no  2016-03-20 00:00:00                 0   \n",
       "172264        peugeot      NaN  2016-03-13 00:00:00                 0   \n",
       "344903        peugeot       no  2016-03-13 00:00:00                 0   \n",
       "342394           audi       no  2016-03-07 00:00:00                 0   \n",
       "\n",
       "        PostalCode             LastSeen  \n",
       "128792       44793  2016-04-06 19:17:48  \n",
       "152822       35633  2016-04-06 23:45:39  \n",
       "172264       24103  2016-03-19 18:46:40  \n",
       "344903       53111  2016-04-06 15:17:25  \n",
       "342394       91785  2016-03-16 05:16:22  "
      ]
     },
     "metadata": {},
     "output_type": "display_data"
    },
    {
     "name": "stdout",
     "output_type": "stream",
     "text": [
      "Количество пропусков в таблице: 181077 \n",
      "\n",
      "DateCrawled              0\n",
      "Price                    0\n",
      "VehicleType          37490\n",
      "RegistrationYear         0\n",
      "Gearbox              19833\n",
      "Power                    0\n",
      "Model                19705\n",
      "Kilometer                0\n",
      "RegistrationMonth        0\n",
      "FuelType             32895\n",
      "Brand                    0\n",
      "Repaired             71154\n",
      "DateCreated              0\n",
      "NumberOfPictures         0\n",
      "PostalCode               0\n",
      "LastSeen                 0\n",
      "dtype: int64 \n",
      "\n",
      "Количество дубликатов в таблице: 4\n"
     ]
    },
    {
     "data": {
      "image/png": "[encoded data removed]",
      "text/plain": [
       "<Figure size 1080x1440 with 9 Axes>"
      ]
     },
     "metadata": {},
     "output_type": "display_data"
    }
   ],
   "source": [
    "data = pd.read_csv('autos.csv')\n",
    "start(data)"
   ]
  },
  {
   "cell_type": "markdown",
   "metadata": {},
   "source": [
    "По первому взгляду мы обнаружили `4 дубликата`, много пропусков в разных колонках. Так же гистограммы показали нам некоторые особенности признаков. Например по столбцу киллометража видно, что большинство машин очень не новы, а с большим пробегом. Фотографий в объявлениях очень мало или нет вовсе, а в признаках о годе регистрации и мощности авто есть много выбросов. Так же в столбце цены много машин имеет очень маленькую стоимость или равна нулю. В дальнейшем обязательно обратим на это внимание."
   ]
  },
  {
   "cell_type": "markdown",
   "metadata": {},
   "source": [
    "И так, приступим. Для начала переименуем столбцы в привычный нам вид и приведём всё к нижнему регистру."
   ]
  },
  {
   "cell_type": "code",
   "execution_count": 5,
   "metadata": {
    "scrolled": false
   },
   "outputs": [
    {
     "data": {
      "text/html": [
       "<div>\n",
       "<style scoped>\n",
       "    .dataframe tbody tr th:only-of-type {\n",
       "        vertical-align: middle;\n",
       "    }\n",
       "\n",
       "    .dataframe tbody tr th {\n",
       "        vertical-align: top;\n",
       "    }\n",
       "\n",
       "    .dataframe thead th {\n",
       "        text-align: right;\n",
       "    }\n",
       "</style>\n",
       "<table border=\"1\" class=\"dataframe\">\n",
       "  <thead>\n",
       "    <tr style=\"text-align: right;\">\n",
       "      <th></th>\n",
       "      <th>date_crawled</th>\n",
       "      <th>price</th>\n",
       "      <th>vehicle_type</th>\n",
       "      <th>registration_year</th>\n",
       "      <th>gearbox</th>\n",
       "      <th>power</th>\n",
       "      <th>model</th>\n",
       "      <th>kilometer</th>\n",
       "      <th>registration_month</th>\n",
       "      <th>fuel_type</th>\n",
       "      <th>brand</th>\n",
       "      <th>repaired</th>\n",
       "      <th>date_created</th>\n",
       "      <th>number_of_pictures</th>\n",
       "      <th>postal_code</th>\n",
       "      <th>last_seen</th>\n",
       "    </tr>\n",
       "  </thead>\n",
       "  <tbody>\n",
       "    <tr>\n",
       "      <th>0</th>\n",
       "      <td>2016-03-24 11:52:17</td>\n",
       "      <td>480</td>\n",
       "      <td>NaN</td>\n",
       "      <td>1993</td>\n",
       "      <td>manual</td>\n",
       "      <td>0</td>\n",
       "      <td>golf</td>\n",
       "      <td>150000</td>\n",
       "      <td>0</td>\n",
       "      <td>petrol</td>\n",
       "      <td>volkswagen</td>\n",
       "      <td>NaN</td>\n",
       "      <td>2016-03-24 00:00:00</td>\n",
       "      <td>0</td>\n",
       "      <td>70435</td>\n",
       "      <td>2016-04-07 03:16:57</td>\n",
       "    </tr>\n",
       "    <tr>\n",
       "      <th>1</th>\n",
       "      <td>2016-03-24 10:58:45</td>\n",
       "      <td>18300</td>\n",
       "      <td>coupe</td>\n",
       "      <td>2011</td>\n",
       "      <td>manual</td>\n",
       "      <td>190</td>\n",
       "      <td>NaN</td>\n",
       "      <td>125000</td>\n",
       "      <td>5</td>\n",
       "      <td>gasoline</td>\n",
       "      <td>audi</td>\n",
       "      <td>yes</td>\n",
       "      <td>2016-03-24 00:00:00</td>\n",
       "      <td>0</td>\n",
       "      <td>66954</td>\n",
       "      <td>2016-04-07 01:46:50</td>\n",
       "    </tr>\n",
       "    <tr>\n",
       "      <th>2</th>\n",
       "      <td>2016-03-14 12:52:21</td>\n",
       "      <td>9800</td>\n",
       "      <td>suv</td>\n",
       "      <td>2004</td>\n",
       "      <td>auto</td>\n",
       "      <td>163</td>\n",
       "      <td>grand</td>\n",
       "      <td>125000</td>\n",
       "      <td>8</td>\n",
       "      <td>gasoline</td>\n",
       "      <td>jeep</td>\n",
       "      <td>NaN</td>\n",
       "      <td>2016-03-14 00:00:00</td>\n",
       "      <td>0</td>\n",
       "      <td>90480</td>\n",
       "      <td>2016-04-05 12:47:46</td>\n",
       "    </tr>\n",
       "  </tbody>\n",
       "</table>\n",
       "</div>"
      ],
      "text/plain": [
       "          date_crawled  price vehicle_type  registration_year gearbox  power  \\\n",
       "0  2016-03-24 11:52:17    480          NaN               1993  manual      0   \n",
       "1  2016-03-24 10:58:45  18300        coupe               2011  manual    190   \n",
       "2  2016-03-14 12:52:21   9800          suv               2004    auto    163   \n",
       "\n",
       "   model  kilometer  registration_month fuel_type       brand repaired  \\\n",
       "0   golf     150000                   0    petrol  volkswagen      NaN   \n",
       "1    NaN     125000                   5  gasoline        audi      yes   \n",
       "2  grand     125000                   8  gasoline        jeep      NaN   \n",
       "\n",
       "          date_created  number_of_pictures  postal_code            last_seen  \n",
       "0  2016-03-24 00:00:00                   0        70435  2016-04-07 03:16:57  \n",
       "1  2016-03-24 00:00:00                   0        66954  2016-04-07 01:46:50  \n",
       "2  2016-03-14 00:00:00                   0        90480  2016-04-05 12:47:46  "
      ]
     },
     "execution_count": 5,
     "metadata": {},
     "output_type": "execute_result"
    }
   ],
   "source": [
    "data.columns = data.columns.str.replace(r\"([A-Z])\", r\" \\1\").str.lower().str.replace(' ', '_').str[1:]\n",
    "data.head(3)"
   ]
  },
  {
   "cell_type": "code",
   "execution_count": 6,
   "metadata": {},
   "outputs": [
    {
     "data": {
      "text/html": [
       "<div>\n",
       "<style scoped>\n",
       "    .dataframe tbody tr th:only-of-type {\n",
       "        vertical-align: middle;\n",
       "    }\n",
       "\n",
       "    .dataframe tbody tr th {\n",
       "        vertical-align: top;\n",
       "    }\n",
       "\n",
       "    .dataframe thead th {\n",
       "        text-align: right;\n",
       "    }\n",
       "</style>\n",
       "<table border=\"1\" class=\"dataframe\">\n",
       "  <thead>\n",
       "    <tr style=\"text-align: right;\">\n",
       "      <th></th>\n",
       "      <th>date_crawled</th>\n",
       "      <th>price</th>\n",
       "      <th>vehicle_type</th>\n",
       "      <th>registration_year</th>\n",
       "      <th>gearbox</th>\n",
       "      <th>power</th>\n",
       "      <th>model</th>\n",
       "      <th>kilometer</th>\n",
       "      <th>registration_month</th>\n",
       "      <th>fuel_type</th>\n",
       "      <th>brand</th>\n",
       "      <th>repaired</th>\n",
       "      <th>date_created</th>\n",
       "      <th>number_of_pictures</th>\n",
       "      <th>postal_code</th>\n",
       "      <th>last_seen</th>\n",
       "    </tr>\n",
       "  </thead>\n",
       "  <tbody>\n",
       "    <tr>\n",
       "      <th>0</th>\n",
       "      <td>2016-03-24 11:52:17</td>\n",
       "      <td>480</td>\n",
       "      <td>NaN</td>\n",
       "      <td>1993</td>\n",
       "      <td>manual</td>\n",
       "      <td>0</td>\n",
       "      <td>golf</td>\n",
       "      <td>150000</td>\n",
       "      <td>0</td>\n",
       "      <td>petrol</td>\n",
       "      <td>volkswagen</td>\n",
       "      <td>NaN</td>\n",
       "      <td>2016-03-24 00:00:00</td>\n",
       "      <td>0</td>\n",
       "      <td>70435</td>\n",
       "      <td>2016-04-07 03:16:57</td>\n",
       "    </tr>\n",
       "    <tr>\n",
       "      <th>1</th>\n",
       "      <td>2016-03-24 10:58:45</td>\n",
       "      <td>18300</td>\n",
       "      <td>coupe</td>\n",
       "      <td>2011</td>\n",
       "      <td>manual</td>\n",
       "      <td>190</td>\n",
       "      <td>NaN</td>\n",
       "      <td>125000</td>\n",
       "      <td>5</td>\n",
       "      <td>gasoline</td>\n",
       "      <td>audi</td>\n",
       "      <td>yes</td>\n",
       "      <td>2016-03-24 00:00:00</td>\n",
       "      <td>0</td>\n",
       "      <td>66954</td>\n",
       "      <td>2016-04-07 01:46:50</td>\n",
       "    </tr>\n",
       "    <tr>\n",
       "      <th>2</th>\n",
       "      <td>2016-03-14 12:52:21</td>\n",
       "      <td>9800</td>\n",
       "      <td>suv</td>\n",
       "      <td>2004</td>\n",
       "      <td>auto</td>\n",
       "      <td>163</td>\n",
       "      <td>grand</td>\n",
       "      <td>125000</td>\n",
       "      <td>8</td>\n",
       "      <td>gasoline</td>\n",
       "      <td>jeep</td>\n",
       "      <td>NaN</td>\n",
       "      <td>2016-03-14 00:00:00</td>\n",
       "      <td>0</td>\n",
       "      <td>90480</td>\n",
       "      <td>2016-04-05 12:47:46</td>\n",
       "    </tr>\n",
       "  </tbody>\n",
       "</table>\n",
       "</div>"
      ],
      "text/plain": [
       "          date_crawled  price vehicle_type  registration_year gearbox  power  \\\n",
       "0  2016-03-24 11:52:17    480          NaN               1993  manual      0   \n",
       "1  2016-03-24 10:58:45  18300        coupe               2011  manual    190   \n",
       "2  2016-03-14 12:52:21   9800          suv               2004    auto    163   \n",
       "\n",
       "   model  kilometer  registration_month fuel_type       brand repaired  \\\n",
       "0   golf     150000                   0    petrol  volkswagen      NaN   \n",
       "1    NaN     125000                   5  gasoline        audi      yes   \n",
       "2  grand     125000                   8  gasoline        jeep      NaN   \n",
       "\n",
       "          date_created  number_of_pictures  postal_code            last_seen  \n",
       "0  2016-03-24 00:00:00                   0        70435  2016-04-07 03:16:57  \n",
       "1  2016-03-24 00:00:00                   0        66954  2016-04-07 01:46:50  \n",
       "2  2016-03-14 00:00:00                   0        90480  2016-04-05 12:47:46  "
      ]
     },
     "execution_count": 6,
     "metadata": {},
     "output_type": "execute_result"
    }
   ],
   "source": [
    "data.columns = [re.sub(r'(?<=[a-z])(?=[A-Z0-9])|(?<=[A-Z0-9])(?=[A-Z][a-z\\d])', '_', col).lower()\n",
    "                for col in data.columns]\n",
    "data.head(3)"
   ]
  },
  {
   "cell_type": "markdown",
   "metadata": {},
   "source": [
    "Далее удалим из таблицы столбцы, которые *точно не понадобятся* нам для обучения моделей. (`date_crawled, registration_month, date_created, number_of_pictures, postal_code, last_seen`)"
   ]
  },
  {
   "cell_type": "code",
   "execution_count": 7,
   "metadata": {},
   "outputs": [
    {
     "data": {
      "text/html": [
       "<div>\n",
       "<style scoped>\n",
       "    .dataframe tbody tr th:only-of-type {\n",
       "        vertical-align: middle;\n",
       "    }\n",
       "\n",
       "    .dataframe tbody tr th {\n",
       "        vertical-align: top;\n",
       "    }\n",
       "\n",
       "    .dataframe thead th {\n",
       "        text-align: right;\n",
       "    }\n",
       "</style>\n",
       "<table border=\"1\" class=\"dataframe\">\n",
       "  <thead>\n",
       "    <tr style=\"text-align: right;\">\n",
       "      <th></th>\n",
       "      <th>price</th>\n",
       "      <th>vehicle_type</th>\n",
       "      <th>registration_year</th>\n",
       "      <th>gearbox</th>\n",
       "      <th>power</th>\n",
       "      <th>model</th>\n",
       "      <th>kilometer</th>\n",
       "      <th>fuel_type</th>\n",
       "      <th>brand</th>\n",
       "      <th>repaired</th>\n",
       "    </tr>\n",
       "  </thead>\n",
       "  <tbody>\n",
       "    <tr>\n",
       "      <th>0</th>\n",
       "      <td>480</td>\n",
       "      <td>NaN</td>\n",
       "      <td>1993</td>\n",
       "      <td>manual</td>\n",
       "      <td>0</td>\n",
       "      <td>golf</td>\n",
       "      <td>150000</td>\n",
       "      <td>petrol</td>\n",
       "      <td>volkswagen</td>\n",
       "      <td>NaN</td>\n",
       "    </tr>\n",
       "    <tr>\n",
       "      <th>1</th>\n",
       "      <td>18300</td>\n",
       "      <td>coupe</td>\n",
       "      <td>2011</td>\n",
       "      <td>manual</td>\n",
       "      <td>190</td>\n",
       "      <td>NaN</td>\n",
       "      <td>125000</td>\n",
       "      <td>gasoline</td>\n",
       "      <td>audi</td>\n",
       "      <td>yes</td>\n",
       "    </tr>\n",
       "    <tr>\n",
       "      <th>2</th>\n",
       "      <td>9800</td>\n",
       "      <td>suv</td>\n",
       "      <td>2004</td>\n",
       "      <td>auto</td>\n",
       "      <td>163</td>\n",
       "      <td>grand</td>\n",
       "      <td>125000</td>\n",
       "      <td>gasoline</td>\n",
       "      <td>jeep</td>\n",
       "      <td>NaN</td>\n",
       "    </tr>\n",
       "  </tbody>\n",
       "</table>\n",
       "</div>"
      ],
      "text/plain": [
       "   price vehicle_type  registration_year gearbox  power  model  kilometer  \\\n",
       "0    480          NaN               1993  manual      0   golf     150000   \n",
       "1  18300        coupe               2011  manual    190    NaN     125000   \n",
       "2   9800          suv               2004    auto    163  grand     125000   \n",
       "\n",
       "  fuel_type       brand repaired  \n",
       "0    petrol  volkswagen      NaN  \n",
       "1  gasoline        audi      yes  \n",
       "2  gasoline        jeep      NaN  "
      ]
     },
     "execution_count": 7,
     "metadata": {},
     "output_type": "execute_result"
    }
   ],
   "source": [
    "data = data.drop(['date_crawled', 'registration_month', 'date_created', 'number_of_pictures',\\\n",
    "                  'postal_code', 'last_seen'], axis=1)\n",
    "data.head(3)"
   ]
  },
  {
   "cell_type": "markdown",
   "metadata": {},
   "source": [
    "Удалили именно эти колонки так как от их показателей не зависит цена продаваемого авто. Например колонка с количеством фотографий. Стоимость не уменьшится если их не будет вовсе или не увеличится если их будет много. Так же и дата создания объявления или последний раз, когда продавец был на платформе. И так далее."
   ]
  },
  {
   "cell_type": "markdown",
   "metadata": {},
   "source": [
    "Первый взляд на данные показал, что есть `4 дубликата`. Посмотрим на их количество после удаления не нужных нам столбцов. Возможно появятся неявные дубликаты."
   ]
  },
  {
   "cell_type": "code",
   "execution_count": 8,
   "metadata": {},
   "outputs": [
    {
     "data": {
      "text/html": [
       "<div>\n",
       "<style scoped>\n",
       "    .dataframe tbody tr th:only-of-type {\n",
       "        vertical-align: middle;\n",
       "    }\n",
       "\n",
       "    .dataframe tbody tr th {\n",
       "        vertical-align: top;\n",
       "    }\n",
       "\n",
       "    .dataframe thead th {\n",
       "        text-align: right;\n",
       "    }\n",
       "</style>\n",
       "<table border=\"1\" class=\"dataframe\">\n",
       "  <thead>\n",
       "    <tr style=\"text-align: right;\">\n",
       "      <th></th>\n",
       "      <th>price</th>\n",
       "      <th>vehicle_type</th>\n",
       "      <th>registration_year</th>\n",
       "      <th>gearbox</th>\n",
       "      <th>power</th>\n",
       "      <th>model</th>\n",
       "      <th>kilometer</th>\n",
       "      <th>fuel_type</th>\n",
       "      <th>brand</th>\n",
       "      <th>repaired</th>\n",
       "    </tr>\n",
       "  </thead>\n",
       "  <tbody>\n",
       "    <tr>\n",
       "      <th>1117</th>\n",
       "      <td>950</td>\n",
       "      <td>small</td>\n",
       "      <td>1999</td>\n",
       "      <td>manual</td>\n",
       "      <td>60</td>\n",
       "      <td>polo</td>\n",
       "      <td>150000</td>\n",
       "      <td>petrol</td>\n",
       "      <td>volkswagen</td>\n",
       "      <td>no</td>\n",
       "    </tr>\n",
       "    <tr>\n",
       "      <th>1396</th>\n",
       "      <td>0</td>\n",
       "      <td>NaN</td>\n",
       "      <td>2000</td>\n",
       "      <td>NaN</td>\n",
       "      <td>0</td>\n",
       "      <td>NaN</td>\n",
       "      <td>150000</td>\n",
       "      <td>NaN</td>\n",
       "      <td>volvo</td>\n",
       "      <td>NaN</td>\n",
       "    </tr>\n",
       "    <tr>\n",
       "      <th>2169</th>\n",
       "      <td>0</td>\n",
       "      <td>coupe</td>\n",
       "      <td>2002</td>\n",
       "      <td>manual</td>\n",
       "      <td>129</td>\n",
       "      <td>c_klasse</td>\n",
       "      <td>150000</td>\n",
       "      <td>petrol</td>\n",
       "      <td>mercedes_benz</td>\n",
       "      <td>no</td>\n",
       "    </tr>\n",
       "    <tr>\n",
       "      <th>2833</th>\n",
       "      <td>1499</td>\n",
       "      <td>small</td>\n",
       "      <td>2001</td>\n",
       "      <td>manual</td>\n",
       "      <td>58</td>\n",
       "      <td>corsa</td>\n",
       "      <td>150000</td>\n",
       "      <td>petrol</td>\n",
       "      <td>opel</td>\n",
       "      <td>no</td>\n",
       "    </tr>\n",
       "    <tr>\n",
       "      <th>3025</th>\n",
       "      <td>2800</td>\n",
       "      <td>wagon</td>\n",
       "      <td>2005</td>\n",
       "      <td>NaN</td>\n",
       "      <td>0</td>\n",
       "      <td>touran</td>\n",
       "      <td>150000</td>\n",
       "      <td>gasoline</td>\n",
       "      <td>volkswagen</td>\n",
       "      <td>no</td>\n",
       "    </tr>\n",
       "    <tr>\n",
       "      <th>...</th>\n",
       "      <td>...</td>\n",
       "      <td>...</td>\n",
       "      <td>...</td>\n",
       "      <td>...</td>\n",
       "      <td>...</td>\n",
       "      <td>...</td>\n",
       "      <td>...</td>\n",
       "      <td>...</td>\n",
       "      <td>...</td>\n",
       "      <td>...</td>\n",
       "    </tr>\n",
       "    <tr>\n",
       "      <th>354352</th>\n",
       "      <td>6500</td>\n",
       "      <td>sedan</td>\n",
       "      <td>2003</td>\n",
       "      <td>auto</td>\n",
       "      <td>145</td>\n",
       "      <td>e_klasse</td>\n",
       "      <td>150000</td>\n",
       "      <td>gasoline</td>\n",
       "      <td>mercedes_benz</td>\n",
       "      <td>no</td>\n",
       "    </tr>\n",
       "    <tr>\n",
       "      <th>354355</th>\n",
       "      <td>4400</td>\n",
       "      <td>sedan</td>\n",
       "      <td>2008</td>\n",
       "      <td>manual</td>\n",
       "      <td>105</td>\n",
       "      <td>leon</td>\n",
       "      <td>150000</td>\n",
       "      <td>gasoline</td>\n",
       "      <td>seat</td>\n",
       "      <td>no</td>\n",
       "    </tr>\n",
       "    <tr>\n",
       "      <th>354358</th>\n",
       "      <td>1490</td>\n",
       "      <td>small</td>\n",
       "      <td>1998</td>\n",
       "      <td>manual</td>\n",
       "      <td>50</td>\n",
       "      <td>lupo</td>\n",
       "      <td>150000</td>\n",
       "      <td>petrol</td>\n",
       "      <td>volkswagen</td>\n",
       "      <td>no</td>\n",
       "    </tr>\n",
       "    <tr>\n",
       "      <th>354359</th>\n",
       "      <td>7900</td>\n",
       "      <td>sedan</td>\n",
       "      <td>2010</td>\n",
       "      <td>manual</td>\n",
       "      <td>140</td>\n",
       "      <td>golf</td>\n",
       "      <td>150000</td>\n",
       "      <td>gasoline</td>\n",
       "      <td>volkswagen</td>\n",
       "      <td>no</td>\n",
       "    </tr>\n",
       "    <tr>\n",
       "      <th>354363</th>\n",
       "      <td>1150</td>\n",
       "      <td>bus</td>\n",
       "      <td>2000</td>\n",
       "      <td>manual</td>\n",
       "      <td>0</td>\n",
       "      <td>zafira</td>\n",
       "      <td>150000</td>\n",
       "      <td>petrol</td>\n",
       "      <td>opel</td>\n",
       "      <td>no</td>\n",
       "    </tr>\n",
       "  </tbody>\n",
       "</table>\n",
       "<p>45040 rows × 10 columns</p>\n",
       "</div>"
      ],
      "text/plain": [
       "        price vehicle_type  registration_year gearbox  power     model  \\\n",
       "1117      950        small               1999  manual     60      polo   \n",
       "1396        0          NaN               2000     NaN      0       NaN   \n",
       "2169        0        coupe               2002  manual    129  c_klasse   \n",
       "2833     1499        small               2001  manual     58     corsa   \n",
       "3025     2800        wagon               2005     NaN      0    touran   \n",
       "...       ...          ...                ...     ...    ...       ...   \n",
       "354352   6500        sedan               2003    auto    145  e_klasse   \n",
       "354355   4400        sedan               2008  manual    105      leon   \n",
       "354358   1490        small               1998  manual     50      lupo   \n",
       "354359   7900        sedan               2010  manual    140      golf   \n",
       "354363   1150          bus               2000  manual      0    zafira   \n",
       "\n",
       "        kilometer fuel_type          brand repaired  \n",
       "1117       150000    petrol     volkswagen       no  \n",
       "1396       150000       NaN          volvo      NaN  \n",
       "2169       150000    petrol  mercedes_benz       no  \n",
       "2833       150000    petrol           opel       no  \n",
       "3025       150000  gasoline     volkswagen       no  \n",
       "...           ...       ...            ...      ...  \n",
       "354352     150000  gasoline  mercedes_benz       no  \n",
       "354355     150000  gasoline           seat       no  \n",
       "354358     150000    petrol     volkswagen       no  \n",
       "354359     150000  gasoline     volkswagen       no  \n",
       "354363     150000    petrol           opel       no  \n",
       "\n",
       "[45040 rows x 10 columns]"
      ]
     },
     "execution_count": 8,
     "metadata": {},
     "output_type": "execute_result"
    }
   ],
   "source": [
    "data[data.duplicated()]"
   ]
  },
  {
   "cell_type": "markdown",
   "metadata": {},
   "source": [
    "Да, действительно. Около 45040 дубликата. Удалим эти строки из таблицы."
   ]
  },
  {
   "cell_type": "code",
   "execution_count": 9,
   "metadata": {},
   "outputs": [
    {
     "data": {
      "text/plain": [
       "309329"
      ]
     },
     "execution_count": 9,
     "metadata": {},
     "output_type": "execute_result"
    }
   ],
   "source": [
    "data = data[~data.duplicated()]\n",
    "data.shape[0]"
   ]
  },
  {
   "cell_type": "markdown",
   "metadata": {},
   "source": [
    "Теперь будем рассматривать каждый признак отдельно. При наличии аномальных значений будем от них избавляться и решим вопрос с имеющимися пропусками в некоторых столбцах."
   ]
  },
  {
   "cell_type": "markdown",
   "metadata": {},
   "source": [
    "Первый признак `price`. Посторим гистограмму и подберём для неё такие настройки отображения, чтобы она была максимально показательна."
   ]
  },
  {
   "cell_type": "code",
   "execution_count": 10,
   "metadata": {
    "scrolled": false
   },
   "outputs": [
    {
     "data": {
      "image/png": "[encoded data removed]",
      "text/plain": [
       "<Figure size 1080x504 with 1 Axes>"
      ]
     },
     "metadata": {},
     "output_type": "display_data"
    }
   ],
   "source": [
    "data['price'].hist(bins=50);"
   ]
  },
  {
   "cell_type": "markdown",
   "metadata": {},
   "source": [
    "Видим достаточно плавное изменение цены. Без резких всплесков. Но видно и то, что цена начинается с `0`. Поменяем масштаб графика."
   ]
  },
  {
   "cell_type": "code",
   "execution_count": 11,
   "metadata": {
    "scrolled": false
   },
   "outputs": [
    {
     "data": {
      "image/png": "[encoded data removed]",
      "text/plain": [
       "<Figure size 1440x576 with 2 Axes>"
      ]
     },
     "metadata": {},
     "output_type": "display_data"
    }
   ],
   "source": [
    "var1 = data.query('price < 1000')['price']\n",
    "var2 = data.query('price > 5000')['price']\n",
    "\n",
    "fig, ax = plt.subplots(1, 2, figsize = (20,8))\n",
    "# fig.suptitle('Название', fontsize = 30, fontweight='bold')\n",
    "\n",
    "ax[0].hist(var1, bins=25)\n",
    "ax[0].set_title('Price < 1000')\n",
    "\n",
    "ax[1].hist(var2, bins=25)\n",
    "ax[1].set_title('Price > 5000')\n",
    "\n",
    "plt.show()"
   ]
  },
  {
   "cell_type": "markdown",
   "metadata": {},
   "source": [
    "Около `12000 продавцов` выставили `стоимость 0` или очень приближенную к `0`. Мы избавимся от этих данных, чтобы они не давали дополнительных искажений при обучении модели. Так же мы видим всплеск на `500`. Это популярная цена в данном диапазоне. Поэтому всё, что меньше `500` мы уберём из датасете. "
   ]
  },
  {
   "cell_type": "code",
   "execution_count": 12,
   "metadata": {},
   "outputs": [],
   "source": [
    "data = data.query('price >= 500')"
   ]
  },
  {
   "cell_type": "markdown",
   "metadata": {},
   "source": [
    "Далее признак `vehicle_type`. Это тип автомобильного кузова. При первичном осмотре данных в этом столце мы наблюдали `37490 пропуск`. Заполнить категориальный признак в нашем случае мы не имеем возможности, но и удалять такое количество данных так же мы не будем. Просто заполним значением `\"other\"`. Но для начала посмтрим уникальные значение на предмет неявных дубликатов."
   ]
  },
  {
   "cell_type": "code",
   "execution_count": 13,
   "metadata": {},
   "outputs": [
    {
     "data": {
      "text/plain": [
       "array(['coupe', 'suv', 'small', 'sedan', 'convertible', 'bus', 'wagon',\n",
       "       nan, 'other'], dtype=object)"
      ]
     },
     "execution_count": 13,
     "metadata": {},
     "output_type": "execute_result"
    }
   ],
   "source": [
    "data['vehicle_type'].unique()"
   ]
  },
  {
   "cell_type": "code",
   "execution_count": 14,
   "metadata": {},
   "outputs": [
    {
     "data": {
      "text/plain": [
       "0"
      ]
     },
     "execution_count": 14,
     "metadata": {},
     "output_type": "execute_result"
    }
   ],
   "source": [
    "data['vehicle_type'] = data['vehicle_type'].fillna('other')\n",
    "data['vehicle_type'].isna().sum()"
   ]
  },
  {
   "cell_type": "markdown",
   "metadata": {},
   "source": [
    "Отлично! Приступаем к признаку `registration_year`. Это год регистрации автомобиля. Пропусков нет, но посмотрим на уникальные значения столбца и построим график."
   ]
  },
  {
   "cell_type": "code",
   "execution_count": 15,
   "metadata": {},
   "outputs": [
    {
     "data": {
      "text/plain": [
       "array([1000, 1001, 1039, 1234, 1400, 1500, 1600, 1602, 1800, 1910, 1923,\n",
       "       1925, 1927, 1928, 1929, 1930, 1931, 1932, 1933, 1934, 1935, 1936,\n",
       "       1937, 1938, 1940, 1941, 1942, 1943, 1944, 1945, 1946, 1947, 1948,\n",
       "       1949, 1950, 1951, 1952, 1953, 1954, 1955, 1956, 1957, 1958, 1959,\n",
       "       1960, 1961, 1962, 1963, 1964, 1965, 1966, 1967, 1968, 1969, 1970,\n",
       "       1971, 1972, 1973, 1974, 1975, 1976, 1977, 1978, 1979, 1980, 1981,\n",
       "       1982, 1983, 1984, 1985, 1986, 1987, 1988, 1989, 1990, 1991, 1992,\n",
       "       1993, 1994, 1995, 1996, 1997, 1998, 1999, 2000, 2001, 2002, 2003,\n",
       "       2004, 2005, 2006, 2007, 2008, 2009, 2010, 2011, 2012, 2013, 2014,\n",
       "       2015, 2016, 2017, 2018, 2019, 2066, 2290, 2500, 2800, 2900, 3000,\n",
       "       3200, 3700, 3800, 4000, 4100, 4500, 4800, 5000, 5300, 5555, 5911,\n",
       "       6000, 7000, 7100, 7800, 8200, 8500, 8888, 9000, 9450, 9999],\n",
       "      dtype=int64)"
      ]
     },
     "execution_count": 15,
     "metadata": {},
     "output_type": "execute_result"
    }
   ],
   "source": [
    "data['registration_year'].sort_values().unique()"
   ]
  },
  {
   "cell_type": "code",
   "execution_count": 16,
   "metadata": {},
   "outputs": [
    {
     "data": {
      "image/png": "[encoded data removed]",
      "text/plain": [
       "<Figure size 1080x504 with 1 Axes>"
      ]
     },
     "metadata": {},
     "output_type": "display_data"
    }
   ],
   "source": [
    "data.query('registration_year >= 1980 & registration_year <= 2016')['registration_year'].hist(bins=50);"
   ]
  },
  {
   "cell_type": "markdown",
   "metadata": {},
   "source": [
    "У нас много разный выбросов в этом столбце. Постоив график из более \"адекватных лет\", мы принимаем решение оставить только годы регистрации `с 1990 по 2016`. Это именно тот год, когда выли выгружены объявления и сформирована таблица."
   ]
  },
  {
   "cell_type": "code",
   "execution_count": 17,
   "metadata": {},
   "outputs": [],
   "source": [
    "data = data.query('registration_year >= 1990 & registration_year <= 2016')"
   ]
  },
  {
   "cell_type": "markdown",
   "metadata": {},
   "source": [
    "Далее `gearbox`. Это тип коробки передач. Так же проверим уникальные значения."
   ]
  },
  {
   "cell_type": "code",
   "execution_count": 18,
   "metadata": {},
   "outputs": [
    {
     "data": {
      "text/plain": [
       "array(['manual', 'auto', nan], dtype=object)"
      ]
     },
     "execution_count": 18,
     "metadata": {},
     "output_type": "execute_result"
    }
   ],
   "source": [
    "data['gearbox'].unique()"
   ]
  },
  {
   "cell_type": "markdown",
   "metadata": {},
   "source": [
    "Хорошо. Так как на начальном этапе в таблице было `19833` пропусков, то замени пустые значения `\"unknown\"`."
   ]
  },
  {
   "cell_type": "code",
   "execution_count": 19,
   "metadata": {},
   "outputs": [
    {
     "data": {
      "text/plain": [
       "0"
      ]
     },
     "execution_count": 19,
     "metadata": {},
     "output_type": "execute_result"
    }
   ],
   "source": [
    "data['gearbox'] = data['gearbox'].fillna('unknown')\n",
    "data['gearbox'].isna().sum()"
   ]
  },
  {
   "cell_type": "markdown",
   "metadata": {},
   "source": [
    "Переходим к `power`. В этом столбце мощность авто (л. с.). Построим график, но уже масштаб будет брать такой, чтобы было понятно, так как при первоначальном ознакомлении с данными на графике было видно, что есть значительные аномалии.\n",
    "\n"
   ]
  },
  {
   "cell_type": "code",
   "execution_count": 20,
   "metadata": {},
   "outputs": [
    {
     "data": {
      "image/png": "[encoded data removed]",
      "text/plain": [
       "<Figure size 1080x504 with 1 Axes>"
      ]
     },
     "metadata": {},
     "output_type": "display_data"
    }
   ],
   "source": [
    "data.query('power < 2500')['power'].hist(bins=50);"
   ]
  },
  {
   "cell_type": "markdown",
   "metadata": {},
   "source": [
    "И ещё увеличим масштаб, чтобы было видно, что происходит в районе `0`."
   ]
  },
  {
   "cell_type": "code",
   "execution_count": 21,
   "metadata": {},
   "outputs": [
    {
     "data": {
      "image/png": "[encoded data removed]",
      "text/plain": [
       "<Figure size 1440x576 with 2 Axes>"
      ]
     },
     "metadata": {},
     "output_type": "display_data"
    }
   ],
   "source": [
    "var1 = data.query('power < 100')['power']\n",
    "var2 = data.query('power > 250 & power < 500')['power']\n",
    "\n",
    "fig, ax = plt.subplots(1, 2, figsize = (20,8))\n",
    "# fig.suptitle('Название', fontsize = 30, fontweight='bold')\n",
    "\n",
    "ax[0].hist(var1, bins=25)\n",
    "ax[0].set_title('Power < 100')\n",
    "\n",
    "ax[1].hist(var2, bins=25)\n",
    "ax[1].set_title('Power > 250')\n",
    "\n",
    "plt.show()"
   ]
  },
  {
   "cell_type": "markdown",
   "metadata": {},
   "source": [
    "Отлично! Теперь прекрасно видно. Очень много авто с мощностью 0. Заполним их медианой по бренду. "
   ]
  },
  {
   "cell_type": "code",
   "execution_count": 22,
   "metadata": {
    "scrolled": true
   },
   "outputs": [
    {
     "data": {
      "text/plain": [
       "0"
      ]
     },
     "execution_count": 22,
     "metadata": {},
     "output_type": "execute_result"
    }
   ],
   "source": [
    "data.loc[(data['power'] == 0), 'power'] = data.groupby('brand')['power'].median()\n",
    "data[data['power'] == 0]['power'].count()"
   ]
  },
  {
   "cell_type": "markdown",
   "metadata": {},
   "source": [
    "Хорошо. Оставим в датафрейме только те машины, которые укладываются по мощности в диапазон `от 30 до 450`."
   ]
  },
  {
   "cell_type": "code",
   "execution_count": 23,
   "metadata": {},
   "outputs": [],
   "source": [
    "data = data.loc[(data['power'] <= 450)]"
   ]
  },
  {
   "cell_type": "markdown",
   "metadata": {},
   "source": [
    "Далее `model`. Это модель автомобиля. Как обычно посмотрим уникальные отсортированные значения, на поиск неявных дубликатов. И заполним пропуски на значение `\"other\"`. (в начале было замечено `19705` в столбце)"
   ]
  },
  {
   "cell_type": "code",
   "execution_count": 24,
   "metadata": {
    "scrolled": true
   },
   "outputs": [
    {
     "data": {
      "text/plain": [
       "array(['100', '145', '147', '156', '159', '1_reihe', '1er', '200',\n",
       "       '2_reihe', '300c', '3_reihe', '3er', '4_reihe', '500', '5_reihe',\n",
       "       '5er', '601', '6_reihe', '6er', '7er', '80', '850', '90', '900',\n",
       "       '9000', '911', 'a1', 'a2', 'a3', 'a4', 'a5', 'a6', 'a8',\n",
       "       'a_klasse', 'accord', 'agila', 'alhambra', 'almera', 'altea',\n",
       "       'amarok', 'antara', 'arosa', 'astra', 'auris', 'avensis', 'aveo',\n",
       "       'aygo', 'b_klasse', 'b_max', 'beetle', 'berlingo', 'bora',\n",
       "       'boxster', 'bravo', 'c1', 'c2', 'c3', 'c4', 'c5', 'c_klasse',\n",
       "       'c_max', 'c_reihe', 'caddy', 'calibra', 'captiva', 'carisma',\n",
       "       'carnival', 'cayenne', 'cc', 'ceed', 'charade', 'cherokee',\n",
       "       'citigo', 'civic', 'cl', 'clio', 'clk', 'clubman', 'colt', 'combo',\n",
       "       'cooper', 'cordoba', 'corolla', 'corsa', 'cr_reihe', 'croma',\n",
       "       'crossfire', 'cuore', 'cx_reihe', 'defender', 'delta', 'discovery',\n",
       "       'doblo', 'ducato', 'duster', 'e_klasse', 'elefantino', 'eos',\n",
       "       'escort', 'espace', 'exeo', 'fabia', 'fiesta', 'focus', 'forester',\n",
       "       'forfour', 'fortwo', 'fox', 'freelander', 'fusion', 'g_klasse',\n",
       "       'galant', 'galaxy', 'getz', 'gl', 'glk', 'golf', 'grand', 'i3',\n",
       "       'i_reihe', 'ibiza', 'impreza', 'insignia', 'jazz', 'jetta',\n",
       "       'jimny', 'juke', 'justy', 'ka', 'kadett', 'kaefer', 'kalina',\n",
       "       'kalos', 'kangoo', 'kappa', 'kuga', 'laguna', 'lancer', 'lanos',\n",
       "       'legacy', 'leon', 'lodgy', 'logan', 'lupo', 'lybra', 'm_klasse',\n",
       "       'm_reihe', 'materia', 'matiz', 'megane', 'meriva', 'micra', 'mii',\n",
       "       'modus', 'mondeo', 'move', 'musa', 'mustang', 'mx_reihe', 'navara',\n",
       "       'niva', 'note', 'nubira', 'octavia', 'omega', 'one', 'other',\n",
       "       'outlander', 'pajero', 'panda', 'passat', 'phaeton', 'picanto',\n",
       "       'polo', 'primera', 'ptcruiser', 'punto', 'q3', 'q5', 'q7',\n",
       "       'qashqai', 'r19', 'range_rover', 'range_rover_evoque',\n",
       "       'range_rover_sport', 'rangerover', 'rav', 'rio', 'roadster',\n",
       "       'roomster', 'rx_reihe', 's60', 's_klasse', 's_max', 's_type',\n",
       "       'samara', 'sandero', 'santa', 'scenic', 'scirocco', 'seicento',\n",
       "       'sharan', 'signum', 'sirion', 'sl', 'slk', 'sorento', 'spark',\n",
       "       'spider', 'sportage', 'sprinter', 'stilo', 'superb', 'swift',\n",
       "       'terios', 'tigra', 'tiguan', 'toledo', 'touareg', 'touran',\n",
       "       'transit', 'transporter', 'tt', 'tucson', 'twingo', 'up', 'v40',\n",
       "       'v50', 'v60', 'v70', 'v_klasse', 'vectra', 'verso', 'viano',\n",
       "       'vito', 'vivaro', 'voyager', 'wrangler', 'x_reihe', 'x_trail',\n",
       "       'x_type', 'xc_reihe', 'yaris', 'yeti', 'ypsilon', 'z_reihe',\n",
       "       'zafira', nan], dtype=object)"
      ]
     },
     "execution_count": 24,
     "metadata": {},
     "output_type": "execute_result"
    }
   ],
   "source": [
    "data['model'].sort_values().unique()"
   ]
  },
  {
   "cell_type": "code",
   "execution_count": 25,
   "metadata": {},
   "outputs": [
    {
     "data": {
      "text/plain": [
       "0"
      ]
     },
     "execution_count": 25,
     "metadata": {},
     "output_type": "execute_result"
    }
   ],
   "source": [
    "data['model'] = data['model'].fillna('other')\n",
    "data['model'].isna().sum()"
   ]
  },
  {
   "cell_type": "markdown",
   "metadata": {},
   "source": [
    "Столбец `kilometer`. Это данные о пробеге (км). Пока первый признак в котором ничего не будем менять. Очень много машин, которые имеют пробег около `150000 км`. Но есть и те, которые не так много колесили по дорогам. Поэтому переходим к следующему столбцу."
   ]
  },
  {
   "cell_type": "markdown",
   "metadata": {},
   "source": [
    "Это `fuel_type` - тип топлива. Смотрим уникальные значение и заполним `32895` пропуска, которые были на начальном этапе."
   ]
  },
  {
   "cell_type": "code",
   "execution_count": 26,
   "metadata": {},
   "outputs": [
    {
     "data": {
      "text/plain": [
       "array(['cng', 'electric', 'gasoline', 'hybrid', 'lpg', 'other', 'petrol',\n",
       "       nan], dtype=object)"
      ]
     },
     "execution_count": 26,
     "metadata": {},
     "output_type": "execute_result"
    }
   ],
   "source": [
    "data['fuel_type'].sort_values().unique()"
   ]
  },
  {
   "cell_type": "code",
   "execution_count": 27,
   "metadata": {},
   "outputs": [
    {
     "data": {
      "text/plain": [
       "0"
      ]
     },
     "execution_count": 27,
     "metadata": {},
     "output_type": "execute_result"
    }
   ],
   "source": [
    "data['fuel_type'] = data['fuel_type'].fillna('other')\n",
    "data['fuel_type'].isna().sum()"
   ]
  },
  {
   "cell_type": "markdown",
   "metadata": {},
   "source": [
    "Далее `brand`. Это марка автомобиля. Пропусков нет, но посмотрим на уникальные отосортированые значения."
   ]
  },
  {
   "cell_type": "code",
   "execution_count": 28,
   "metadata": {},
   "outputs": [
    {
     "data": {
      "text/plain": [
       "array(['alfa_romeo', 'audi', 'bmw', 'chevrolet', 'chrysler', 'citroen',\n",
       "       'dacia', 'daewoo', 'daihatsu', 'fiat', 'ford', 'honda', 'hyundai',\n",
       "       'jaguar', 'jeep', 'kia', 'lada', 'lancia', 'land_rover', 'mazda',\n",
       "       'mercedes_benz', 'mini', 'mitsubishi', 'nissan', 'opel', 'peugeot',\n",
       "       'porsche', 'renault', 'rover', 'saab', 'seat', 'skoda', 'smart',\n",
       "       'sonstige_autos', 'subaru', 'suzuki', 'toyota', 'trabant',\n",
       "       'volkswagen', 'volvo'], dtype=object)"
      ]
     },
     "execution_count": 28,
     "metadata": {},
     "output_type": "execute_result"
    }
   ],
   "source": [
    "data['brand'].sort_values().unique()"
   ]
  },
  {
   "cell_type": "markdown",
   "metadata": {},
   "source": [
    "Отлично. Далее `repaired`. Это была машина в ремонте или нет? Очень много пропусков. Аж `71154` на начальном этапе.Удалить строки не можем, так как столбец важен для нас. Посмотрим сколько проехали авто, которые точно было в ремонте."
   ]
  },
  {
   "cell_type": "code",
   "execution_count": 29,
   "metadata": {},
   "outputs": [
    {
     "data": {
      "image/png": "[encoded data removed]",
      "text/plain": [
       "<Figure size 1080x504 with 1 Axes>"
      ]
     },
     "metadata": {},
     "output_type": "display_data"
    }
   ],
   "source": [
    "data.query('repaired == \"yes\"')['kilometer'].hist();"
   ]
  },
  {
   "cell_type": "markdown",
   "metadata": {},
   "source": [
    "По графику видно, что в основном те машины, что проехали больше 120000 киллометров, были в ремонте. Так и заполним пустые значения."
   ]
  },
  {
   "cell_type": "code",
   "execution_count": 30,
   "metadata": {},
   "outputs": [
    {
     "data": {
      "text/plain": [
       "0"
      ]
     },
     "execution_count": 30,
     "metadata": {},
     "output_type": "execute_result"
    }
   ],
   "source": [
    "data.loc[data['kilometer'] >= 120000, 'repaired'] = 'yes'\n",
    "data.loc[data['kilometer'] < 120000, 'repaired'] = 'no'\n",
    "data['repaired'].isna().sum()"
   ]
  },
  {
   "cell_type": "markdown",
   "metadata": {},
   "source": [
    "Обработали все признаки. Проверим на пропуски повторно наш датасет и посмотрим на его общее состояние."
   ]
  },
  {
   "cell_type": "code",
   "execution_count": 31,
   "metadata": {},
   "outputs": [
    {
     "name": "stdout",
     "output_type": "stream",
     "text": [
      "<class 'pandas.core.frame.DataFrame'>\n",
      "Int64Index: 235462 entries, 1 to 354368\n",
      "Data columns (total 10 columns):\n",
      " #   Column             Non-Null Count   Dtype  \n",
      "---  ------             --------------   -----  \n",
      " 0   price              235462 non-null  int64  \n",
      " 1   vehicle_type       235462 non-null  object \n",
      " 2   registration_year  235462 non-null  int64  \n",
      " 3   gearbox            235462 non-null  object \n",
      " 4   power              235462 non-null  float64\n",
      " 5   model              235462 non-null  object \n",
      " 6   kilometer          235462 non-null  int64  \n",
      " 7   fuel_type          235462 non-null  object \n",
      " 8   brand              235462 non-null  object \n",
      " 9   repaired           235462 non-null  object \n",
      "dtypes: float64(1), int64(3), object(6)\n",
      "memory usage: 19.8+ MB\n"
     ]
    }
   ],
   "source": [
    "data.info()"
   ]
  },
  {
   "cell_type": "code",
   "execution_count": 32,
   "metadata": {},
   "outputs": [
    {
     "data": {
      "text/plain": [
       "price                0\n",
       "vehicle_type         0\n",
       "registration_year    0\n",
       "gearbox              0\n",
       "power                0\n",
       "model                0\n",
       "kilometer            0\n",
       "fuel_type            0\n",
       "brand                0\n",
       "repaired             0\n",
       "dtype: int64"
      ]
     },
     "execution_count": 32,
     "metadata": {},
     "output_type": "execute_result"
    }
   ],
   "source": [
    "data.isna().sum()"
   ]
  },
  {
   "cell_type": "markdown",
   "metadata": {},
   "source": [
    "Пропусков нет. Оставшихся данных вполне должно хватить для нашей задачи, с учётом того, что это уже подготовленные данные. Построим схему корреляции и посмотрим, вдруг у нас в признаках есть очень зависимые пары в количественных данных."
   ]
  },
  {
   "cell_type": "code",
   "execution_count": 33,
   "metadata": {},
   "outputs": [
    {
     "data": {
      "image/png": "[encoded data removed]",
      "text/plain": [
       "<Figure size 1080x504 with 2 Axes>"
      ]
     },
     "metadata": {},
     "output_type": "display_data"
    }
   ],
   "source": [
    "sns.heatmap(data.corr());"
   ]
  },
  {
   "cell_type": "markdown",
   "metadata": {},
   "source": [
    "Таких нет."
   ]
  },
  {
   "cell_type": "markdown",
   "metadata": {},
   "source": [
    "Следующим этапом будет разбиение таблицы на обучающую, валидационную и тестовые выборки. `(60|20|20)`"
   ]
  },
  {
   "cell_type": "code",
   "execution_count": 34,
   "metadata": {},
   "outputs": [
    {
     "name": "stdout",
     "output_type": "stream",
     "text": [
      "141277\n",
      "47093\n",
      "47092\n"
     ]
    }
   ],
   "source": [
    "features = data.drop('price', axis=1)\n",
    "target = data['price']\n",
    "\n",
    "features_train, features_valid, target_train, target_valid = train_test_split(\n",
    "    features, target, test_size=0.4, random_state=12345)\n",
    "\n",
    "features_test, features_valid, target_test, target_valid = train_test_split(\n",
    "    features_valid, target_valid, test_size=0.5, random_state=123456)\n",
    "\n",
    "print(features_train.shape[0])\n",
    "print(features_valid.shape[0])\n",
    "print(target_test.shape[0])"
   ]
  },
  {
   "cell_type": "markdown",
   "metadata": {},
   "source": [
    "Взглянем одним глазком на обучающую выборку. У нас есть `6` категориальных признаков. И так как мы будем обучать разные модели, то для некоторых из них нужно закодировать категориальные признаки как однократный числовой массив. Используем `OneHotEncoder` для линейной модели. А для \"дерева\" будет использовать порядковое кодирование `OrdinalEncoder` (это позволит увеличить скорость обучения)."
   ]
  },
  {
   "cell_type": "markdown",
   "metadata": {},
   "source": [
    "Для начала скопируем выборки, чтобы не менять исходные."
   ]
  },
  {
   "cell_type": "code",
   "execution_count": 35,
   "metadata": {},
   "outputs": [],
   "source": [
    "features_train_OHE = features_train.copy()\n",
    "features_valid_OHE = features_valid.copy()\n",
    "features_test_OHE = features_test.copy()\n",
    "\n",
    "features_train_OE = features_train.copy()\n",
    "features_valid_OE = features_valid.copy()\n",
    "features_test_OE = features_test.copy()"
   ]
  },
  {
   "cell_type": "code",
   "execution_count": 36,
   "metadata": {
    "scrolled": false
   },
   "outputs": [
    {
     "data": {
      "text/html": [
       "<div>\n",
       "<style scoped>\n",
       "    .dataframe tbody tr th:only-of-type {\n",
       "        vertical-align: middle;\n",
       "    }\n",
       "\n",
       "    .dataframe tbody tr th {\n",
       "        vertical-align: top;\n",
       "    }\n",
       "\n",
       "    .dataframe thead th {\n",
       "        text-align: right;\n",
       "    }\n",
       "</style>\n",
       "<table border=\"1\" class=\"dataframe\">\n",
       "  <thead>\n",
       "    <tr style=\"text-align: right;\">\n",
       "      <th></th>\n",
       "      <th>vehicle_type</th>\n",
       "      <th>registration_year</th>\n",
       "      <th>gearbox</th>\n",
       "      <th>power</th>\n",
       "      <th>model</th>\n",
       "      <th>kilometer</th>\n",
       "      <th>fuel_type</th>\n",
       "      <th>brand</th>\n",
       "      <th>repaired</th>\n",
       "    </tr>\n",
       "  </thead>\n",
       "  <tbody>\n",
       "    <tr>\n",
       "      <th>298937</th>\n",
       "      <td>sedan</td>\n",
       "      <td>2003</td>\n",
       "      <td>manual</td>\n",
       "      <td>113.0</td>\n",
       "      <td>megane</td>\n",
       "      <td>150000</td>\n",
       "      <td>petrol</td>\n",
       "      <td>renault</td>\n",
       "      <td>yes</td>\n",
       "    </tr>\n",
       "    <tr>\n",
       "      <th>90682</th>\n",
       "      <td>coupe</td>\n",
       "      <td>2001</td>\n",
       "      <td>manual</td>\n",
       "      <td>147.0</td>\n",
       "      <td>astra</td>\n",
       "      <td>150000</td>\n",
       "      <td>petrol</td>\n",
       "      <td>opel</td>\n",
       "      <td>yes</td>\n",
       "    </tr>\n",
       "    <tr>\n",
       "      <th>180874</th>\n",
       "      <td>sedan</td>\n",
       "      <td>1999</td>\n",
       "      <td>manual</td>\n",
       "      <td>150.0</td>\n",
       "      <td>bora</td>\n",
       "      <td>150000</td>\n",
       "      <td>petrol</td>\n",
       "      <td>volkswagen</td>\n",
       "      <td>yes</td>\n",
       "    </tr>\n",
       "  </tbody>\n",
       "</table>\n",
       "</div>"
      ],
      "text/plain": [
       "       vehicle_type  registration_year gearbox  power   model  kilometer  \\\n",
       "298937        sedan               2003  manual  113.0  megane     150000   \n",
       "90682         coupe               2001  manual  147.0   astra     150000   \n",
       "180874        sedan               1999  manual  150.0    bora     150000   \n",
       "\n",
       "       fuel_type       brand repaired  \n",
       "298937    petrol     renault      yes  \n",
       "90682     petrol        opel      yes  \n",
       "180874    petrol  volkswagen      yes  "
      ]
     },
     "execution_count": 36,
     "metadata": {},
     "output_type": "execute_result"
    }
   ],
   "source": [
    "features_train.sample(3)"
   ]
  },
  {
   "cell_type": "markdown",
   "metadata": {},
   "source": [
    "Подготовим модель для кодирования данных в `OneHotEncoder` и закодируем данные."
   ]
  },
  {
   "cell_type": "code",
   "execution_count": 37,
   "metadata": {},
   "outputs": [],
   "source": [
    "ohe_features_ridge = features_train_OHE.select_dtypes(include='object').columns.to_list()\n",
    "\n",
    "encoder_ohe = OneHotEncoder(drop='first', handle_unknown='ignore', sparse=False)\n",
    "encoder_ohe.fit(features_train_OHE[ohe_features_ridge])\n",
    "\n",
    "features_train_OHE[encoder_ohe.get_feature_names_out()] = encoder_ohe.transform(features_train_OHE[ohe_features_ridge])\n",
    "features_train_OHE = features_train_OHE.drop(ohe_features_ridge, axis=1)\n",
    "\n",
    "features_valid_OHE[encoder_ohe.get_feature_names_out()] = encoder_ohe.transform(features_valid_OHE[ohe_features_ridge])\n",
    "features_valid_OHE = features_valid_OHE.drop(ohe_features_ridge, axis=1)\n",
    "\n",
    "features_test_OHE[encoder_ohe.get_feature_names_out()] = encoder_ohe.transform(features_test_OHE[ohe_features_ridge])\n",
    "features_test_OHE = features_test_OHE.drop(ohe_features_ridge, axis=1)"
   ]
  },
  {
   "cell_type": "code",
   "execution_count": 38,
   "metadata": {
    "scrolled": false
   },
   "outputs": [
    {
     "data": {
      "text/html": [
       "<div>\n",
       "<style scoped>\n",
       "    .dataframe tbody tr th:only-of-type {\n",
       "        vertical-align: middle;\n",
       "    }\n",
       "\n",
       "    .dataframe tbody tr th {\n",
       "        vertical-align: top;\n",
       "    }\n",
       "\n",
       "    .dataframe thead th {\n",
       "        text-align: right;\n",
       "    }\n",
       "</style>\n",
       "<table border=\"1\" class=\"dataframe\">\n",
       "  <thead>\n",
       "    <tr style=\"text-align: right;\">\n",
       "      <th></th>\n",
       "      <th>registration_year</th>\n",
       "      <th>power</th>\n",
       "      <th>kilometer</th>\n",
       "      <th>vehicle_type_convertible</th>\n",
       "      <th>vehicle_type_coupe</th>\n",
       "      <th>vehicle_type_other</th>\n",
       "      <th>vehicle_type_sedan</th>\n",
       "      <th>vehicle_type_small</th>\n",
       "      <th>vehicle_type_suv</th>\n",
       "      <th>vehicle_type_wagon</th>\n",
       "      <th>...</th>\n",
       "      <th>brand_skoda</th>\n",
       "      <th>brand_smart</th>\n",
       "      <th>brand_sonstige_autos</th>\n",
       "      <th>brand_subaru</th>\n",
       "      <th>brand_suzuki</th>\n",
       "      <th>brand_toyota</th>\n",
       "      <th>brand_trabant</th>\n",
       "      <th>brand_volkswagen</th>\n",
       "      <th>brand_volvo</th>\n",
       "      <th>repaired_yes</th>\n",
       "    </tr>\n",
       "  </thead>\n",
       "  <tbody>\n",
       "    <tr>\n",
       "      <th>155937</th>\n",
       "      <td>1991</td>\n",
       "      <td>54.0</td>\n",
       "      <td>125000</td>\n",
       "      <td>0.0</td>\n",
       "      <td>0.0</td>\n",
       "      <td>0.0</td>\n",
       "      <td>1.0</td>\n",
       "      <td>0.0</td>\n",
       "      <td>0.0</td>\n",
       "      <td>0.0</td>\n",
       "      <td>...</td>\n",
       "      <td>0.0</td>\n",
       "      <td>0.0</td>\n",
       "      <td>0.0</td>\n",
       "      <td>0.0</td>\n",
       "      <td>0.0</td>\n",
       "      <td>0.0</td>\n",
       "      <td>0.0</td>\n",
       "      <td>1.0</td>\n",
       "      <td>0.0</td>\n",
       "      <td>1.0</td>\n",
       "    </tr>\n",
       "    <tr>\n",
       "      <th>46190</th>\n",
       "      <td>1999</td>\n",
       "      <td>58.0</td>\n",
       "      <td>150000</td>\n",
       "      <td>0.0</td>\n",
       "      <td>0.0</td>\n",
       "      <td>0.0</td>\n",
       "      <td>0.0</td>\n",
       "      <td>1.0</td>\n",
       "      <td>0.0</td>\n",
       "      <td>0.0</td>\n",
       "      <td>...</td>\n",
       "      <td>0.0</td>\n",
       "      <td>0.0</td>\n",
       "      <td>0.0</td>\n",
       "      <td>0.0</td>\n",
       "      <td>0.0</td>\n",
       "      <td>0.0</td>\n",
       "      <td>0.0</td>\n",
       "      <td>0.0</td>\n",
       "      <td>0.0</td>\n",
       "      <td>1.0</td>\n",
       "    </tr>\n",
       "    <tr>\n",
       "      <th>59700</th>\n",
       "      <td>2003</td>\n",
       "      <td>101.0</td>\n",
       "      <td>150000</td>\n",
       "      <td>0.0</td>\n",
       "      <td>0.0</td>\n",
       "      <td>0.0</td>\n",
       "      <td>0.0</td>\n",
       "      <td>0.0</td>\n",
       "      <td>0.0</td>\n",
       "      <td>1.0</td>\n",
       "      <td>...</td>\n",
       "      <td>0.0</td>\n",
       "      <td>0.0</td>\n",
       "      <td>0.0</td>\n",
       "      <td>0.0</td>\n",
       "      <td>0.0</td>\n",
       "      <td>0.0</td>\n",
       "      <td>0.0</td>\n",
       "      <td>1.0</td>\n",
       "      <td>0.0</td>\n",
       "      <td>1.0</td>\n",
       "    </tr>\n",
       "  </tbody>\n",
       "</table>\n",
       "<p>3 rows × 303 columns</p>\n",
       "</div>"
      ],
      "text/plain": [
       "        registration_year  power  kilometer  vehicle_type_convertible  \\\n",
       "155937               1991   54.0     125000                       0.0   \n",
       "46190                1999   58.0     150000                       0.0   \n",
       "59700                2003  101.0     150000                       0.0   \n",
       "\n",
       "        vehicle_type_coupe  vehicle_type_other  vehicle_type_sedan  \\\n",
       "155937                 0.0                 0.0                 1.0   \n",
       "46190                  0.0                 0.0                 0.0   \n",
       "59700                  0.0                 0.0                 0.0   \n",
       "\n",
       "        vehicle_type_small  vehicle_type_suv  vehicle_type_wagon  ...  \\\n",
       "155937                 0.0               0.0                 0.0  ...   \n",
       "46190                  1.0               0.0                 0.0  ...   \n",
       "59700                  0.0               0.0                 1.0  ...   \n",
       "\n",
       "        brand_skoda  brand_smart  brand_sonstige_autos  brand_subaru  \\\n",
       "155937          0.0          0.0                   0.0           0.0   \n",
       "46190           0.0          0.0                   0.0           0.0   \n",
       "59700           0.0          0.0                   0.0           0.0   \n",
       "\n",
       "        brand_suzuki  brand_toyota  brand_trabant  brand_volkswagen  \\\n",
       "155937           0.0           0.0            0.0               1.0   \n",
       "46190            0.0           0.0            0.0               0.0   \n",
       "59700            0.0           0.0            0.0               1.0   \n",
       "\n",
       "        brand_volvo  repaired_yes  \n",
       "155937          0.0           1.0  \n",
       "46190           0.0           1.0  \n",
       "59700           0.0           1.0  \n",
       "\n",
       "[3 rows x 303 columns]"
      ]
     },
     "execution_count": 38,
     "metadata": {},
     "output_type": "execute_result"
    }
   ],
   "source": [
    "features_train_OHE.sample(3)"
   ]
  },
  {
   "cell_type": "markdown",
   "metadata": {},
   "source": [
    "Подготовим модель для кодирования данных в `OrdinalEncoder` и закодируем данные."
   ]
  },
  {
   "cell_type": "code",
   "execution_count": 39,
   "metadata": {},
   "outputs": [],
   "source": [
    "OE_features_ridge = features_train_OE.select_dtypes(include='object').columns.to_list()\n",
    "\n",
    "enc = OrdinalEncoder(handle_unknown='use_encoded_value', unknown_value=-1)\n",
    "enc.fit(data[OE_features_ridge])\n",
    "\n",
    "features_train_OE[OE_features_ridge] = enc.transform(features_train_OE[OE_features_ridge])\n",
    "features_valid_OE[OE_features_ridge] = enc.transform(features_valid_OE[OE_features_ridge])\n",
    "features_test_OE[OE_features_ridge] = enc.transform(features_test_OE[OE_features_ridge])"
   ]
  },
  {
   "cell_type": "code",
   "execution_count": 40,
   "metadata": {
    "scrolled": true
   },
   "outputs": [
    {
     "data": {
      "text/html": [
       "<div>\n",
       "<style scoped>\n",
       "    .dataframe tbody tr th:only-of-type {\n",
       "        vertical-align: middle;\n",
       "    }\n",
       "\n",
       "    .dataframe tbody tr th {\n",
       "        vertical-align: top;\n",
       "    }\n",
       "\n",
       "    .dataframe thead th {\n",
       "        text-align: right;\n",
       "    }\n",
       "</style>\n",
       "<table border=\"1\" class=\"dataframe\">\n",
       "  <thead>\n",
       "    <tr style=\"text-align: right;\">\n",
       "      <th></th>\n",
       "      <th>vehicle_type</th>\n",
       "      <th>registration_year</th>\n",
       "      <th>gearbox</th>\n",
       "      <th>power</th>\n",
       "      <th>model</th>\n",
       "      <th>kilometer</th>\n",
       "      <th>fuel_type</th>\n",
       "      <th>brand</th>\n",
       "      <th>repaired</th>\n",
       "    </tr>\n",
       "  </thead>\n",
       "  <tbody>\n",
       "    <tr>\n",
       "      <th>287444</th>\n",
       "      <td>2.0</td>\n",
       "      <td>1997</td>\n",
       "      <td>1.0</td>\n",
       "      <td>90.0</td>\n",
       "      <td>215.0</td>\n",
       "      <td>150000</td>\n",
       "      <td>6.0</td>\n",
       "      <td>24.0</td>\n",
       "      <td>1.0</td>\n",
       "    </tr>\n",
       "    <tr>\n",
       "      <th>24819</th>\n",
       "      <td>7.0</td>\n",
       "      <td>2001</td>\n",
       "      <td>1.0</td>\n",
       "      <td>136.0</td>\n",
       "      <td>103.0</td>\n",
       "      <td>150000</td>\n",
       "      <td>4.0</td>\n",
       "      <td>10.0</td>\n",
       "      <td>1.0</td>\n",
       "    </tr>\n",
       "    <tr>\n",
       "      <th>189284</th>\n",
       "      <td>0.0</td>\n",
       "      <td>2008</td>\n",
       "      <td>1.0</td>\n",
       "      <td>102.0</td>\n",
       "      <td>221.0</td>\n",
       "      <td>150000</td>\n",
       "      <td>2.0</td>\n",
       "      <td>38.0</td>\n",
       "      <td>1.0</td>\n",
       "    </tr>\n",
       "  </tbody>\n",
       "</table>\n",
       "</div>"
      ],
      "text/plain": [
       "        vehicle_type  registration_year  gearbox  power  model  kilometer  \\\n",
       "287444           2.0               1997      1.0   90.0  215.0     150000   \n",
       "24819            7.0               2001      1.0  136.0  103.0     150000   \n",
       "189284           0.0               2008      1.0  102.0  221.0     150000   \n",
       "\n",
       "        fuel_type  brand  repaired  \n",
       "287444        6.0   24.0       1.0  \n",
       "24819         4.0   10.0       1.0  \n",
       "189284        2.0   38.0       1.0  "
      ]
     },
     "execution_count": 40,
     "metadata": {},
     "output_type": "execute_result"
    }
   ],
   "source": [
    "features_train_OE.sample(3)"
   ]
  },
  {
   "cell_type": "markdown",
   "metadata": {},
   "source": [
    "Теперь нам нужно стандартизировать данные для использования их линейной модели. Сделаем это при помощи `StandardScaler`."
   ]
  },
  {
   "cell_type": "code",
   "execution_count": 41,
   "metadata": {},
   "outputs": [],
   "source": [
    "pd.options.mode.chained_assignment = None\n",
    "numeric = features_train_OHE.select_dtypes(include='number').columns.to_list()\n",
    "\n",
    "scaler = StandardScaler()\n",
    "scaler.fit(features_train_OHE[numeric])\n",
    "\n",
    "features_train_OHE[numeric] = scaler.transform(features_train_OHE[numeric])\n",
    "features_valid_OHE[numeric] = scaler.transform(features_valid_OHE[numeric])\n",
    "features_test_OHE[numeric] = scaler.transform(features_test_OHE[numeric])"
   ]
  },
  {
   "cell_type": "code",
   "execution_count": 42,
   "metadata": {
    "scrolled": true
   },
   "outputs": [
    {
     "data": {
      "text/html": [
       "<div>\n",
       "<style scoped>\n",
       "    .dataframe tbody tr th:only-of-type {\n",
       "        vertical-align: middle;\n",
       "    }\n",
       "\n",
       "    .dataframe tbody tr th {\n",
       "        vertical-align: top;\n",
       "    }\n",
       "\n",
       "    .dataframe thead th {\n",
       "        text-align: right;\n",
       "    }\n",
       "</style>\n",
       "<table border=\"1\" class=\"dataframe\">\n",
       "  <thead>\n",
       "    <tr style=\"text-align: right;\">\n",
       "      <th></th>\n",
       "      <th>registration_year</th>\n",
       "      <th>power</th>\n",
       "      <th>kilometer</th>\n",
       "      <th>vehicle_type_convertible</th>\n",
       "      <th>vehicle_type_coupe</th>\n",
       "      <th>vehicle_type_other</th>\n",
       "      <th>vehicle_type_sedan</th>\n",
       "      <th>vehicle_type_small</th>\n",
       "      <th>vehicle_type_suv</th>\n",
       "      <th>vehicle_type_wagon</th>\n",
       "      <th>...</th>\n",
       "      <th>brand_skoda</th>\n",
       "      <th>brand_smart</th>\n",
       "      <th>brand_sonstige_autos</th>\n",
       "      <th>brand_subaru</th>\n",
       "      <th>brand_suzuki</th>\n",
       "      <th>brand_toyota</th>\n",
       "      <th>brand_trabant</th>\n",
       "      <th>brand_volkswagen</th>\n",
       "      <th>brand_volvo</th>\n",
       "      <th>repaired_yes</th>\n",
       "    </tr>\n",
       "  </thead>\n",
       "  <tbody>\n",
       "    <tr>\n",
       "      <th>218698</th>\n",
       "      <td>-1.054633</td>\n",
       "      <td>0.483610</td>\n",
       "      <td>0.618392</td>\n",
       "      <td>-0.267634</td>\n",
       "      <td>-0.227101</td>\n",
       "      <td>-0.210254</td>\n",
       "      <td>-0.621163</td>\n",
       "      <td>-0.529914</td>\n",
       "      <td>-0.20335</td>\n",
       "      <td>1.955769</td>\n",
       "      <td>...</td>\n",
       "      <td>-0.138367</td>\n",
       "      <td>-0.13196</td>\n",
       "      <td>-0.070717</td>\n",
       "      <td>-0.048092</td>\n",
       "      <td>-0.084687</td>\n",
       "      <td>-0.124927</td>\n",
       "      <td>-0.011598</td>\n",
       "      <td>-0.506877</td>\n",
       "      <td>-0.100332</td>\n",
       "      <td>0.568389</td>\n",
       "    </tr>\n",
       "    <tr>\n",
       "      <th>151741</th>\n",
       "      <td>-0.686539</td>\n",
       "      <td>-0.343417</td>\n",
       "      <td>0.618392</td>\n",
       "      <td>-0.267634</td>\n",
       "      <td>-0.227101</td>\n",
       "      <td>-0.210254</td>\n",
       "      <td>-0.621163</td>\n",
       "      <td>-0.529914</td>\n",
       "      <td>-0.20335</td>\n",
       "      <td>-0.511308</td>\n",
       "      <td>...</td>\n",
       "      <td>-0.138367</td>\n",
       "      <td>-0.13196</td>\n",
       "      <td>-0.070717</td>\n",
       "      <td>-0.048092</td>\n",
       "      <td>-0.084687</td>\n",
       "      <td>-0.124927</td>\n",
       "      <td>-0.011598</td>\n",
       "      <td>-0.506877</td>\n",
       "      <td>-0.100332</td>\n",
       "      <td>0.568389</td>\n",
       "    </tr>\n",
       "    <tr>\n",
       "      <th>96869</th>\n",
       "      <td>-1.606774</td>\n",
       "      <td>-0.174253</td>\n",
       "      <td>0.618392</td>\n",
       "      <td>-0.267634</td>\n",
       "      <td>-0.227101</td>\n",
       "      <td>-0.210254</td>\n",
       "      <td>1.609884</td>\n",
       "      <td>-0.529914</td>\n",
       "      <td>-0.20335</td>\n",
       "      <td>-0.511308</td>\n",
       "      <td>...</td>\n",
       "      <td>-0.138367</td>\n",
       "      <td>-0.13196</td>\n",
       "      <td>-0.070717</td>\n",
       "      <td>-0.048092</td>\n",
       "      <td>-0.084687</td>\n",
       "      <td>-0.124927</td>\n",
       "      <td>-0.011598</td>\n",
       "      <td>-0.506877</td>\n",
       "      <td>-0.100332</td>\n",
       "      <td>0.568389</td>\n",
       "    </tr>\n",
       "  </tbody>\n",
       "</table>\n",
       "<p>3 rows × 303 columns</p>\n",
       "</div>"
      ],
      "text/plain": [
       "        registration_year     power  kilometer  vehicle_type_convertible  \\\n",
       "218698          -1.054633  0.483610   0.618392                 -0.267634   \n",
       "151741          -0.686539 -0.343417   0.618392                 -0.267634   \n",
       "96869           -1.606774 -0.174253   0.618392                 -0.267634   \n",
       "\n",
       "        vehicle_type_coupe  vehicle_type_other  vehicle_type_sedan  \\\n",
       "218698           -0.227101           -0.210254           -0.621163   \n",
       "151741           -0.227101           -0.210254           -0.621163   \n",
       "96869            -0.227101           -0.210254            1.609884   \n",
       "\n",
       "        vehicle_type_small  vehicle_type_suv  vehicle_type_wagon  ...  \\\n",
       "218698           -0.529914          -0.20335            1.955769  ...   \n",
       "151741           -0.529914          -0.20335           -0.511308  ...   \n",
       "96869            -0.529914          -0.20335           -0.511308  ...   \n",
       "\n",
       "        brand_skoda  brand_smart  brand_sonstige_autos  brand_subaru  \\\n",
       "218698    -0.138367     -0.13196             -0.070717     -0.048092   \n",
       "151741    -0.138367     -0.13196             -0.070717     -0.048092   \n",
       "96869     -0.138367     -0.13196             -0.070717     -0.048092   \n",
       "\n",
       "        brand_suzuki  brand_toyota  brand_trabant  brand_volkswagen  \\\n",
       "218698     -0.084687     -0.124927      -0.011598         -0.506877   \n",
       "151741     -0.084687     -0.124927      -0.011598         -0.506877   \n",
       "96869      -0.084687     -0.124927      -0.011598         -0.506877   \n",
       "\n",
       "        brand_volvo  repaired_yes  \n",
       "218698    -0.100332      0.568389  \n",
       "151741    -0.100332      0.568389  \n",
       "96869     -0.100332      0.568389  \n",
       "\n",
       "[3 rows x 303 columns]"
      ]
     },
     "execution_count": 42,
     "metadata": {},
     "output_type": "execute_result"
    }
   ],
   "source": [
    "features_test_OHE.sample(3)"
   ]
  },
  {
   "cell_type": "markdown",
   "metadata": {},
   "source": [
    "**Вывод:** В начале работы мы познакомились с данными. И провели предобработку, прежде чем обучать модели. Что именно было сделано:\n",
    "- переименовали столбцы в привычный нам вид и привели всё к нижнему регистру;\n",
    "- удалили из таблицы столбцы, которые *точно не понадобятся* нам для обучения моделей. (`date_crawled, registration_month, date_created, number_of_pictures, postal_code, last_seen`);\n",
    "- было найдены `45040` дубликата и удалены и таблицы;\n",
    "- в столбце `price` около `12000` продавцов выставили стоимость `0` или очень приближенную к `0`. Поэтому всё, что меньше `500` евро мы убрали из датасете, чтобы они не давали дополнительных искажений при обучении моделей;\n",
    "- в признаке `vehicle_type` (тип автомобильного кузова) при первичном осмотре данных в этом столбце мы наблюдали `37490 пропуск`. Заполнить категориальный признак в нашем случае мы не имели возможности, но и удалять такое количество данных так же мы не стали. Просто заполнили значением `\"other\"`;\n",
    "- по таму же принципу заполнили пропуски значением `\"other\"` в столбцах `model, fuel_type`. `gearbox` - в этом столбце пропуски заменили на `\"unknown\"`; \n",
    "- а в признаке по ремонту (`repaired`), заменили пропуски у всех машин, что имеют пробег более `120000` на `\"yes\"`, у другихх на `\"no\"` соответственно;\n",
    "- в признаке `registration_year`. Это год регистрации автомобиля. Пропусков не было, но мы заметили разные выбросы в этом столбце. Постоив график, мы приняли решение оставить только годы регистрации `с 1990 по 2016` так как последний год это год выгрузки объявления и создания таблицы;\n",
    "- `power`. В этом столбце мощность авто (л. с.) мы оставили в датафрейме только те машины, которые укладываются по мощности в диапазон `от 40 до 450`. Были значения и в райне `0`  мы из заменили на медиану по брендам;\n",
    "- далее мы разбили таблицу на обучающую, валидационную и тестовые выборки. `(60|20|20)`\n",
    "- у нас `6` категориальных признаков. И так как мы будем обучать разные модели, то для некоторых из них нужно закодировать категориальные признаки как однократный числовой массив. Используем `OneHotEncoder` для линейной модели. А для моеделей решающего дерева будем использовать порядковое кодирование `OrdinalEncoder` (это позволит увеличить скорость обучения).\n",
    "- после кодирования мы стандартизировали данные для использования их линейной моделью. Сделали это при помощи `StandardScaler`."
   ]
  },
  {
   "cell_type": "markdown",
   "metadata": {},
   "source": [
    "## Обучение моделей"
   ]
  },
  {
   "cell_type": "markdown",
   "metadata": {},
   "source": [
    "Обучим модели и найдём лучшие гиперпараметры для них. Первой моделью будет линейная, а именно `LinearRegression`."
   ]
  },
  {
   "cell_type": "code",
   "execution_count": 43,
   "metadata": {},
   "outputs": [
    {
     "name": "stdout",
     "output_type": "stream",
     "text": [
      "RMSE модели: 2384\n",
      "Wall time: 3.11 s\n"
     ]
    }
   ],
   "source": [
    "%%time\n",
    "\n",
    "model_LR = LinearRegression().fit(features_train_OHE, target_train)\n",
    "\n",
    "predictions_valid = model_LR.predict(features_valid_OHE)\n",
    "\n",
    "best_score_train_LR = round(mean_squared_error(target_valid, predictions_valid)**0.5)\n",
    "print('RMSE модели:', best_score_train_LR)"
   ]
  },
  {
   "cell_type": "markdown",
   "metadata": {},
   "source": [
    "Вторая модель будет древовидного типа, а именно `DecisionTreeRegressor`."
   ]
  },
  {
   "cell_type": "code",
   "execution_count": 44,
   "metadata": {},
   "outputs": [
    {
     "name": "stdout",
     "output_type": "stream",
     "text": [
      "Параметры лучшей модели: {'max_depth': 12}\n",
      "RMSE лучшей модели: 1886\n",
      "Wall time: 4.89 s\n"
     ]
    }
   ],
   "source": [
    "%%time \n",
    "model_DTR = DecisionTreeRegressor(random_state=RD_ST)\n",
    "\n",
    "param_grid = {'max_depth': range (2, 20, 2)}\n",
    "\n",
    "grid = GridSearchCV(model_DTR, param_grid, cv=5, n_jobs=-1, scoring='neg_root_mean_squared_error')\n",
    "grid.fit(features_train_OE, target_train)\n",
    "\n",
    "best_param_train_DTR = grid.best_params_\n",
    "best_score_train_DTR = round(grid.best_score_ * -1)\n",
    "\n",
    "print('Параметры лучшей модели:', best_param_train_DTR)\n",
    "print('RMSE лучшей модели:', best_score_train_DTR)"
   ]
  },
  {
   "cell_type": "markdown",
   "metadata": {},
   "source": [
    "И теперь модель с бустингом. `LightGBM`."
   ]
  },
  {
   "cell_type": "code",
   "execution_count": 45,
   "metadata": {},
   "outputs": [
    {
     "name": "stdout",
     "output_type": "stream",
     "text": [
      "Параметры лучшей модели: {'n_estimators': 450, 'num_leaves': 120}\n",
      "RMSE лучшей модели: 1569\n",
      "Wall time: 4min 56s\n"
     ]
    }
   ],
   "source": [
    "%%time \n",
    "model_LGB = lightgbm.LGBMRegressor(random_state=RD_ST)\n",
    "\n",
    "param_grid = {'n_estimators': range (50, 500, 50),\n",
    "              'num_leaves': range (20, 200, 20)}\n",
    "\n",
    "grid = GridSearchCV(model_LGB, param_grid, cv=5, n_jobs=-1, scoring='neg_root_mean_squared_error')\n",
    "grid.fit(features_train_OE, target_train)\n",
    "\n",
    "best_param_train_LGB = grid.best_params_\n",
    "best_score_train_LGB = round(grid.best_score_ * -1)\n",
    "\n",
    "print('Параметры лучшей модели:', best_param_train_LGB)\n",
    "print('RMSE лучшей модели:', best_score_train_LGB)"
   ]
  },
  {
   "cell_type": "markdown",
   "metadata": {
    "variables": {
     "best_param_train_DTR": "{&#39;max_depth&#39;: 12}",
     "best_param_train_LGB": "{&#39;n_estimators&#39;: 450, &#39;num_leaves&#39;: 120}",
     "best_score_train_DTR": "1886",
     "best_score_train_LGB": "1569",
     "best_score_train_LR": "2384"
    }
   },
   "source": [
    "**Вывод:** Мы обучили `3 разные модели` и нашли лучшие гиперпараметры для них.\n",
    "\n",
    "1 модель `LinearRegression` (RMSE модели: `{{best_score_train_LR}}`)\n",
    "\n",
    "2 модель `DecisionTreeRegressor` (RMSE модели: `{{best_score_train_DTR}}`) \n",
    "- Параметры лучшей модели: {{best_param_train_DTR}}\n",
    "\n",
    "3 модель `LightGBM` (RMSE модели: `{{best_score_train_LGB}}`) \n",
    "- Параметры лучшей модели: {{best_param_train_LGB}}"
   ]
  },
  {
   "cell_type": "markdown",
   "metadata": {},
   "source": [
    "## Анализ моделей"
   ]
  },
  {
   "cell_type": "markdown",
   "metadata": {},
   "source": [
    "Теперь имея параметры для моделей обучим их заново, замерим скорость обучения и скорость предсказаний, а так же качество предсказаний."
   ]
  },
  {
   "cell_type": "markdown",
   "metadata": {},
   "source": [
    "Первая `LinearRegression`"
   ]
  },
  {
   "cell_type": "code",
   "execution_count": 46,
   "metadata": {},
   "outputs": [
    {
     "name": "stdout",
     "output_type": "stream",
     "text": [
      "Wall time: 4.38 s\n"
     ]
    },
    {
     "data": {
      "text/html": [
       "<style>#sk-container-id-1 {color: black;background-color: white;}#sk-container-id-1 pre{padding: 0;}#sk-container-id-1 div.sk-toggleable {background-color: white;}#sk-container-id-1 label.sk-toggleable__label {cursor: pointer;display: block;width: 100%;margin-bottom: 0;padding: 0.3em;box-sizing: border-box;text-align: center;}#sk-container-id-1 label.sk-toggleable__label-arrow:before {content: \"▸\";float: left;margin-right: 0.25em;color: #696969;}#sk-container-id-1 label.sk-toggleable__label-arrow:hover:before {color: black;}#sk-container-id-1 div.sk-estimator:hover label.sk-toggleable__label-arrow:before {color: black;}#sk-container-id-1 div.sk-toggleable__content {max-height: 0;max-width: 0;overflow: hidden;text-align: left;background-color: #f0f8ff;}#sk-container-id-1 div.sk-toggleable__content pre {margin: 0.2em;color: black;border-radius: 0.25em;background-color: #f0f8ff;}#sk-container-id-1 input.sk-toggleable__control:checked~div.sk-toggleable__content {max-height: 200px;max-width: 100%;overflow: auto;}#sk-container-id-1 input.sk-toggleable__control:checked~label.sk-toggleable__label-arrow:before {content: \"▾\";}#sk-container-id-1 div.sk-estimator input.sk-toggleable__control:checked~label.sk-toggleable__label {background-color: #d4ebff;}#sk-container-id-1 div.sk-label input.sk-toggleable__control:checked~label.sk-toggleable__label {background-color: #d4ebff;}#sk-container-id-1 input.sk-hidden--visually {border: 0;clip: rect(1px 1px 1px 1px);clip: rect(1px, 1px, 1px, 1px);height: 1px;margin: -1px;overflow: hidden;padding: 0;position: absolute;width: 1px;}#sk-container-id-1 div.sk-estimator {font-family: monospace;background-color: #f0f8ff;border: 1px dotted black;border-radius: 0.25em;box-sizing: border-box;margin-bottom: 0.5em;}#sk-container-id-1 div.sk-estimator:hover {background-color: #d4ebff;}#sk-container-id-1 div.sk-parallel-item::after {content: \"\";width: 100%;border-bottom: 1px solid gray;flex-grow: 1;}#sk-container-id-1 div.sk-label:hover label.sk-toggleable__label {background-color: #d4ebff;}#sk-container-id-1 div.sk-serial::before {content: \"\";position: absolute;border-left: 1px solid gray;box-sizing: border-box;top: 0;bottom: 0;left: 50%;z-index: 0;}#sk-container-id-1 div.sk-serial {display: flex;flex-direction: column;align-items: center;background-color: white;padding-right: 0.2em;padding-left: 0.2em;position: relative;}#sk-container-id-1 div.sk-item {position: relative;z-index: 1;}#sk-container-id-1 div.sk-parallel {display: flex;align-items: stretch;justify-content: center;background-color: white;position: relative;}#sk-container-id-1 div.sk-item::before, #sk-container-id-1 div.sk-parallel-item::before {content: \"\";position: absolute;border-left: 1px solid gray;box-sizing: border-box;top: 0;bottom: 0;left: 50%;z-index: -1;}#sk-container-id-1 div.sk-parallel-item {display: flex;flex-direction: column;z-index: 1;position: relative;background-color: white;}#sk-container-id-1 div.sk-parallel-item:first-child::after {align-self: flex-end;width: 50%;}#sk-container-id-1 div.sk-parallel-item:last-child::after {align-self: flex-start;width: 50%;}#sk-container-id-1 div.sk-parallel-item:only-child::after {width: 0;}#sk-container-id-1 div.sk-dashed-wrapped {border: 1px dashed gray;margin: 0 0.4em 0.5em 0.4em;box-sizing: border-box;padding-bottom: 0.4em;background-color: white;}#sk-container-id-1 div.sk-label label {font-family: monospace;font-weight: bold;display: inline-block;line-height: 1.2em;}#sk-container-id-1 div.sk-label-container {text-align: center;}#sk-container-id-1 div.sk-container {/* jupyter's `normalize.less` sets `[hidden] { display: none; }` but bootstrap.min.css set `[hidden] { display: none !important; }` so we also need the `!important` here to be able to override the default hidden behavior on the sphinx rendered scikit-learn.org. See: https://github.com/scikit-learn/scikit-learn/issues/21755 */display: inline-block !important;position: relative;}#sk-container-id-1 div.sk-text-repr-fallback {display: none;}</style><div id=\"sk-container-id-1\" class=\"sk-top-container\"><div class=\"sk-text-repr-fallback\"><pre>LinearRegression()</pre><b>In a Jupyter environment, please rerun this cell to show the HTML representation or trust the notebook. <br />On GitHub, the HTML representation is unable to render, please try loading this page with nbviewer.org.</b></div><div class=\"sk-container\" hidden><div class=\"sk-item\"><div class=\"sk-estimator sk-toggleable\"><input class=\"sk-toggleable__control sk-hidden--visually\" id=\"sk-estimator-id-1\" type=\"checkbox\" checked><label for=\"sk-estimator-id-1\" class=\"sk-toggleable__label sk-toggleable__label-arrow\">LinearRegression</label><div class=\"sk-toggleable__content\"><pre>LinearRegression()</pre></div></div></div></div></div>"
      ],
      "text/plain": [
       "LinearRegression()"
      ]
     },
     "execution_count": 46,
     "metadata": {},
     "output_type": "execute_result"
    }
   ],
   "source": [
    "%%time\n",
    "model_LR = LinearRegression()\n",
    "model_LR.fit(features_train_OHE, target_train)"
   ]
  },
  {
   "cell_type": "code",
   "execution_count": 47,
   "metadata": {},
   "outputs": [
    {
     "name": "stdout",
     "output_type": "stream",
     "text": [
      "Wall time: 20.9 ms\n"
     ]
    }
   ],
   "source": [
    "%%time\n",
    "predictions_valid = model_LR.predict(features_valid_OHE)"
   ]
  },
  {
   "cell_type": "code",
   "execution_count": 48,
   "metadata": {},
   "outputs": [
    {
     "name": "stdout",
     "output_type": "stream",
     "text": [
      "RMSE модели: 2384\n"
     ]
    }
   ],
   "source": [
    "RMSE_valid_LR = round(mean_squared_error(target_valid, predictions_valid)**0.5)\n",
    "print('RMSE модели:', RMSE_valid_LR)"
   ]
  },
  {
   "cell_type": "markdown",
   "metadata": {},
   "source": [
    "Вторая `DecisionTreeRegressor`"
   ]
  },
  {
   "cell_type": "code",
   "execution_count": 49,
   "metadata": {},
   "outputs": [
    {
     "name": "stdout",
     "output_type": "stream",
     "text": [
      "Wall time: 291 ms\n"
     ]
    },
    {
     "data": {
      "text/html": [
       "<style>#sk-container-id-2 {color: black;background-color: white;}#sk-container-id-2 pre{padding: 0;}#sk-container-id-2 div.sk-toggleable {background-color: white;}#sk-container-id-2 label.sk-toggleable__label {cursor: pointer;display: block;width: 100%;margin-bottom: 0;padding: 0.3em;box-sizing: border-box;text-align: center;}#sk-container-id-2 label.sk-toggleable__label-arrow:before {content: \"▸\";float: left;margin-right: 0.25em;color: #696969;}#sk-container-id-2 label.sk-toggleable__label-arrow:hover:before {color: black;}#sk-container-id-2 div.sk-estimator:hover label.sk-toggleable__label-arrow:before {color: black;}#sk-container-id-2 div.sk-toggleable__content {max-height: 0;max-width: 0;overflow: hidden;text-align: left;background-color: #f0f8ff;}#sk-container-id-2 div.sk-toggleable__content pre {margin: 0.2em;color: black;border-radius: 0.25em;background-color: #f0f8ff;}#sk-container-id-2 input.sk-toggleable__control:checked~div.sk-toggleable__content {max-height: 200px;max-width: 100%;overflow: auto;}#sk-container-id-2 input.sk-toggleable__control:checked~label.sk-toggleable__label-arrow:before {content: \"▾\";}#sk-container-id-2 div.sk-estimator input.sk-toggleable__control:checked~label.sk-toggleable__label {background-color: #d4ebff;}#sk-container-id-2 div.sk-label input.sk-toggleable__control:checked~label.sk-toggleable__label {background-color: #d4ebff;}#sk-container-id-2 input.sk-hidden--visually {border: 0;clip: rect(1px 1px 1px 1px);clip: rect(1px, 1px, 1px, 1px);height: 1px;margin: -1px;overflow: hidden;padding: 0;position: absolute;width: 1px;}#sk-container-id-2 div.sk-estimator {font-family: monospace;background-color: #f0f8ff;border: 1px dotted black;border-radius: 0.25em;box-sizing: border-box;margin-bottom: 0.5em;}#sk-container-id-2 div.sk-estimator:hover {background-color: #d4ebff;}#sk-container-id-2 div.sk-parallel-item::after {content: \"\";width: 100%;border-bottom: 1px solid gray;flex-grow: 1;}#sk-container-id-2 div.sk-label:hover label.sk-toggleable__label {background-color: #d4ebff;}#sk-container-id-2 div.sk-serial::before {content: \"\";position: absolute;border-left: 1px solid gray;box-sizing: border-box;top: 0;bottom: 0;left: 50%;z-index: 0;}#sk-container-id-2 div.sk-serial {display: flex;flex-direction: column;align-items: center;background-color: white;padding-right: 0.2em;padding-left: 0.2em;position: relative;}#sk-container-id-2 div.sk-item {position: relative;z-index: 1;}#sk-container-id-2 div.sk-parallel {display: flex;align-items: stretch;justify-content: center;background-color: white;position: relative;}#sk-container-id-2 div.sk-item::before, #sk-container-id-2 div.sk-parallel-item::before {content: \"\";position: absolute;border-left: 1px solid gray;box-sizing: border-box;top: 0;bottom: 0;left: 50%;z-index: -1;}#sk-container-id-2 div.sk-parallel-item {display: flex;flex-direction: column;z-index: 1;position: relative;background-color: white;}#sk-container-id-2 div.sk-parallel-item:first-child::after {align-self: flex-end;width: 50%;}#sk-container-id-2 div.sk-parallel-item:last-child::after {align-self: flex-start;width: 50%;}#sk-container-id-2 div.sk-parallel-item:only-child::after {width: 0;}#sk-container-id-2 div.sk-dashed-wrapped {border: 1px dashed gray;margin: 0 0.4em 0.5em 0.4em;box-sizing: border-box;padding-bottom: 0.4em;background-color: white;}#sk-container-id-2 div.sk-label label {font-family: monospace;font-weight: bold;display: inline-block;line-height: 1.2em;}#sk-container-id-2 div.sk-label-container {text-align: center;}#sk-container-id-2 div.sk-container {/* jupyter's `normalize.less` sets `[hidden] { display: none; }` but bootstrap.min.css set `[hidden] { display: none !important; }` so we also need the `!important` here to be able to override the default hidden behavior on the sphinx rendered scikit-learn.org. See: https://github.com/scikit-learn/scikit-learn/issues/21755 */display: inline-block !important;position: relative;}#sk-container-id-2 div.sk-text-repr-fallback {display: none;}</style><div id=\"sk-container-id-2\" class=\"sk-top-container\"><div class=\"sk-text-repr-fallback\"><pre>DecisionTreeRegressor(max_depth=12, random_state=12345)</pre><b>In a Jupyter environment, please rerun this cell to show the HTML representation or trust the notebook. <br />On GitHub, the HTML representation is unable to render, please try loading this page with nbviewer.org.</b></div><div class=\"sk-container\" hidden><div class=\"sk-item\"><div class=\"sk-estimator sk-toggleable\"><input class=\"sk-toggleable__control sk-hidden--visually\" id=\"sk-estimator-id-2\" type=\"checkbox\" checked><label for=\"sk-estimator-id-2\" class=\"sk-toggleable__label sk-toggleable__label-arrow\">DecisionTreeRegressor</label><div class=\"sk-toggleable__content\"><pre>DecisionTreeRegressor(max_depth=12, random_state=12345)</pre></div></div></div></div></div>"
      ],
      "text/plain": [
       "DecisionTreeRegressor(max_depth=12, random_state=12345)"
      ]
     },
     "execution_count": 49,
     "metadata": {},
     "output_type": "execute_result"
    }
   ],
   "source": [
    "%%time\n",
    "model_DTR = DecisionTreeRegressor(**best_param_train_DTR, random_state=RD_ST)\n",
    "model_DTR.fit(features_train_OE, target_train)"
   ]
  },
  {
   "cell_type": "code",
   "execution_count": 50,
   "metadata": {},
   "outputs": [
    {
     "name": "stdout",
     "output_type": "stream",
     "text": [
      "Wall time: 15 ms\n"
     ]
    }
   ],
   "source": [
    "%%time\n",
    "predictions_valid = model_DTR.predict(features_valid_OE)"
   ]
  },
  {
   "cell_type": "code",
   "execution_count": 51,
   "metadata": {},
   "outputs": [
    {
     "name": "stdout",
     "output_type": "stream",
     "text": [
      "RMSE модели: 1867\n"
     ]
    }
   ],
   "source": [
    "RMSE_valid_DTR = round(mean_squared_error(target_valid, predictions_valid)**0.5)\n",
    "print('RMSE модели:', RMSE_valid_DTR)"
   ]
  },
  {
   "cell_type": "markdown",
   "metadata": {},
   "source": [
    "Третья модель `LightGBM`."
   ]
  },
  {
   "cell_type": "code",
   "execution_count": 58,
   "metadata": {},
   "outputs": [
    {
     "name": "stdout",
     "output_type": "stream",
     "text": [
      "Wall time: 2.12 s\n"
     ]
    },
    {
     "data": {
      "text/html": [
       "<style>#sk-container-id-4 {color: black;background-color: white;}#sk-container-id-4 pre{padding: 0;}#sk-container-id-4 div.sk-toggleable {background-color: white;}#sk-container-id-4 label.sk-toggleable__label {cursor: pointer;display: block;width: 100%;margin-bottom: 0;padding: 0.3em;box-sizing: border-box;text-align: center;}#sk-container-id-4 label.sk-toggleable__label-arrow:before {content: \"▸\";float: left;margin-right: 0.25em;color: #696969;}#sk-container-id-4 label.sk-toggleable__label-arrow:hover:before {color: black;}#sk-container-id-4 div.sk-estimator:hover label.sk-toggleable__label-arrow:before {color: black;}#sk-container-id-4 div.sk-toggleable__content {max-height: 0;max-width: 0;overflow: hidden;text-align: left;background-color: #f0f8ff;}#sk-container-id-4 div.sk-toggleable__content pre {margin: 0.2em;color: black;border-radius: 0.25em;background-color: #f0f8ff;}#sk-container-id-4 input.sk-toggleable__control:checked~div.sk-toggleable__content {max-height: 200px;max-width: 100%;overflow: auto;}#sk-container-id-4 input.sk-toggleable__control:checked~label.sk-toggleable__label-arrow:before {content: \"▾\";}#sk-container-id-4 div.sk-estimator input.sk-toggleable__control:checked~label.sk-toggleable__label {background-color: #d4ebff;}#sk-container-id-4 div.sk-label input.sk-toggleable__control:checked~label.sk-toggleable__label {background-color: #d4ebff;}#sk-container-id-4 input.sk-hidden--visually {border: 0;clip: rect(1px 1px 1px 1px);clip: rect(1px, 1px, 1px, 1px);height: 1px;margin: -1px;overflow: hidden;padding: 0;position: absolute;width: 1px;}#sk-container-id-4 div.sk-estimator {font-family: monospace;background-color: #f0f8ff;border: 1px dotted black;border-radius: 0.25em;box-sizing: border-box;margin-bottom: 0.5em;}#sk-container-id-4 div.sk-estimator:hover {background-color: #d4ebff;}#sk-container-id-4 div.sk-parallel-item::after {content: \"\";width: 100%;border-bottom: 1px solid gray;flex-grow: 1;}#sk-container-id-4 div.sk-label:hover label.sk-toggleable__label {background-color: #d4ebff;}#sk-container-id-4 div.sk-serial::before {content: \"\";position: absolute;border-left: 1px solid gray;box-sizing: border-box;top: 0;bottom: 0;left: 50%;z-index: 0;}#sk-container-id-4 div.sk-serial {display: flex;flex-direction: column;align-items: center;background-color: white;padding-right: 0.2em;padding-left: 0.2em;position: relative;}#sk-container-id-4 div.sk-item {position: relative;z-index: 1;}#sk-container-id-4 div.sk-parallel {display: flex;align-items: stretch;justify-content: center;background-color: white;position: relative;}#sk-container-id-4 div.sk-item::before, #sk-container-id-4 div.sk-parallel-item::before {content: \"\";position: absolute;border-left: 1px solid gray;box-sizing: border-box;top: 0;bottom: 0;left: 50%;z-index: -1;}#sk-container-id-4 div.sk-parallel-item {display: flex;flex-direction: column;z-index: 1;position: relative;background-color: white;}#sk-container-id-4 div.sk-parallel-item:first-child::after {align-self: flex-end;width: 50%;}#sk-container-id-4 div.sk-parallel-item:last-child::after {align-self: flex-start;width: 50%;}#sk-container-id-4 div.sk-parallel-item:only-child::after {width: 0;}#sk-container-id-4 div.sk-dashed-wrapped {border: 1px dashed gray;margin: 0 0.4em 0.5em 0.4em;box-sizing: border-box;padding-bottom: 0.4em;background-color: white;}#sk-container-id-4 div.sk-label label {font-family: monospace;font-weight: bold;display: inline-block;line-height: 1.2em;}#sk-container-id-4 div.sk-label-container {text-align: center;}#sk-container-id-4 div.sk-container {/* jupyter's `normalize.less` sets `[hidden] { display: none; }` but bootstrap.min.css set `[hidden] { display: none !important; }` so we also need the `!important` here to be able to override the default hidden behavior on the sphinx rendered scikit-learn.org. See: https://github.com/scikit-learn/scikit-learn/issues/21755 */display: inline-block !important;position: relative;}#sk-container-id-4 div.sk-text-repr-fallback {display: none;}</style><div id=\"sk-container-id-4\" class=\"sk-top-container\"><div class=\"sk-text-repr-fallback\"><pre>LGBMRegressor(n_estimators=450, num_leaves=120, random_state=12345)</pre><b>In a Jupyter environment, please rerun this cell to show the HTML representation or trust the notebook. <br />On GitHub, the HTML representation is unable to render, please try loading this page with nbviewer.org.</b></div><div class=\"sk-container\" hidden><div class=\"sk-item\"><div class=\"sk-estimator sk-toggleable\"><input class=\"sk-toggleable__control sk-hidden--visually\" id=\"sk-estimator-id-4\" type=\"checkbox\" checked><label for=\"sk-estimator-id-4\" class=\"sk-toggleable__label sk-toggleable__label-arrow\">LGBMRegressor</label><div class=\"sk-toggleable__content\"><pre>LGBMRegressor(n_estimators=450, num_leaves=120, random_state=12345)</pre></div></div></div></div></div>"
      ],
      "text/plain": [
       "LGBMRegressor(n_estimators=450, num_leaves=120, random_state=12345)"
      ]
     },
     "execution_count": 58,
     "metadata": {},
     "output_type": "execute_result"
    }
   ],
   "source": [
    "%%time\n",
    "model_LGB = lightgbm.LGBMRegressor(**best_param_train_LGB, random_state=RD_ST)\n",
    "model_LGB.fit(features_train_OE, target_train)"
   ]
  },
  {
   "cell_type": "code",
   "execution_count": 53,
   "metadata": {},
   "outputs": [
    {
     "name": "stdout",
     "output_type": "stream",
     "text": [
      "Wall time: 704 ms\n"
     ]
    }
   ],
   "source": [
    "%%time\n",
    "predictions_valid = model_LGB.predict(features_valid_OE)"
   ]
  },
  {
   "cell_type": "code",
   "execution_count": 54,
   "metadata": {},
   "outputs": [
    {
     "name": "stdout",
     "output_type": "stream",
     "text": [
      "RMSE модели: 1569\n"
     ]
    }
   ],
   "source": [
    "RMSE_valid_LGB = round(mean_squared_error(target_valid, predictions_valid)**0.5)\n",
    "print('RMSE модели:', RMSE_valid_LGB)"
   ]
  },
  {
   "cell_type": "markdown",
   "metadata": {},
   "source": [
    "Составим таблицы для наглядности результатов."
   ]
  },
  {
   "cell_type": "code",
   "execution_count": 55,
   "metadata": {
    "scrolled": true
   },
   "outputs": [
    {
     "data": {
      "text/html": [
       "<div>\n",
       "<style scoped>\n",
       "    .dataframe tbody tr th:only-of-type {\n",
       "        vertical-align: middle;\n",
       "    }\n",
       "\n",
       "    .dataframe tbody tr th {\n",
       "        vertical-align: top;\n",
       "    }\n",
       "\n",
       "    .dataframe thead th {\n",
       "        text-align: right;\n",
       "    }\n",
       "</style>\n",
       "<table border=\"1\" class=\"dataframe\">\n",
       "  <thead>\n",
       "    <tr style=\"text-align: right;\">\n",
       "      <th></th>\n",
       "      <th>Model</th>\n",
       "      <th>Wall time_train</th>\n",
       "      <th>Wall time_predict</th>\n",
       "      <th>RMSE_valid</th>\n",
       "    </tr>\n",
       "  </thead>\n",
       "  <tbody>\n",
       "    <tr>\n",
       "      <th>0</th>\n",
       "      <td>LinearRegression</td>\n",
       "      <td>~3.2 s</td>\n",
       "      <td>~21.4 ms</td>\n",
       "      <td>2384</td>\n",
       "    </tr>\n",
       "    <tr>\n",
       "      <th>1</th>\n",
       "      <td>DecisionTreeRegressor</td>\n",
       "      <td>~330 ms</td>\n",
       "      <td>~14 ms</td>\n",
       "      <td>1867</td>\n",
       "    </tr>\n",
       "    <tr>\n",
       "      <th>2</th>\n",
       "      <td>LightGBM</td>\n",
       "      <td>~3.53 s</td>\n",
       "      <td>~658 ms</td>\n",
       "      <td>1569</td>\n",
       "    </tr>\n",
       "  </tbody>\n",
       "</table>\n",
       "</div>"
      ],
      "text/plain": [
       "                   Model Wall time_train Wall time_predict  RMSE_valid\n",
       "0       LinearRegression          ~3.2 s          ~21.4 ms        2384\n",
       "1  DecisionTreeRegressor         ~330 ms            ~14 ms        1867\n",
       "2               LightGBM         ~3.53 s           ~658 ms        1569"
      ]
     },
     "execution_count": 55,
     "metadata": {},
     "output_type": "execute_result"
    }
   ],
   "source": [
    "tabledata = [[\"LinearRegression\", \"~3.2 s\", \"~21.4 ms\", RMSE_valid_LR],\n",
    "             [\"DecisionTreeRegressor\", \"~330 ms\", \"~14 ms\", RMSE_valid_DTR],\n",
    "             [\"LightGBM\", \"~3.53 s\", \"~658 ms\", RMSE_valid_LGB]]\n",
    "df= pd.DataFrame(tabledata, columns=[\"Model\", \"Wall time_train\", \"Wall time_predict\", \"RMSE_valid\"])\n",
    "df"
   ]
  },
  {
   "cell_type": "markdown",
   "metadata": {},
   "source": [
    "Проверка модели на тестовой выборке."
   ]
  },
  {
   "cell_type": "code",
   "execution_count": 56,
   "metadata": {},
   "outputs": [
    {
     "name": "stdout",
     "output_type": "stream",
     "text": [
      "RMSE модели: 1857\n"
     ]
    }
   ],
   "source": [
    "predictions_valid = model_DTR.predict(features_test_OE)\n",
    "result = round(mean_squared_error(target_test, predictions_valid)**0.5)\n",
    "print('RMSE модели:', result)"
   ]
  },
  {
   "cell_type": "markdown",
   "metadata": {
    "variables": {
     "result": "1857"
    }
   },
   "source": [
    "**Вывод:** Имея лучшие гиперпараметры, мы обучили модели заново, замерив скорость обучения и скорость предсказаний, а так же качество этих предсказаний. В табличе можете наблюдать результаты. Что касается того, какую модель выбрать, то это `DecisionTreeRegressor`. Если для заказчика важны все три параметра, а заданием была модель, которая выдаёт результат `RMSE менее 2500` то результат очевиден. Результат на тестовой выборке `RMSE = {{result}}`."
   ]
  },
  {
   "cell_type": "markdown",
   "metadata": {},
   "source": [
    "## Общий вывод"
   ]
  },
  {
   "cell_type": "markdown",
   "metadata": {},
   "source": [
    "**Вывод:** В начале работы мы познакомились с данными. И провели предобработку, прежде чем обучать модели. Что именно было сделано:\n",
    "- переименовали столбцы в привычный нам вид и привели всё к нижнему регистру;\n",
    "- удалили из таблицы столбцы, которые *точно не понадобятся* нам для обучения моделей. (`date_crawled, registration_month, date_created, number_of_pictures, postal_code, last_seen`);\n",
    "- было найдены `45040` дубликата и удалены и таблицы;\n",
    "- в столбце `price` около `12000` продавцов выставили стоимость `0` или очень приближенную к `0`. Поэтому всё, что меньше `500` евро мы убрали из датасете, чтобы они не давали дополнительных искажений при обучении моделей;\n",
    "- в признаке `vehicle_type` (тип автомобильного кузова) при первичном осмотре данных в этом столбце мы наблюдали `37490 пропуск`. Заполнить категориальный признак в нашем случае мы не имели возможности, но и удалять такое количество данных так же мы не стали. Просто заполнили значением `\"other\"`;\n",
    "- по таму же принципу заполнили пропуски значением `\"other\"` в столбцах `model, fuel_type`. `gearbox` - в этом столбце пропуски заменили на `\"unknown\"`; \n",
    "- а в признаке по ремонту (`repaired`), заменили пропуски у всех машин, что имеют пробег более `120000` на `\"yes\"`, у другихх на `\"no\"` соответственно;\n",
    "- в признаке `registration_year`. Это год регистрации автомобиля. Пропусков не было, но мы заметили разные выбросы в этом столбце. Постоив график, мы приняли решение оставить только годы регистрации `с 1990 по 2016` так как последний год это год выгрузки объявления и создания таблицы;\n",
    "- `power`. В этом столбце мощность авто (л. с.) мы оставили в датафрейме только те машины, которые укладываются по мощности в диапазон `от 40 до 450`. Были значения и в райне `0`  мы из заменили на медиану по брендам;\n",
    "- далее мы разбили таблицу на обучающую, валидационную и тестовые выборки. `(60|20|20)`\n",
    "- у нас `6` категориальных признаков. И так как мы будем обучать разные модели, то для некоторых из них нужно закодировать категориальные признаки как однократный числовой массив. Используем `OneHotEncoder` для линейной модели. А для моеделей решающего дерева будем использовать порядковое кодирование `OrdinalEncoder` (это позволит увеличить скорость обучения).\n",
    "- после кодирования мы стандартизировали данные для использования их линейной моделью. Сделали это при помощи `StandardScaler`."
   ]
  },
  {
   "cell_type": "markdown",
   "metadata": {
    "variables": {
     "best_param_train_DTR": "{&#39;max_depth&#39;: 12}",
     "best_param_train_LGB": "{&#39;n_estimators&#39;: 450, &#39;num_leaves&#39;: 120}",
     "best_score_train_DTR": "1886",
     "best_score_train_LGB": "1569",
     "best_score_train_LR": "2384"
    }
   },
   "source": [
    "Далее мы обучили `3 разные модели` и нашли лучшие гиперпараметры для них.\n",
    "\n",
    "1 модель `LinearRegression` (RMSE модели: `{{best_score_train_LR}}`)\n",
    "\n",
    "2 модель `DecisionTreeRegressor` (RMSE модели: `{{best_score_train_DTR}}`) \n",
    "- Параметры лучшей модели: {{best_param_train_DTR}}\n",
    "\n",
    "3 модель `LightGBM` (RMSE модели: `{{best_score_train_LGB}}`) \n",
    "- Параметры лучшей модели: {{best_param_train_LGB}}"
   ]
  },
  {
   "cell_type": "markdown",
   "metadata": {
    "variables": {
     "result": "1857"
    }
   },
   "source": [
    "И уже в конце имея лучшие гиперпараметры, мы обучили модели заново, замерив скорость обучения и скорость предсказаний, а так же качество этих предсказаний. В табличе можете наблюдать результаты. Что касается того, какую модель выбрать, то это `DecisionTreeRegressor`. Если для заказчика важны все три параметра, а заданием была модель, которая выдаёт результат `RMSE менее 2500` и быстрая, то результат очевиден. Результат на тестовой выборке `RMSE = {{result}}`."
   ]
  },
  {
   "cell_type": "code",
   "execution_count": 57,
   "metadata": {},
   "outputs": [
    {
     "data": {
      "text/html": [
       "<div>\n",
       "<style scoped>\n",
       "    .dataframe tbody tr th:only-of-type {\n",
       "        vertical-align: middle;\n",
       "    }\n",
       "\n",
       "    .dataframe tbody tr th {\n",
       "        vertical-align: top;\n",
       "    }\n",
       "\n",
       "    .dataframe thead th {\n",
       "        text-align: right;\n",
       "    }\n",
       "</style>\n",
       "<table border=\"1\" class=\"dataframe\">\n",
       "  <thead>\n",
       "    <tr style=\"text-align: right;\">\n",
       "      <th></th>\n",
       "      <th>Model</th>\n",
       "      <th>Wall time_train</th>\n",
       "      <th>Wall time_predict</th>\n",
       "      <th>RMSE_valid</th>\n",
       "    </tr>\n",
       "  </thead>\n",
       "  <tbody>\n",
       "    <tr>\n",
       "      <th>0</th>\n",
       "      <td>LinearRegression</td>\n",
       "      <td>~3.2 s</td>\n",
       "      <td>~21.4 ms</td>\n",
       "      <td>2384</td>\n",
       "    </tr>\n",
       "    <tr>\n",
       "      <th>1</th>\n",
       "      <td>DecisionTreeRegressor</td>\n",
       "      <td>~330 ms</td>\n",
       "      <td>~14 ms</td>\n",
       "      <td>1867</td>\n",
       "    </tr>\n",
       "    <tr>\n",
       "      <th>2</th>\n",
       "      <td>LightGBM</td>\n",
       "      <td>~3.53 s</td>\n",
       "      <td>~658 ms</td>\n",
       "      <td>1569</td>\n",
       "    </tr>\n",
       "  </tbody>\n",
       "</table>\n",
       "</div>"
      ],
      "text/plain": [
       "                   Model Wall time_train Wall time_predict  RMSE_valid\n",
       "0       LinearRegression          ~3.2 s          ~21.4 ms        2384\n",
       "1  DecisionTreeRegressor         ~330 ms            ~14 ms        1867\n",
       "2               LightGBM         ~3.53 s           ~658 ms        1569"
      ]
     },
     "execution_count": 57,
     "metadata": {},
     "output_type": "execute_result"
    }
   ],
   "source": [
    "tabledata = [[\"LinearRegression\", \"~3.2 s\", \"~21.4 ms\", RMSE_valid_LR],\n",
    "             [\"DecisionTreeRegressor\", \"~330 ms\", \"~14 ms\", RMSE_valid_DTR],\n",
    "             [\"LightGBM\", \"~3.53 s\", \"~658 ms\", RMSE_valid_LGB]]\n",
    "df= pd.DataFrame(tabledata, columns=[\"Model\", \"Wall time_train\", \"Wall time_predict\", \"RMSE_valid\"])\n",
    "df"
   ]
  }
 ],
 "metadata": {
  "ExecuteTimeLog": [
   {
    "duration": 1058,
    "start_time": "2023-03-10T06:20:33.896Z"
   },
   {
    "duration": 5,
    "start_time": "2023-03-10T06:20:47.466Z"
   },
   {
    "duration": 1626,
    "start_time": "2023-03-10T06:21:36.865Z"
   },
   {
    "duration": 1111,
    "start_time": "2023-03-10T06:22:14.100Z"
   },
   {
    "duration": 5,
    "start_time": "2023-03-10T06:22:20.439Z"
   },
   {
    "duration": 3209,
    "start_time": "2023-03-10T06:22:25.276Z"
   },
   {
    "duration": 6,
    "start_time": "2023-03-10T06:30:43.891Z"
   },
   {
    "duration": 6,
    "start_time": "2023-03-10T06:33:43.869Z"
   },
   {
    "duration": 4,
    "start_time": "2023-03-10T06:35:19.303Z"
   },
   {
    "duration": 36,
    "start_time": "2023-03-10T06:35:27.899Z"
   },
   {
    "duration": 18,
    "start_time": "2023-03-10T06:35:52.438Z"
   },
   {
    "duration": 25,
    "start_time": "2023-03-10T06:36:12.200Z"
   },
   {
    "duration": 15,
    "start_time": "2023-03-10T06:36:17.718Z"
   },
   {
    "duration": 8,
    "start_time": "2023-03-10T07:40:28.568Z"
   },
   {
    "duration": 40,
    "start_time": "2023-03-10T07:53:32.615Z"
   },
   {
    "duration": 56,
    "start_time": "2023-03-10T07:53:42.293Z"
   },
   {
    "duration": 43,
    "start_time": "2023-03-10T07:53:57.960Z"
   },
   {
    "duration": 77,
    "start_time": "2023-03-10T07:54:12.959Z"
   },
   {
    "duration": 58,
    "start_time": "2023-03-10T07:55:11.693Z"
   },
   {
    "duration": 57,
    "start_time": "2023-03-10T07:55:16.600Z"
   },
   {
    "duration": 1276,
    "start_time": "2023-03-10T08:06:35.029Z"
   },
   {
    "duration": 78,
    "start_time": "2023-03-10T08:09:39.381Z"
   },
   {
    "duration": 86,
    "start_time": "2023-03-10T08:10:21.848Z"
   },
   {
    "duration": 149,
    "start_time": "2023-03-10T08:11:24.729Z"
   },
   {
    "duration": 13,
    "start_time": "2023-03-10T08:11:40.293Z"
   },
   {
    "duration": 15,
    "start_time": "2023-03-10T08:12:17.244Z"
   },
   {
    "duration": 213,
    "start_time": "2023-03-10T08:13:15.843Z"
   },
   {
    "duration": 6,
    "start_time": "2023-03-10T08:13:21.171Z"
   },
   {
    "duration": 6100,
    "start_time": "2023-03-10T08:13:32.227Z"
   },
   {
    "duration": 6,
    "start_time": "2023-03-10T08:14:31.892Z"
   },
   {
    "duration": 270,
    "start_time": "2023-03-10T08:15:15.907Z"
   },
   {
    "duration": 12,
    "start_time": "2023-03-10T08:18:27.412Z"
   },
   {
    "duration": 4,
    "start_time": "2023-03-10T08:19:18.298Z"
   },
   {
    "duration": 5,
    "start_time": "2023-03-10T08:19:41.978Z"
   },
   {
    "duration": 14,
    "start_time": "2023-03-10T08:19:57.208Z"
   },
   {
    "duration": 11,
    "start_time": "2023-03-10T08:21:24.266Z"
   },
   {
    "duration": 12,
    "start_time": "2023-03-10T09:04:56.992Z"
   },
   {
    "duration": 14,
    "start_time": "2023-03-10T09:05:09.500Z"
   },
   {
    "duration": 13,
    "start_time": "2023-03-10T09:05:36.439Z"
   },
   {
    "duration": 1093,
    "start_time": "2023-03-10T09:29:09.915Z"
   },
   {
    "duration": 198,
    "start_time": "2023-03-10T09:30:11.672Z"
   },
   {
    "duration": 5,
    "start_time": "2023-03-10T09:30:41.121Z"
   },
   {
    "duration": 218,
    "start_time": "2023-03-10T09:30:45.300Z"
   },
   {
    "duration": 395,
    "start_time": "2023-03-10T09:31:34.816Z"
   },
   {
    "duration": 366,
    "start_time": "2023-03-10T09:32:02.751Z"
   },
   {
    "duration": 428,
    "start_time": "2023-03-10T09:32:38.460Z"
   },
   {
    "duration": 395,
    "start_time": "2023-03-10T09:32:53.999Z"
   },
   {
    "duration": 361,
    "start_time": "2023-03-10T09:33:07.200Z"
   },
   {
    "duration": 360,
    "start_time": "2023-03-10T09:34:25.838Z"
   },
   {
    "duration": 419,
    "start_time": "2023-03-10T09:34:52.410Z"
   },
   {
    "duration": 576,
    "start_time": "2023-03-10T09:35:10.759Z"
   },
   {
    "duration": 480,
    "start_time": "2023-03-10T09:35:58.220Z"
   },
   {
    "duration": 523,
    "start_time": "2023-03-10T09:36:28.562Z"
   },
   {
    "duration": 518,
    "start_time": "2023-03-10T09:36:40.651Z"
   },
   {
    "duration": 533,
    "start_time": "2023-03-10T09:37:41.002Z"
   },
   {
    "duration": 4489,
    "start_time": "2023-03-10T09:49:50.899Z"
   },
   {
    "duration": 11,
    "start_time": "2023-03-10T09:50:14.747Z"
   },
   {
    "duration": 17,
    "start_time": "2023-03-10T09:56:04.061Z"
   },
   {
    "duration": 2988,
    "start_time": "2023-03-10T09:56:25.875Z"
   },
   {
    "duration": 19,
    "start_time": "2023-03-10T09:56:34.618Z"
   },
   {
    "duration": 47,
    "start_time": "2023-03-10T10:33:57.274Z"
   },
   {
    "duration": 476,
    "start_time": "2023-03-10T10:34:05.488Z"
   },
   {
    "duration": 523,
    "start_time": "2023-03-10T10:34:13.731Z"
   },
   {
    "duration": 465,
    "start_time": "2023-03-10T10:38:10.859Z"
   },
   {
    "duration": 494,
    "start_time": "2023-03-10T10:39:02.668Z"
   },
   {
    "duration": 552,
    "start_time": "2023-03-10T10:39:08.330Z"
   },
   {
    "duration": 490,
    "start_time": "2023-03-10T10:39:21.762Z"
   },
   {
    "duration": 581,
    "start_time": "2023-03-10T10:39:40.680Z"
   },
   {
    "duration": 44,
    "start_time": "2023-03-10T10:43:36.817Z"
   },
   {
    "duration": 829,
    "start_time": "2023-03-10T10:47:32.386Z"
   },
   {
    "duration": 63,
    "start_time": "2023-03-10T10:48:19.160Z"
   },
   {
    "duration": 0,
    "start_time": "2023-03-10T10:51:30.690Z"
   },
   {
    "duration": 1438,
    "start_time": "2023-03-10T10:53:08.098Z"
   },
   {
    "duration": 4,
    "start_time": "2023-03-10T10:53:09.538Z"
   },
   {
    "duration": 3090,
    "start_time": "2023-03-10T10:53:09.544Z"
   },
   {
    "duration": 23,
    "start_time": "2023-03-10T10:53:12.637Z"
   },
   {
    "duration": 514,
    "start_time": "2023-03-10T10:53:12.678Z"
   },
   {
    "duration": 511,
    "start_time": "2023-03-10T10:53:13.194Z"
   },
   {
    "duration": 42,
    "start_time": "2023-03-10T10:53:13.707Z"
   },
   {
    "duration": 97742,
    "start_time": "2023-03-10T10:53:13.751Z"
   },
   {
    "duration": 0,
    "start_time": "2023-03-10T10:54:51.495Z"
   },
   {
    "duration": 0,
    "start_time": "2023-03-10T10:54:51.497Z"
   },
   {
    "duration": 660,
    "start_time": "2023-03-10T10:55:26.017Z"
   },
   {
    "duration": 10,
    "start_time": "2023-03-10T10:55:46.599Z"
   },
   {
    "duration": 12,
    "start_time": "2023-03-10T10:55:51.784Z"
   },
   {
    "duration": 46528,
    "start_time": "2023-03-10T10:56:04.286Z"
   },
   {
    "duration": 0,
    "start_time": "2023-03-10T10:58:29.931Z"
   },
   {
    "duration": 368,
    "start_time": "2023-03-10T10:58:33.665Z"
   },
   {
    "duration": 409,
    "start_time": "2023-03-10T10:59:24.152Z"
   },
   {
    "duration": 422,
    "start_time": "2023-03-10T10:59:46.571Z"
   },
   {
    "duration": 389,
    "start_time": "2023-03-10T10:59:56.313Z"
   },
   {
    "duration": 811,
    "start_time": "2023-03-10T11:00:16.096Z"
   },
   {
    "duration": 4,
    "start_time": "2023-03-10T11:00:56.474Z"
   },
   {
    "duration": 409,
    "start_time": "2023-03-10T11:01:18.364Z"
   },
   {
    "duration": 46,
    "start_time": "2023-03-10T11:01:49.571Z"
   },
   {
    "duration": 10,
    "start_time": "2023-03-10T11:02:09.934Z"
   },
   {
    "duration": 15666,
    "start_time": "2023-03-10T11:02:24.390Z"
   },
   {
    "duration": 609,
    "start_time": "2023-03-10T11:04:19.155Z"
   },
   {
    "duration": 566,
    "start_time": "2023-03-10T11:05:33.822Z"
   },
   {
    "duration": 330,
    "start_time": "2023-03-10T11:05:49.603Z"
   },
   {
    "duration": 13,
    "start_time": "2023-03-10T11:07:11.094Z"
   },
   {
    "duration": 13,
    "start_time": "2023-03-10T11:07:26.764Z"
   },
   {
    "duration": 10794,
    "start_time": "2023-03-10T11:07:48.199Z"
   },
   {
    "duration": 695,
    "start_time": "2023-03-10T11:08:19.130Z"
   },
   {
    "duration": 47,
    "start_time": "2023-03-10T11:08:40.132Z"
   },
   {
    "duration": 263,
    "start_time": "2023-03-10T11:08:55.326Z"
   },
   {
    "duration": 245,
    "start_time": "2023-03-10T11:09:03.432Z"
   },
   {
    "duration": 282,
    "start_time": "2023-03-10T11:10:17.598Z"
   },
   {
    "duration": 11,
    "start_time": "2023-03-10T11:10:38.367Z"
   },
   {
    "duration": 9,
    "start_time": "2023-03-10T11:10:57.762Z"
   },
   {
    "duration": 12,
    "start_time": "2023-03-10T11:11:49.306Z"
   },
   {
    "duration": 193,
    "start_time": "2023-03-10T11:11:58.464Z"
   },
   {
    "duration": 16,
    "start_time": "2023-03-10T11:12:47.188Z"
   },
   {
    "duration": 11,
    "start_time": "2023-03-10T11:13:09.687Z"
   },
   {
    "duration": 328,
    "start_time": "2023-03-10T11:13:17.857Z"
   },
   {
    "duration": 50,
    "start_time": "2023-03-10T11:14:18.189Z"
   },
   {
    "duration": 352,
    "start_time": "2023-03-10T11:14:22.555Z"
   },
   {
    "duration": 12,
    "start_time": "2023-03-10T11:14:34.922Z"
   },
   {
    "duration": 11,
    "start_time": "2023-03-10T11:14:45.986Z"
   },
   {
    "duration": 342,
    "start_time": "2023-03-10T11:14:53.706Z"
   },
   {
    "duration": 84,
    "start_time": "2023-03-10T11:15:10.260Z"
   },
   {
    "duration": 575,
    "start_time": "2023-03-10T11:15:37.760Z"
   },
   {
    "duration": 214,
    "start_time": "2023-03-10T11:16:03.764Z"
   },
   {
    "duration": 269,
    "start_time": "2023-03-10T11:16:09.062Z"
   },
   {
    "duration": 297,
    "start_time": "2023-03-10T11:17:21.555Z"
   },
   {
    "duration": 160,
    "start_time": "2023-03-10T11:18:27.506Z"
   },
   {
    "duration": 174,
    "start_time": "2023-03-10T11:18:34.730Z"
   },
   {
    "duration": 51,
    "start_time": "2023-03-11T03:54:54.624Z"
   },
   {
    "duration": 1503,
    "start_time": "2023-03-11T03:55:07.877Z"
   },
   {
    "duration": 4,
    "start_time": "2023-03-11T03:55:09.382Z"
   },
   {
    "duration": 2848,
    "start_time": "2023-03-11T03:55:09.388Z"
   },
   {
    "duration": 15,
    "start_time": "2023-03-11T03:55:12.238Z"
   },
   {
    "duration": 402,
    "start_time": "2023-03-11T03:55:12.254Z"
   },
   {
    "duration": 415,
    "start_time": "2023-03-11T03:55:12.657Z"
   },
   {
    "duration": 42,
    "start_time": "2023-03-11T03:55:13.079Z"
   },
   {
    "duration": 229,
    "start_time": "2023-03-11T03:55:13.122Z"
   },
   {
    "duration": 207,
    "start_time": "2023-03-11T03:55:13.353Z"
   },
   {
    "duration": 0,
    "start_time": "2023-03-11T03:55:13.562Z"
   },
   {
    "duration": 0,
    "start_time": "2023-03-11T03:55:13.562Z"
   },
   {
    "duration": 0,
    "start_time": "2023-03-11T03:55:13.563Z"
   },
   {
    "duration": 0,
    "start_time": "2023-03-11T03:55:13.564Z"
   },
   {
    "duration": 0,
    "start_time": "2023-03-11T03:55:13.565Z"
   },
   {
    "duration": 0,
    "start_time": "2023-03-11T03:55:13.565Z"
   },
   {
    "duration": 3,
    "start_time": "2023-03-11T03:56:21.366Z"
   },
   {
    "duration": 282,
    "start_time": "2023-03-11T03:56:27.560Z"
   },
   {
    "duration": 307,
    "start_time": "2023-03-11T03:56:54.944Z"
   },
   {
    "duration": 498,
    "start_time": "2023-03-11T04:00:21.395Z"
   },
   {
    "duration": 265,
    "start_time": "2023-03-11T04:00:41.478Z"
   },
   {
    "duration": 1431,
    "start_time": "2023-03-11T04:14:37.577Z"
   },
   {
    "duration": 4,
    "start_time": "2023-03-11T04:14:39.011Z"
   },
   {
    "duration": 2711,
    "start_time": "2023-03-11T04:14:39.017Z"
   },
   {
    "duration": 14,
    "start_time": "2023-03-11T04:14:41.730Z"
   },
   {
    "duration": 497,
    "start_time": "2023-03-11T04:14:41.746Z"
   },
   {
    "duration": 424,
    "start_time": "2023-03-11T04:14:42.245Z"
   },
   {
    "duration": 46,
    "start_time": "2023-03-11T04:14:42.671Z"
   },
   {
    "duration": 220,
    "start_time": "2023-03-11T04:14:42.719Z"
   },
   {
    "duration": 460,
    "start_time": "2023-03-11T04:14:42.940Z"
   },
   {
    "duration": 0,
    "start_time": "2023-03-11T04:14:43.402Z"
   },
   {
    "duration": 0,
    "start_time": "2023-03-11T04:14:43.404Z"
   },
   {
    "duration": 0,
    "start_time": "2023-03-11T04:14:43.405Z"
   },
   {
    "duration": 0,
    "start_time": "2023-03-11T04:14:43.406Z"
   },
   {
    "duration": 0,
    "start_time": "2023-03-11T04:14:43.407Z"
   },
   {
    "duration": 0,
    "start_time": "2023-03-11T04:14:43.408Z"
   },
   {
    "duration": 0,
    "start_time": "2023-03-11T04:14:43.408Z"
   },
   {
    "duration": 231,
    "start_time": "2023-03-11T04:24:24.303Z"
   },
   {
    "duration": 232,
    "start_time": "2023-03-11T04:24:57.428Z"
   },
   {
    "duration": 7,
    "start_time": "2023-03-11T04:25:25.364Z"
   },
   {
    "duration": 41,
    "start_time": "2023-03-11T04:26:00.826Z"
   },
   {
    "duration": 248,
    "start_time": "2023-03-11T04:26:06.475Z"
   },
   {
    "duration": 240,
    "start_time": "2023-03-11T04:27:40.736Z"
   },
   {
    "duration": 226,
    "start_time": "2023-03-11T04:29:46.897Z"
   },
   {
    "duration": 54,
    "start_time": "2023-03-11T04:37:15.937Z"
   },
   {
    "duration": 595,
    "start_time": "2023-03-11T04:37:29.788Z"
   },
   {
    "duration": 708,
    "start_time": "2023-03-11T04:37:49.100Z"
   },
   {
    "duration": 1479,
    "start_time": "2023-03-11T04:38:05.831Z"
   },
   {
    "duration": 303,
    "start_time": "2023-03-11T04:38:27.525Z"
   },
   {
    "duration": 284,
    "start_time": "2023-03-11T04:39:14.409Z"
   },
   {
    "duration": 414,
    "start_time": "2023-03-11T04:39:23.643Z"
   },
   {
    "duration": 293,
    "start_time": "2023-03-11T04:39:50.050Z"
   },
   {
    "duration": 332,
    "start_time": "2023-03-11T04:44:05.411Z"
   },
   {
    "duration": 311,
    "start_time": "2023-03-11T04:50:59.734Z"
   },
   {
    "duration": 350,
    "start_time": "2023-03-11T04:52:16.922Z"
   },
   {
    "duration": 356,
    "start_time": "2023-03-11T04:52:22.816Z"
   },
   {
    "duration": 416,
    "start_time": "2023-03-11T04:52:32.248Z"
   },
   {
    "duration": 9,
    "start_time": "2023-03-11T04:59:39.209Z"
   },
   {
    "duration": 14,
    "start_time": "2023-03-11T04:59:44.967Z"
   },
   {
    "duration": 1252,
    "start_time": "2023-03-11T05:00:10.943Z"
   },
   {
    "duration": 4,
    "start_time": "2023-03-11T05:00:12.196Z"
   },
   {
    "duration": 2465,
    "start_time": "2023-03-11T05:00:12.201Z"
   },
   {
    "duration": 14,
    "start_time": "2023-03-11T05:00:14.668Z"
   },
   {
    "duration": 368,
    "start_time": "2023-03-11T05:00:14.684Z"
   },
   {
    "duration": 386,
    "start_time": "2023-03-11T05:00:15.053Z"
   },
   {
    "duration": 42,
    "start_time": "2023-03-11T05:00:15.441Z"
   },
   {
    "duration": 208,
    "start_time": "2023-03-11T05:00:15.484Z"
   },
   {
    "duration": 454,
    "start_time": "2023-03-11T05:00:15.693Z"
   },
   {
    "duration": 32,
    "start_time": "2023-03-11T05:00:16.148Z"
   },
   {
    "duration": 16,
    "start_time": "2023-03-11T05:00:16.182Z"
   },
   {
    "duration": 931,
    "start_time": "2023-03-11T05:00:16.199Z"
   },
   {
    "duration": 0,
    "start_time": "2023-03-11T05:00:17.131Z"
   },
   {
    "duration": 0,
    "start_time": "2023-03-11T05:00:17.132Z"
   },
   {
    "duration": 0,
    "start_time": "2023-03-11T05:00:17.133Z"
   },
   {
    "duration": 28,
    "start_time": "2023-03-11T05:16:31.033Z"
   },
   {
    "duration": 22,
    "start_time": "2023-03-11T05:22:34.461Z"
   },
   {
    "duration": 28,
    "start_time": "2023-03-11T05:23:27.188Z"
   },
   {
    "duration": 24,
    "start_time": "2023-03-11T05:23:34.520Z"
   },
   {
    "duration": 19,
    "start_time": "2023-03-11T05:23:43.866Z"
   },
   {
    "duration": 5,
    "start_time": "2023-03-11T05:26:01.559Z"
   },
   {
    "duration": 4,
    "start_time": "2023-03-11T05:26:10.114Z"
   },
   {
    "duration": 5,
    "start_time": "2023-03-11T05:26:19.997Z"
   },
   {
    "duration": 6,
    "start_time": "2023-03-11T05:26:32.192Z"
   },
   {
    "duration": 20,
    "start_time": "2023-03-11T05:27:25.076Z"
   },
   {
    "duration": 44,
    "start_time": "2023-03-11T05:28:19.103Z"
   },
   {
    "duration": 175,
    "start_time": "2023-03-11T05:28:39.276Z"
   },
   {
    "duration": 308,
    "start_time": "2023-03-11T05:28:51.385Z"
   },
   {
    "duration": 183,
    "start_time": "2023-03-11T05:29:13.661Z"
   },
   {
    "duration": 4,
    "start_time": "2023-03-11T05:30:06.114Z"
   },
   {
    "duration": 10,
    "start_time": "2023-03-11T05:30:33.612Z"
   },
   {
    "duration": 5,
    "start_time": "2023-03-11T05:30:45.801Z"
   },
   {
    "duration": 3,
    "start_time": "2023-03-11T05:31:54.515Z"
   },
   {
    "duration": 5,
    "start_time": "2023-03-11T05:32:06.713Z"
   },
   {
    "duration": 11,
    "start_time": "2023-03-11T05:33:31.470Z"
   },
   {
    "duration": 5,
    "start_time": "2023-03-11T05:33:46.967Z"
   },
   {
    "duration": 10,
    "start_time": "2023-03-11T05:33:56.704Z"
   },
   {
    "duration": 6,
    "start_time": "2023-03-11T05:34:04.767Z"
   },
   {
    "duration": 4,
    "start_time": "2023-03-11T05:34:12.158Z"
   },
   {
    "duration": 5,
    "start_time": "2023-03-11T05:34:26.025Z"
   },
   {
    "duration": 6,
    "start_time": "2023-03-11T05:34:33.700Z"
   },
   {
    "duration": 4,
    "start_time": "2023-03-11T05:35:22.299Z"
   },
   {
    "duration": 14,
    "start_time": "2023-03-11T05:35:48.898Z"
   },
   {
    "duration": 13,
    "start_time": "2023-03-11T05:35:59.127Z"
   },
   {
    "duration": 13,
    "start_time": "2023-03-11T05:39:11.293Z"
   },
   {
    "duration": 26,
    "start_time": "2023-03-11T05:40:25.320Z"
   },
   {
    "duration": 237,
    "start_time": "2023-03-11T05:42:12.461Z"
   },
   {
    "duration": 302,
    "start_time": "2023-03-11T05:42:25.981Z"
   },
   {
    "duration": 21,
    "start_time": "2023-03-11T05:48:07.316Z"
   },
   {
    "duration": 15,
    "start_time": "2023-03-11T05:48:08.339Z"
   },
   {
    "duration": 16,
    "start_time": "2023-03-11T06:14:23.540Z"
   },
   {
    "duration": 27,
    "start_time": "2023-03-11T06:16:48.105Z"
   },
   {
    "duration": 226,
    "start_time": "2023-03-11T06:18:25.376Z"
   },
   {
    "duration": 740,
    "start_time": "2023-03-11T06:21:09.976Z"
   },
   {
    "duration": 354,
    "start_time": "2023-03-11T06:21:25.372Z"
   },
   {
    "duration": 425,
    "start_time": "2023-03-11T06:24:56.116Z"
   },
   {
    "duration": 19,
    "start_time": "2023-03-11T06:28:01.846Z"
   },
   {
    "duration": 15,
    "start_time": "2023-03-11T06:28:39.227Z"
   },
   {
    "duration": 231,
    "start_time": "2023-03-11T06:31:58.114Z"
   },
   {
    "duration": 772,
    "start_time": "2023-03-11T06:34:17.640Z"
   },
   {
    "duration": 762,
    "start_time": "2023-03-11T06:34:29.889Z"
   },
   {
    "duration": 1418,
    "start_time": "2023-03-11T06:34:55.476Z"
   },
   {
    "duration": 7,
    "start_time": "2023-03-11T06:34:56.897Z"
   },
   {
    "duration": 3148,
    "start_time": "2023-03-11T06:34:56.906Z"
   },
   {
    "duration": 14,
    "start_time": "2023-03-11T06:35:00.057Z"
   },
   {
    "duration": 475,
    "start_time": "2023-03-11T06:35:00.079Z"
   },
   {
    "duration": 510,
    "start_time": "2023-03-11T06:35:00.555Z"
   },
   {
    "duration": 51,
    "start_time": "2023-03-11T06:35:01.067Z"
   },
   {
    "duration": 285,
    "start_time": "2023-03-11T06:35:01.120Z"
   },
   {
    "duration": 493,
    "start_time": "2023-03-11T06:35:01.407Z"
   },
   {
    "duration": 26,
    "start_time": "2023-03-11T06:35:01.904Z"
   },
   {
    "duration": 20,
    "start_time": "2023-03-11T06:35:01.931Z"
   },
   {
    "duration": 68,
    "start_time": "2023-03-11T06:35:01.952Z"
   },
   {
    "duration": 32,
    "start_time": "2023-03-11T06:35:02.022Z"
   },
   {
    "duration": 291,
    "start_time": "2023-03-11T06:35:02.055Z"
   },
   {
    "duration": 33,
    "start_time": "2023-03-11T06:35:02.347Z"
   },
   {
    "duration": 29,
    "start_time": "2023-03-11T06:35:02.382Z"
   },
   {
    "duration": 41,
    "start_time": "2023-03-11T06:35:02.412Z"
   },
   {
    "duration": 240,
    "start_time": "2023-03-11T06:35:02.455Z"
   },
   {
    "duration": 357,
    "start_time": "2023-03-11T06:35:02.697Z"
   },
   {
    "duration": 40,
    "start_time": "2023-03-11T06:35:03.056Z"
   },
   {
    "duration": 222,
    "start_time": "2023-03-11T06:35:03.110Z"
   },
   {
    "duration": 23,
    "start_time": "2023-03-11T06:35:03.333Z"
   },
   {
    "duration": 2,
    "start_time": "2023-03-11T06:35:03.357Z"
   },
   {
    "duration": 20,
    "start_time": "2023-03-11T06:35:03.360Z"
   },
   {
    "duration": 5,
    "start_time": "2023-03-11T06:35:03.381Z"
   },
   {
    "duration": 186,
    "start_time": "2023-03-11T06:56:50.521Z"
   },
   {
    "duration": 25,
    "start_time": "2023-03-11T07:01:02.853Z"
   },
   {
    "duration": 237,
    "start_time": "2023-03-11T07:02:05.815Z"
   },
   {
    "duration": 26,
    "start_time": "2023-03-11T07:04:53.860Z"
   },
   {
    "duration": 61,
    "start_time": "2023-03-11T07:06:54.808Z"
   },
   {
    "duration": 52,
    "start_time": "2023-03-11T07:07:48.521Z"
   },
   {
    "duration": 13,
    "start_time": "2023-03-11T08:12:22.571Z"
   },
   {
    "duration": 72,
    "start_time": "2023-03-11T08:19:10.626Z"
   },
   {
    "duration": 111,
    "start_time": "2023-03-11T08:20:06.248Z"
   },
   {
    "duration": 15,
    "start_time": "2023-03-11T08:20:12.614Z"
   },
   {
    "duration": 15,
    "start_time": "2023-03-11T08:20:55.046Z"
   },
   {
    "duration": 18,
    "start_time": "2023-03-11T08:59:18.242Z"
   },
   {
    "duration": 5,
    "start_time": "2023-03-11T08:59:25.300Z"
   },
   {
    "duration": 22,
    "start_time": "2023-03-11T08:59:33.710Z"
   },
   {
    "duration": 9275,
    "start_time": "2023-03-11T09:01:10.924Z"
   },
   {
    "duration": 41,
    "start_time": "2023-03-11T09:01:27.966Z"
   },
   {
    "duration": 7,
    "start_time": "2023-03-11T09:01:34.314Z"
   },
   {
    "duration": 33,
    "start_time": "2023-03-11T09:01:43.212Z"
   },
   {
    "duration": 30,
    "start_time": "2023-03-11T09:02:08.109Z"
   },
   {
    "duration": 24,
    "start_time": "2023-03-11T09:03:03.644Z"
   },
   {
    "duration": 1150,
    "start_time": "2023-03-11T09:03:22.310Z"
   },
   {
    "duration": 1999,
    "start_time": "2023-03-11T09:03:23.462Z"
   },
   {
    "duration": 5,
    "start_time": "2023-03-11T09:03:25.463Z"
   },
   {
    "duration": 2968,
    "start_time": "2023-03-11T09:03:25.471Z"
   },
   {
    "duration": 17,
    "start_time": "2023-03-11T09:03:28.441Z"
   },
   {
    "duration": 537,
    "start_time": "2023-03-11T09:03:28.460Z"
   },
   {
    "duration": 546,
    "start_time": "2023-03-11T09:03:28.999Z"
   },
   {
    "duration": 67,
    "start_time": "2023-03-11T09:03:29.547Z"
   },
   {
    "duration": 255,
    "start_time": "2023-03-11T09:03:29.615Z"
   },
   {
    "duration": 504,
    "start_time": "2023-03-11T09:03:29.872Z"
   },
   {
    "duration": 29,
    "start_time": "2023-03-11T09:03:30.379Z"
   },
   {
    "duration": 61,
    "start_time": "2023-03-11T09:03:30.410Z"
   },
   {
    "duration": 85,
    "start_time": "2023-03-11T09:03:30.473Z"
   },
   {
    "duration": 46,
    "start_time": "2023-03-11T09:03:30.560Z"
   },
   {
    "duration": 331,
    "start_time": "2023-03-11T09:03:30.608Z"
   },
   {
    "duration": 37,
    "start_time": "2023-03-11T09:03:30.940Z"
   },
   {
    "duration": 52,
    "start_time": "2023-03-11T09:03:30.982Z"
   },
   {
    "duration": 77,
    "start_time": "2023-03-11T09:03:31.036Z"
   },
   {
    "duration": 287,
    "start_time": "2023-03-11T09:03:31.115Z"
   },
   {
    "duration": 403,
    "start_time": "2023-03-11T09:03:31.404Z"
   },
   {
    "duration": 34,
    "start_time": "2023-03-11T09:03:31.809Z"
   },
   {
    "duration": 274,
    "start_time": "2023-03-11T09:03:31.845Z"
   },
   {
    "duration": 41,
    "start_time": "2023-03-11T09:03:32.121Z"
   },
   {
    "duration": 278,
    "start_time": "2023-03-11T09:03:32.164Z"
   },
   {
    "duration": 54,
    "start_time": "2023-03-11T09:03:32.443Z"
   },
   {
    "duration": 255,
    "start_time": "2023-03-11T09:03:32.498Z"
   },
   {
    "duration": 56,
    "start_time": "2023-03-11T09:03:32.755Z"
   },
   {
    "duration": 93,
    "start_time": "2023-03-11T09:03:32.815Z"
   },
   {
    "duration": 55,
    "start_time": "2023-03-11T09:03:32.909Z"
   },
   {
    "duration": 89,
    "start_time": "2023-03-11T09:03:32.965Z"
   },
   {
    "duration": 12,
    "start_time": "2023-03-11T09:03:33.056Z"
   },
   {
    "duration": 115,
    "start_time": "2023-03-11T09:03:33.070Z"
   },
   {
    "duration": 4,
    "start_time": "2023-03-11T09:03:33.193Z"
   },
   {
    "duration": 29398,
    "start_time": "2023-03-11T09:04:51.809Z"
   },
   {
    "duration": 53,
    "start_time": "2023-03-11T09:05:25.619Z"
   },
   {
    "duration": 1355,
    "start_time": "2023-03-11T09:18:26.808Z"
   },
   {
    "duration": 2240,
    "start_time": "2023-03-11T09:18:28.166Z"
   },
   {
    "duration": 5,
    "start_time": "2023-03-11T09:18:30.408Z"
   },
   {
    "duration": 2892,
    "start_time": "2023-03-11T09:18:30.415Z"
   },
   {
    "duration": 13,
    "start_time": "2023-03-11T09:18:33.309Z"
   },
   {
    "duration": 474,
    "start_time": "2023-03-11T09:18:33.323Z"
   },
   {
    "duration": 433,
    "start_time": "2023-03-11T09:18:33.800Z"
   },
   {
    "duration": 51,
    "start_time": "2023-03-11T09:18:34.234Z"
   },
   {
    "duration": 213,
    "start_time": "2023-03-11T09:18:34.286Z"
   },
   {
    "duration": 432,
    "start_time": "2023-03-11T09:18:34.503Z"
   },
   {
    "duration": 26,
    "start_time": "2023-03-11T09:18:34.937Z"
   },
   {
    "duration": 37,
    "start_time": "2023-03-11T09:18:34.965Z"
   },
   {
    "duration": 28,
    "start_time": "2023-03-11T09:18:35.004Z"
   },
   {
    "duration": 28,
    "start_time": "2023-03-11T09:18:35.034Z"
   },
   {
    "duration": 263,
    "start_time": "2023-03-11T09:18:35.063Z"
   },
   {
    "duration": 23,
    "start_time": "2023-03-11T09:18:35.327Z"
   },
   {
    "duration": 14,
    "start_time": "2023-03-11T09:18:35.352Z"
   },
   {
    "duration": 35,
    "start_time": "2023-03-11T09:18:35.379Z"
   },
   {
    "duration": 223,
    "start_time": "2023-03-11T09:18:35.415Z"
   },
   {
    "duration": 369,
    "start_time": "2023-03-11T09:18:35.641Z"
   },
   {
    "duration": 28,
    "start_time": "2023-03-11T09:18:36.012Z"
   },
   {
    "duration": 333,
    "start_time": "2023-03-11T09:18:36.042Z"
   },
   {
    "duration": 40,
    "start_time": "2023-03-11T09:18:36.377Z"
   },
   {
    "duration": 203,
    "start_time": "2023-03-11T09:18:36.419Z"
   },
   {
    "duration": 26,
    "start_time": "2023-03-11T09:18:36.623Z"
   },
   {
    "duration": 216,
    "start_time": "2023-03-11T09:18:36.650Z"
   },
   {
    "duration": 37,
    "start_time": "2023-03-11T09:18:36.868Z"
   },
   {
    "duration": 57,
    "start_time": "2023-03-11T09:18:36.907Z"
   },
   {
    "duration": 77,
    "start_time": "2023-03-11T09:18:36.966Z"
   },
   {
    "duration": 89,
    "start_time": "2023-03-11T09:18:37.044Z"
   },
   {
    "duration": 12,
    "start_time": "2023-03-11T09:18:37.135Z"
   },
   {
    "duration": 75,
    "start_time": "2023-03-11T09:18:37.149Z"
   },
   {
    "duration": 25787,
    "start_time": "2023-03-11T09:18:37.226Z"
   },
   {
    "duration": 45,
    "start_time": "2023-03-11T09:19:03.014Z"
   },
   {
    "duration": 0,
    "start_time": "2023-03-11T09:19:03.061Z"
   },
   {
    "duration": 157,
    "start_time": "2023-03-11T09:19:25.463Z"
   },
   {
    "duration": 5,
    "start_time": "2023-03-11T09:21:21.898Z"
   },
   {
    "duration": 58,
    "start_time": "2023-03-11T09:21:28.094Z"
   },
   {
    "duration": 255,
    "start_time": "2023-03-11T09:21:41.459Z"
   },
   {
    "duration": 94,
    "start_time": "2023-03-11T09:22:04.208Z"
   },
   {
    "duration": 73,
    "start_time": "2023-03-11T09:22:39.736Z"
   },
   {
    "duration": 87,
    "start_time": "2023-03-11T09:23:25.850Z"
   },
   {
    "duration": 1147,
    "start_time": "2023-03-11T09:24:34.058Z"
   },
   {
    "duration": 2035,
    "start_time": "2023-03-11T09:24:35.207Z"
   },
   {
    "duration": 4,
    "start_time": "2023-03-11T09:24:37.244Z"
   },
   {
    "duration": 2607,
    "start_time": "2023-03-11T09:24:37.250Z"
   },
   {
    "duration": 21,
    "start_time": "2023-03-11T09:24:39.859Z"
   },
   {
    "duration": 388,
    "start_time": "2023-03-11T09:24:39.889Z"
   },
   {
    "duration": 418,
    "start_time": "2023-03-11T09:24:40.279Z"
   },
   {
    "duration": 37,
    "start_time": "2023-03-11T09:24:40.698Z"
   },
   {
    "duration": 233,
    "start_time": "2023-03-11T09:24:40.736Z"
   },
   {
    "duration": 425,
    "start_time": "2023-03-11T09:24:40.971Z"
   },
   {
    "duration": 31,
    "start_time": "2023-03-11T09:24:41.399Z"
   },
   {
    "duration": 17,
    "start_time": "2023-03-11T09:24:41.431Z"
   },
   {
    "duration": 49,
    "start_time": "2023-03-11T09:24:41.449Z"
   },
   {
    "duration": 27,
    "start_time": "2023-03-11T09:24:41.499Z"
   },
   {
    "duration": 244,
    "start_time": "2023-03-11T09:24:41.527Z"
   },
   {
    "duration": 29,
    "start_time": "2023-03-11T09:24:41.773Z"
   },
   {
    "duration": 16,
    "start_time": "2023-03-11T09:24:41.804Z"
   },
   {
    "duration": 28,
    "start_time": "2023-03-11T09:24:41.821Z"
   },
   {
    "duration": 224,
    "start_time": "2023-03-11T09:24:41.851Z"
   },
   {
    "duration": 339,
    "start_time": "2023-03-11T09:24:42.077Z"
   },
   {
    "duration": 26,
    "start_time": "2023-03-11T09:24:42.417Z"
   },
   {
    "duration": 221,
    "start_time": "2023-03-11T09:24:42.444Z"
   },
   {
    "duration": 34,
    "start_time": "2023-03-11T09:24:42.666Z"
   },
   {
    "duration": 195,
    "start_time": "2023-03-11T09:24:42.701Z"
   },
   {
    "duration": 24,
    "start_time": "2023-03-11T09:24:42.898Z"
   },
   {
    "duration": 211,
    "start_time": "2023-03-11T09:24:42.923Z"
   },
   {
    "duration": 24,
    "start_time": "2023-03-11T09:24:43.136Z"
   },
   {
    "duration": 71,
    "start_time": "2023-03-11T09:24:43.163Z"
   },
   {
    "duration": 75,
    "start_time": "2023-03-11T09:24:43.235Z"
   },
   {
    "duration": 84,
    "start_time": "2023-03-11T09:24:43.311Z"
   },
   {
    "duration": 3,
    "start_time": "2023-03-11T09:24:43.396Z"
   },
   {
    "duration": 19,
    "start_time": "2023-03-11T09:24:43.400Z"
   },
   {
    "duration": 74,
    "start_time": "2023-03-11T09:24:43.420Z"
   },
   {
    "duration": 25421,
    "start_time": "2023-03-11T09:24:43.495Z"
   },
   {
    "duration": 249,
    "start_time": "2023-03-11T09:25:08.918Z"
   },
   {
    "duration": 84,
    "start_time": "2023-03-11T09:25:09.169Z"
   },
   {
    "duration": 80,
    "start_time": "2023-03-11T09:25:09.255Z"
   },
   {
    "duration": 3,
    "start_time": "2023-03-11T09:25:09.337Z"
   },
   {
    "duration": 1249,
    "start_time": "2023-03-11T09:28:08.664Z"
   },
   {
    "duration": 2036,
    "start_time": "2023-03-11T09:28:09.915Z"
   },
   {
    "duration": 14,
    "start_time": "2023-03-11T09:28:11.953Z"
   },
   {
    "duration": 2789,
    "start_time": "2023-03-11T09:28:11.970Z"
   },
   {
    "duration": 24,
    "start_time": "2023-03-11T09:28:14.761Z"
   },
   {
    "duration": 475,
    "start_time": "2023-03-11T09:28:14.787Z"
   },
   {
    "duration": 438,
    "start_time": "2023-03-11T09:28:15.263Z"
   },
   {
    "duration": 35,
    "start_time": "2023-03-11T09:28:15.703Z"
   },
   {
    "duration": 236,
    "start_time": "2023-03-11T09:28:15.740Z"
   },
   {
    "duration": 470,
    "start_time": "2023-03-11T09:28:15.979Z"
   },
   {
    "duration": 34,
    "start_time": "2023-03-11T09:28:16.450Z"
   },
   {
    "duration": 26,
    "start_time": "2023-03-11T09:28:16.487Z"
   },
   {
    "duration": 26,
    "start_time": "2023-03-11T09:28:16.515Z"
   },
   {
    "duration": 47,
    "start_time": "2023-03-11T09:28:16.543Z"
   },
   {
    "duration": 256,
    "start_time": "2023-03-11T09:28:16.592Z"
   },
   {
    "duration": 29,
    "start_time": "2023-03-11T09:28:16.850Z"
   },
   {
    "duration": 26,
    "start_time": "2023-03-11T09:28:16.881Z"
   },
   {
    "duration": 26,
    "start_time": "2023-03-11T09:28:16.911Z"
   },
   {
    "duration": 238,
    "start_time": "2023-03-11T09:28:16.938Z"
   },
   {
    "duration": 352,
    "start_time": "2023-03-11T09:28:17.177Z"
   },
   {
    "duration": 26,
    "start_time": "2023-03-11T09:28:17.530Z"
   },
   {
    "duration": 245,
    "start_time": "2023-03-11T09:28:17.557Z"
   },
   {
    "duration": 25,
    "start_time": "2023-03-11T09:28:17.804Z"
   },
   {
    "duration": 200,
    "start_time": "2023-03-11T09:28:17.830Z"
   },
   {
    "duration": 23,
    "start_time": "2023-03-11T09:28:18.031Z"
   },
   {
    "duration": 231,
    "start_time": "2023-03-11T09:28:18.055Z"
   },
   {
    "duration": 36,
    "start_time": "2023-03-11T09:28:18.288Z"
   },
   {
    "duration": 63,
    "start_time": "2023-03-11T09:28:18.327Z"
   },
   {
    "duration": 61,
    "start_time": "2023-03-11T09:28:18.392Z"
   },
   {
    "duration": 103,
    "start_time": "2023-03-11T09:28:18.455Z"
   },
   {
    "duration": 3,
    "start_time": "2023-03-11T09:28:18.559Z"
   },
   {
    "duration": 23,
    "start_time": "2023-03-11T09:28:18.564Z"
   },
   {
    "duration": 68,
    "start_time": "2023-03-11T09:28:18.588Z"
   },
   {
    "duration": 25506,
    "start_time": "2023-03-11T09:28:18.658Z"
   },
   {
    "duration": 250,
    "start_time": "2023-03-11T09:28:44.165Z"
   },
   {
    "duration": 87,
    "start_time": "2023-03-11T09:28:44.416Z"
   },
   {
    "duration": 81,
    "start_time": "2023-03-11T09:28:44.506Z"
   },
   {
    "duration": 3,
    "start_time": "2023-03-11T09:28:44.589Z"
   },
   {
    "duration": 49,
    "start_time": "2023-03-11T09:29:34.961Z"
   },
   {
    "duration": 4,
    "start_time": "2023-03-11T09:31:47.740Z"
   },
   {
    "duration": 2057,
    "start_time": "2023-03-11T09:31:47.746Z"
   },
   {
    "duration": 4,
    "start_time": "2023-03-11T09:31:49.806Z"
   },
   {
    "duration": 2625,
    "start_time": "2023-03-11T09:31:49.812Z"
   },
   {
    "duration": 13,
    "start_time": "2023-03-11T09:31:52.438Z"
   },
   {
    "duration": 396,
    "start_time": "2023-03-11T09:31:52.453Z"
   },
   {
    "duration": 475,
    "start_time": "2023-03-11T09:31:52.851Z"
   },
   {
    "duration": 37,
    "start_time": "2023-03-11T09:31:53.328Z"
   },
   {
    "duration": 248,
    "start_time": "2023-03-11T09:31:53.379Z"
   },
   {
    "duration": 505,
    "start_time": "2023-03-11T09:31:53.629Z"
   },
   {
    "duration": 20,
    "start_time": "2023-03-11T09:31:54.135Z"
   },
   {
    "duration": 28,
    "start_time": "2023-03-11T09:31:54.157Z"
   },
   {
    "duration": 40,
    "start_time": "2023-03-11T09:31:54.186Z"
   },
   {
    "duration": 26,
    "start_time": "2023-03-11T09:31:54.227Z"
   },
   {
    "duration": 281,
    "start_time": "2023-03-11T09:31:54.254Z"
   },
   {
    "duration": 24,
    "start_time": "2023-03-11T09:31:54.536Z"
   },
   {
    "duration": 43,
    "start_time": "2023-03-11T09:31:54.562Z"
   },
   {
    "duration": 32,
    "start_time": "2023-03-11T09:31:54.609Z"
   },
   {
    "duration": 209,
    "start_time": "2023-03-11T09:31:54.643Z"
   },
   {
    "duration": 357,
    "start_time": "2023-03-11T09:31:54.854Z"
   },
   {
    "duration": 21,
    "start_time": "2023-03-11T09:31:55.213Z"
   },
   {
    "duration": 222,
    "start_time": "2023-03-11T09:31:55.236Z"
   },
   {
    "duration": 46,
    "start_time": "2023-03-11T09:31:55.460Z"
   },
   {
    "duration": 191,
    "start_time": "2023-03-11T09:31:55.509Z"
   },
   {
    "duration": 28,
    "start_time": "2023-03-11T09:31:55.701Z"
   },
   {
    "duration": 241,
    "start_time": "2023-03-11T09:31:55.730Z"
   },
   {
    "duration": 41,
    "start_time": "2023-03-11T09:31:55.972Z"
   },
   {
    "duration": 78,
    "start_time": "2023-03-11T09:31:56.015Z"
   },
   {
    "duration": 83,
    "start_time": "2023-03-11T09:31:56.094Z"
   },
   {
    "duration": 89,
    "start_time": "2023-03-11T09:31:56.179Z"
   },
   {
    "duration": 2,
    "start_time": "2023-03-11T09:31:56.269Z"
   },
   {
    "duration": 37,
    "start_time": "2023-03-11T09:31:56.286Z"
   },
   {
    "duration": 12,
    "start_time": "2023-03-11T09:32:18.242Z"
   },
   {
    "duration": 5,
    "start_time": "2023-03-11T09:32:19.503Z"
   },
   {
    "duration": 15,
    "start_time": "2023-03-11T09:32:45.796Z"
   },
   {
    "duration": 14,
    "start_time": "2023-03-11T09:33:06.643Z"
   },
   {
    "duration": 18,
    "start_time": "2023-03-11T09:33:10.169Z"
   },
   {
    "duration": 46,
    "start_time": "2023-03-11T09:33:24.724Z"
   },
   {
    "duration": 18,
    "start_time": "2023-03-11T09:33:26.458Z"
   },
   {
    "duration": 16,
    "start_time": "2023-03-11T09:33:32.452Z"
   },
   {
    "duration": 50,
    "start_time": "2023-03-11T09:34:24.014Z"
   },
   {
    "duration": 1618,
    "start_time": "2023-03-11T09:34:39.740Z"
   },
   {
    "duration": 2082,
    "start_time": "2023-03-11T09:34:41.360Z"
   },
   {
    "duration": 4,
    "start_time": "2023-03-11T09:34:43.444Z"
   },
   {
    "duration": 3579,
    "start_time": "2023-03-11T09:34:43.451Z"
   },
   {
    "duration": 13,
    "start_time": "2023-03-11T09:34:47.032Z"
   },
   {
    "duration": 499,
    "start_time": "2023-03-11T09:34:47.047Z"
   },
   {
    "duration": 461,
    "start_time": "2023-03-11T09:34:47.547Z"
   },
   {
    "duration": 36,
    "start_time": "2023-03-11T09:34:48.012Z"
   },
   {
    "duration": 219,
    "start_time": "2023-03-11T09:34:48.050Z"
   },
   {
    "duration": 480,
    "start_time": "2023-03-11T09:34:48.271Z"
   },
   {
    "duration": 37,
    "start_time": "2023-03-11T09:34:48.752Z"
   },
   {
    "duration": 29,
    "start_time": "2023-03-11T09:34:48.790Z"
   },
   {
    "duration": 28,
    "start_time": "2023-03-11T09:34:48.821Z"
   },
   {
    "duration": 64,
    "start_time": "2023-03-11T09:34:48.850Z"
   },
   {
    "duration": 260,
    "start_time": "2023-03-11T09:34:48.915Z"
   },
   {
    "duration": 27,
    "start_time": "2023-03-11T09:34:49.179Z"
   },
   {
    "duration": 25,
    "start_time": "2023-03-11T09:34:49.209Z"
   },
   {
    "duration": 29,
    "start_time": "2023-03-11T09:34:49.236Z"
   },
   {
    "duration": 223,
    "start_time": "2023-03-11T09:34:49.288Z"
   },
   {
    "duration": 389,
    "start_time": "2023-03-11T09:34:49.512Z"
   },
   {
    "duration": 29,
    "start_time": "2023-03-11T09:34:49.903Z"
   },
   {
    "duration": 275,
    "start_time": "2023-03-11T09:34:49.933Z"
   },
   {
    "duration": 23,
    "start_time": "2023-03-11T09:34:50.214Z"
   },
   {
    "duration": 212,
    "start_time": "2023-03-11T09:34:50.239Z"
   },
   {
    "duration": 25,
    "start_time": "2023-03-11T09:34:50.453Z"
   },
   {
    "duration": 240,
    "start_time": "2023-03-11T09:34:50.487Z"
   },
   {
    "duration": 25,
    "start_time": "2023-03-11T09:34:50.728Z"
   },
   {
    "duration": 74,
    "start_time": "2023-03-11T09:34:50.756Z"
   },
   {
    "duration": 83,
    "start_time": "2023-03-11T09:34:50.832Z"
   },
   {
    "duration": 100,
    "start_time": "2023-03-11T09:34:50.917Z"
   },
   {
    "duration": 3,
    "start_time": "2023-03-11T09:34:51.019Z"
   },
   {
    "duration": 21,
    "start_time": "2023-03-11T09:34:51.024Z"
   },
   {
    "duration": 73,
    "start_time": "2023-03-11T09:34:51.047Z"
   },
   {
    "duration": 20,
    "start_time": "2023-03-11T09:34:51.122Z"
   },
   {
    "duration": 35121,
    "start_time": "2023-03-11T09:35:10.043Z"
   },
   {
    "duration": 91,
    "start_time": "2023-03-11T09:36:00.804Z"
   },
   {
    "duration": 85,
    "start_time": "2023-03-11T09:36:12.725Z"
   },
   {
    "duration": 55,
    "start_time": "2023-03-11T09:36:21.034Z"
   },
   {
    "duration": 75,
    "start_time": "2023-03-11T09:42:31.836Z"
   },
   {
    "duration": 1231,
    "start_time": "2023-03-11T09:43:53.349Z"
   },
   {
    "duration": 2232,
    "start_time": "2023-03-11T09:43:54.582Z"
   },
   {
    "duration": 4,
    "start_time": "2023-03-11T09:43:56.816Z"
   },
   {
    "duration": 2757,
    "start_time": "2023-03-11T09:43:56.822Z"
   },
   {
    "duration": 21,
    "start_time": "2023-03-11T09:43:59.590Z"
   },
   {
    "duration": 444,
    "start_time": "2023-03-11T09:43:59.613Z"
   },
   {
    "duration": 444,
    "start_time": "2023-03-11T09:44:00.058Z"
   },
   {
    "duration": 41,
    "start_time": "2023-03-11T09:44:00.504Z"
   },
   {
    "duration": 265,
    "start_time": "2023-03-11T09:44:00.547Z"
   },
   {
    "duration": 499,
    "start_time": "2023-03-11T09:44:00.814Z"
   },
   {
    "duration": 25,
    "start_time": "2023-03-11T09:44:01.315Z"
   },
   {
    "duration": 26,
    "start_time": "2023-03-11T09:44:01.342Z"
   },
   {
    "duration": 75,
    "start_time": "2023-03-11T09:44:01.369Z"
   },
   {
    "duration": 60,
    "start_time": "2023-03-11T09:44:01.448Z"
   },
   {
    "duration": 300,
    "start_time": "2023-03-11T09:44:01.510Z"
   },
   {
    "duration": 24,
    "start_time": "2023-03-11T09:44:01.811Z"
   },
   {
    "duration": 163,
    "start_time": "2023-03-11T09:44:01.837Z"
   },
   {
    "duration": 134,
    "start_time": "2023-03-11T09:44:02.001Z"
   },
   {
    "duration": 279,
    "start_time": "2023-03-11T09:44:02.137Z"
   },
   {
    "duration": 413,
    "start_time": "2023-03-11T09:44:02.418Z"
   },
   {
    "duration": 23,
    "start_time": "2023-03-11T09:44:02.832Z"
   },
   {
    "duration": 296,
    "start_time": "2023-03-11T09:44:02.857Z"
   },
   {
    "duration": 34,
    "start_time": "2023-03-11T09:44:03.155Z"
   },
   {
    "duration": 244,
    "start_time": "2023-03-11T09:44:03.191Z"
   },
   {
    "duration": 29,
    "start_time": "2023-03-11T09:44:03.437Z"
   },
   {
    "duration": 243,
    "start_time": "2023-03-11T09:44:03.468Z"
   },
   {
    "duration": 29,
    "start_time": "2023-03-11T09:44:03.713Z"
   },
   {
    "duration": 84,
    "start_time": "2023-03-11T09:44:03.744Z"
   },
   {
    "duration": 77,
    "start_time": "2023-03-11T09:44:03.830Z"
   },
   {
    "duration": 106,
    "start_time": "2023-03-11T09:44:03.909Z"
   },
   {
    "duration": 3,
    "start_time": "2023-03-11T09:44:04.017Z"
   },
   {
    "duration": 16,
    "start_time": "2023-03-11T09:44:04.022Z"
   },
   {
    "duration": 71,
    "start_time": "2023-03-11T09:44:04.039Z"
   },
   {
    "duration": 16,
    "start_time": "2023-03-11T09:44:04.115Z"
   },
   {
    "duration": 288,
    "start_time": "2023-03-11T09:44:04.133Z"
   },
   {
    "duration": 3,
    "start_time": "2023-03-11T09:44:04.430Z"
   },
   {
    "duration": 23,
    "start_time": "2023-03-11T09:44:04.435Z"
   },
   {
    "duration": 27,
    "start_time": "2023-03-11T09:44:04.460Z"
   },
   {
    "duration": 52,
    "start_time": "2023-03-11T09:44:04.488Z"
   },
   {
    "duration": 4,
    "start_time": "2023-03-11T09:44:04.541Z"
   },
   {
    "duration": 243,
    "start_time": "2023-03-11T09:44:44.239Z"
   },
   {
    "duration": 15,
    "start_time": "2023-03-11T09:44:52.750Z"
   },
   {
    "duration": 491,
    "start_time": "2023-03-11T09:51:33.857Z"
   },
   {
    "duration": 18,
    "start_time": "2023-03-11T09:51:35.734Z"
   },
   {
    "duration": 19,
    "start_time": "2023-03-11T09:51:42.220Z"
   },
   {
    "duration": 18,
    "start_time": "2023-03-11T09:51:46.948Z"
   },
   {
    "duration": 21,
    "start_time": "2023-03-11T09:53:34.196Z"
   },
   {
    "duration": 20,
    "start_time": "2023-03-11T09:53:45.121Z"
   },
   {
    "duration": 31,
    "start_time": "2023-03-11T09:53:51.490Z"
   },
   {
    "duration": 12,
    "start_time": "2023-03-11T09:57:41.649Z"
   },
   {
    "duration": 1265,
    "start_time": "2023-03-11T09:57:48.873Z"
   },
   {
    "duration": 2321,
    "start_time": "2023-03-11T09:57:50.140Z"
   },
   {
    "duration": 4,
    "start_time": "2023-03-11T09:57:52.463Z"
   },
   {
    "duration": 3456,
    "start_time": "2023-03-11T09:57:52.469Z"
   },
   {
    "duration": 28,
    "start_time": "2023-03-11T09:57:55.929Z"
   },
   {
    "duration": 642,
    "start_time": "2023-03-11T09:57:55.959Z"
   },
   {
    "duration": 624,
    "start_time": "2023-03-11T09:57:56.603Z"
   },
   {
    "duration": 60,
    "start_time": "2023-03-11T09:57:57.229Z"
   },
   {
    "duration": 307,
    "start_time": "2023-03-11T09:57:57.294Z"
   },
   {
    "duration": 545,
    "start_time": "2023-03-11T09:57:57.605Z"
   },
   {
    "duration": 53,
    "start_time": "2023-03-11T09:57:58.153Z"
   },
   {
    "duration": 37,
    "start_time": "2023-03-11T09:57:58.208Z"
   },
   {
    "duration": 46,
    "start_time": "2023-03-11T09:57:58.247Z"
   },
   {
    "duration": 41,
    "start_time": "2023-03-11T09:57:58.295Z"
   },
   {
    "duration": 308,
    "start_time": "2023-03-11T09:57:58.339Z"
   },
   {
    "duration": 39,
    "start_time": "2023-03-11T09:57:58.648Z"
   },
   {
    "duration": 38,
    "start_time": "2023-03-11T09:57:58.689Z"
   },
   {
    "duration": 37,
    "start_time": "2023-03-11T09:57:58.729Z"
   },
   {
    "duration": 259,
    "start_time": "2023-03-11T09:57:58.769Z"
   },
   {
    "duration": 416,
    "start_time": "2023-03-11T09:57:59.030Z"
   },
   {
    "duration": 45,
    "start_time": "2023-03-11T09:57:59.448Z"
   },
   {
    "duration": 304,
    "start_time": "2023-03-11T09:57:59.494Z"
   },
   {
    "duration": 41,
    "start_time": "2023-03-11T09:57:59.800Z"
   },
   {
    "duration": 263,
    "start_time": "2023-03-11T09:57:59.843Z"
   },
   {
    "duration": 38,
    "start_time": "2023-03-11T09:58:00.109Z"
   },
   {
    "duration": 266,
    "start_time": "2023-03-11T09:58:00.149Z"
   },
   {
    "duration": 35,
    "start_time": "2023-03-11T09:58:00.416Z"
   },
   {
    "duration": 109,
    "start_time": "2023-03-11T09:58:00.454Z"
   },
   {
    "duration": 103,
    "start_time": "2023-03-11T09:58:00.564Z"
   },
   {
    "duration": 108,
    "start_time": "2023-03-11T09:58:00.669Z"
   },
   {
    "duration": 8,
    "start_time": "2023-03-11T09:58:00.778Z"
   },
   {
    "duration": 83,
    "start_time": "2023-03-11T09:58:00.788Z"
   },
   {
    "duration": 170,
    "start_time": "2023-03-11T09:58:00.873Z"
   },
   {
    "duration": 23,
    "start_time": "2023-03-11T09:58:01.045Z"
   },
   {
    "duration": 417,
    "start_time": "2023-03-11T09:58:01.069Z"
   },
   {
    "duration": 750,
    "start_time": "2023-03-11T09:58:01.488Z"
   },
   {
    "duration": 21,
    "start_time": "2023-03-11T09:58:02.240Z"
   },
   {
    "duration": 81,
    "start_time": "2023-03-11T09:58:02.263Z"
   },
   {
    "duration": 32,
    "start_time": "2023-03-11T09:58:02.346Z"
   },
   {
    "duration": 114,
    "start_time": "2023-03-11T09:58:02.379Z"
   },
   {
    "duration": 4,
    "start_time": "2023-03-11T09:58:02.495Z"
   },
   {
    "duration": 80,
    "start_time": "2023-03-11T10:03:42.414Z"
   },
   {
    "duration": 1364,
    "start_time": "2023-03-11T10:07:01.260Z"
   },
   {
    "duration": 2212,
    "start_time": "2023-03-11T10:07:02.627Z"
   },
   {
    "duration": 4,
    "start_time": "2023-03-11T10:07:04.841Z"
   },
   {
    "duration": 3088,
    "start_time": "2023-03-11T10:07:04.848Z"
   },
   {
    "duration": 19,
    "start_time": "2023-03-11T10:07:07.938Z"
   },
   {
    "duration": 460,
    "start_time": "2023-03-11T10:07:07.959Z"
   },
   {
    "duration": 485,
    "start_time": "2023-03-11T10:07:08.420Z"
   },
   {
    "duration": 41,
    "start_time": "2023-03-11T10:07:08.906Z"
   },
   {
    "duration": 270,
    "start_time": "2023-03-11T10:07:08.949Z"
   },
   {
    "duration": 482,
    "start_time": "2023-03-11T10:07:09.222Z"
   },
   {
    "duration": 30,
    "start_time": "2023-03-11T10:07:09.714Z"
   },
   {
    "duration": 18,
    "start_time": "2023-03-11T10:07:09.745Z"
   },
   {
    "duration": 57,
    "start_time": "2023-03-11T10:07:09.765Z"
   },
   {
    "duration": 36,
    "start_time": "2023-03-11T10:07:09.825Z"
   },
   {
    "duration": 263,
    "start_time": "2023-03-11T10:07:09.863Z"
   },
   {
    "duration": 24,
    "start_time": "2023-03-11T10:07:10.127Z"
   },
   {
    "duration": 60,
    "start_time": "2023-03-11T10:07:10.153Z"
   },
   {
    "duration": 47,
    "start_time": "2023-03-11T10:07:10.215Z"
   },
   {
    "duration": 252,
    "start_time": "2023-03-11T10:07:10.264Z"
   },
   {
    "duration": 383,
    "start_time": "2023-03-11T10:07:10.520Z"
   },
   {
    "duration": 31,
    "start_time": "2023-03-11T10:07:10.904Z"
   },
   {
    "duration": 279,
    "start_time": "2023-03-11T10:07:10.937Z"
   },
   {
    "duration": 32,
    "start_time": "2023-03-11T10:07:11.218Z"
   },
   {
    "duration": 221,
    "start_time": "2023-03-11T10:07:11.251Z"
   },
   {
    "duration": 50,
    "start_time": "2023-03-11T10:07:11.474Z"
   },
   {
    "duration": 231,
    "start_time": "2023-03-11T10:07:11.526Z"
   },
   {
    "duration": 56,
    "start_time": "2023-03-11T10:07:11.759Z"
   },
   {
    "duration": 87,
    "start_time": "2023-03-11T10:07:11.818Z"
   },
   {
    "duration": 61,
    "start_time": "2023-03-11T10:07:11.910Z"
   },
   {
    "duration": 90,
    "start_time": "2023-03-11T10:07:11.972Z"
   },
   {
    "duration": 25,
    "start_time": "2023-03-11T10:07:12.064Z"
   },
   {
    "duration": 29,
    "start_time": "2023-03-11T10:07:12.099Z"
   },
   {
    "duration": 34483,
    "start_time": "2023-03-11T10:07:12.130Z"
   },
   {
    "duration": 158,
    "start_time": "2023-03-11T10:07:46.614Z"
   },
   {
    "duration": 501,
    "start_time": "2023-03-11T10:07:46.774Z"
   },
   {
    "duration": 42,
    "start_time": "2023-03-11T10:07:47.277Z"
   },
   {
    "duration": 20,
    "start_time": "2023-03-11T10:07:47.321Z"
   },
   {
    "duration": 18,
    "start_time": "2023-03-11T10:07:47.343Z"
   },
   {
    "duration": 177,
    "start_time": "2023-03-11T10:07:47.362Z"
   },
   {
    "duration": 4,
    "start_time": "2023-03-11T10:07:47.540Z"
   },
   {
    "duration": 2286,
    "start_time": "2023-03-11T10:08:49.819Z"
   },
   {
    "duration": 2086,
    "start_time": "2023-03-11T10:08:52.107Z"
   },
   {
    "duration": 9,
    "start_time": "2023-03-11T10:08:54.197Z"
   },
   {
    "duration": 3239,
    "start_time": "2023-03-11T10:08:54.210Z"
   },
   {
    "duration": 15,
    "start_time": "2023-03-11T10:08:57.451Z"
   },
   {
    "duration": 581,
    "start_time": "2023-03-11T10:08:57.468Z"
   },
   {
    "duration": 498,
    "start_time": "2023-03-11T10:08:58.052Z"
   },
   {
    "duration": 55,
    "start_time": "2023-03-11T10:08:58.552Z"
   },
   {
    "duration": 251,
    "start_time": "2023-03-11T10:08:58.609Z"
   },
   {
    "duration": 500,
    "start_time": "2023-03-11T10:08:58.862Z"
   },
   {
    "duration": 54,
    "start_time": "2023-03-11T10:08:59.364Z"
   },
   {
    "duration": 32,
    "start_time": "2023-03-11T10:08:59.420Z"
   },
   {
    "duration": 54,
    "start_time": "2023-03-11T10:08:59.454Z"
   },
   {
    "duration": 30,
    "start_time": "2023-03-11T10:08:59.514Z"
   },
   {
    "duration": 295,
    "start_time": "2023-03-11T10:08:59.546Z"
   },
   {
    "duration": 26,
    "start_time": "2023-03-11T10:08:59.843Z"
   },
   {
    "duration": 43,
    "start_time": "2023-03-11T10:08:59.871Z"
   },
   {
    "duration": 33,
    "start_time": "2023-03-11T10:08:59.918Z"
   },
   {
    "duration": 266,
    "start_time": "2023-03-11T10:08:59.952Z"
   },
   {
    "duration": 386,
    "start_time": "2023-03-11T10:09:00.219Z"
   },
   {
    "duration": 28,
    "start_time": "2023-03-11T10:09:00.609Z"
   },
   {
    "duration": 287,
    "start_time": "2023-03-11T10:09:00.638Z"
   },
   {
    "duration": 37,
    "start_time": "2023-03-11T10:09:00.927Z"
   },
   {
    "duration": 295,
    "start_time": "2023-03-11T10:09:00.967Z"
   },
   {
    "duration": 55,
    "start_time": "2023-03-11T10:09:01.264Z"
   },
   {
    "duration": 313,
    "start_time": "2023-03-11T10:09:01.320Z"
   },
   {
    "duration": 29,
    "start_time": "2023-03-11T10:09:01.635Z"
   },
   {
    "duration": 133,
    "start_time": "2023-03-11T10:09:01.668Z"
   },
   {
    "duration": 109,
    "start_time": "2023-03-11T10:09:01.807Z"
   },
   {
    "duration": 129,
    "start_time": "2023-03-11T10:09:01.918Z"
   },
   {
    "duration": 33,
    "start_time": "2023-03-11T10:09:02.048Z"
   },
   {
    "duration": 50,
    "start_time": "2023-03-11T10:09:02.082Z"
   },
   {
    "duration": 36048,
    "start_time": "2023-03-11T10:09:02.133Z"
   },
   {
    "duration": 53,
    "start_time": "2023-03-11T10:09:38.182Z"
   },
   {
    "duration": 513,
    "start_time": "2023-03-11T10:09:38.237Z"
   },
   {
    "duration": 48,
    "start_time": "2023-03-11T10:09:38.752Z"
   },
   {
    "duration": 20,
    "start_time": "2023-03-11T10:09:38.802Z"
   },
   {
    "duration": 21,
    "start_time": "2023-03-11T10:09:38.824Z"
   },
   {
    "duration": 62,
    "start_time": "2023-03-11T10:09:38.847Z"
   },
   {
    "duration": 3,
    "start_time": "2023-03-11T10:09:38.910Z"
   },
   {
    "duration": 22,
    "start_time": "2023-03-11T10:13:37.530Z"
   },
   {
    "duration": 21,
    "start_time": "2023-03-11T10:13:49.042Z"
   },
   {
    "duration": 51,
    "start_time": "2023-03-12T05:35:35.695Z"
   },
   {
    "duration": 1733,
    "start_time": "2023-03-12T05:35:44.273Z"
   },
   {
    "duration": 10831,
    "start_time": "2023-03-12T05:35:46.009Z"
   },
   {
    "duration": 6,
    "start_time": "2023-03-12T05:35:56.844Z"
   },
   {
    "duration": 3403,
    "start_time": "2023-03-12T05:35:56.853Z"
   },
   {
    "duration": 24,
    "start_time": "2023-03-12T05:36:00.257Z"
   },
   {
    "duration": 505,
    "start_time": "2023-03-12T05:36:00.282Z"
   },
   {
    "duration": 514,
    "start_time": "2023-03-12T05:36:00.788Z"
   },
   {
    "duration": 39,
    "start_time": "2023-03-12T05:36:01.304Z"
   },
   {
    "duration": 301,
    "start_time": "2023-03-12T05:36:01.346Z"
   },
   {
    "duration": 533,
    "start_time": "2023-03-12T05:36:01.651Z"
   },
   {
    "duration": 27,
    "start_time": "2023-03-12T05:36:02.186Z"
   },
   {
    "duration": 21,
    "start_time": "2023-03-12T05:36:02.215Z"
   },
   {
    "duration": 63,
    "start_time": "2023-03-12T05:36:02.237Z"
   },
   {
    "duration": 44,
    "start_time": "2023-03-12T05:36:02.302Z"
   },
   {
    "duration": 376,
    "start_time": "2023-03-12T05:36:02.348Z"
   },
   {
    "duration": 23,
    "start_time": "2023-03-12T05:36:02.726Z"
   },
   {
    "duration": 36,
    "start_time": "2023-03-12T05:36:02.751Z"
   },
   {
    "duration": 41,
    "start_time": "2023-03-12T05:36:02.789Z"
   },
   {
    "duration": 255,
    "start_time": "2023-03-12T05:36:02.832Z"
   },
   {
    "duration": 396,
    "start_time": "2023-03-12T05:36:03.089Z"
   },
   {
    "duration": 27,
    "start_time": "2023-03-12T05:36:03.487Z"
   },
   {
    "duration": 281,
    "start_time": "2023-03-12T05:36:03.516Z"
   },
   {
    "duration": 32,
    "start_time": "2023-03-12T05:36:03.799Z"
   },
   {
    "duration": 229,
    "start_time": "2023-03-12T05:36:03.833Z"
   },
   {
    "duration": 39,
    "start_time": "2023-03-12T05:36:04.065Z"
   },
   {
    "duration": 323,
    "start_time": "2023-03-12T05:36:04.106Z"
   },
   {
    "duration": 47,
    "start_time": "2023-03-12T05:36:04.432Z"
   },
   {
    "duration": 125,
    "start_time": "2023-03-12T05:36:04.482Z"
   },
   {
    "duration": 76,
    "start_time": "2023-03-12T05:36:04.609Z"
   },
   {
    "duration": 104,
    "start_time": "2023-03-12T05:36:04.687Z"
   },
   {
    "duration": 24,
    "start_time": "2023-03-12T05:36:04.793Z"
   },
   {
    "duration": 14,
    "start_time": "2023-03-12T05:36:04.819Z"
   },
   {
    "duration": 161,
    "start_time": "2023-03-12T05:36:04.835Z"
   },
   {
    "duration": 0,
    "start_time": "2023-03-12T05:36:04.998Z"
   },
   {
    "duration": 0,
    "start_time": "2023-03-12T05:36:05.000Z"
   },
   {
    "duration": 0,
    "start_time": "2023-03-12T05:36:05.001Z"
   },
   {
    "duration": 0,
    "start_time": "2023-03-12T05:36:05.002Z"
   },
   {
    "duration": 1197,
    "start_time": "2023-03-12T06:03:59.112Z"
   },
   {
    "duration": 2285,
    "start_time": "2023-03-12T06:04:00.311Z"
   },
   {
    "duration": 6,
    "start_time": "2023-03-12T06:04:02.599Z"
   },
   {
    "duration": 3126,
    "start_time": "2023-03-12T06:04:02.608Z"
   },
   {
    "duration": 17,
    "start_time": "2023-03-12T06:04:05.735Z"
   },
   {
    "duration": 507,
    "start_time": "2023-03-12T06:04:05.754Z"
   },
   {
    "duration": 569,
    "start_time": "2023-03-12T06:04:06.264Z"
   },
   {
    "duration": 53,
    "start_time": "2023-03-12T06:04:06.836Z"
   },
   {
    "duration": 302,
    "start_time": "2023-03-12T06:04:06.891Z"
   },
   {
    "duration": 538,
    "start_time": "2023-03-12T06:04:07.197Z"
   },
   {
    "duration": 25,
    "start_time": "2023-03-12T06:04:07.737Z"
   },
   {
    "duration": 27,
    "start_time": "2023-03-12T06:04:07.764Z"
   },
   {
    "duration": 35,
    "start_time": "2023-03-12T06:04:07.793Z"
   },
   {
    "duration": 54,
    "start_time": "2023-03-12T06:04:07.829Z"
   },
   {
    "duration": 296,
    "start_time": "2023-03-12T06:04:07.885Z"
   },
   {
    "duration": 23,
    "start_time": "2023-03-12T06:04:08.183Z"
   },
   {
    "duration": 32,
    "start_time": "2023-03-12T06:04:08.209Z"
   },
   {
    "duration": 56,
    "start_time": "2023-03-12T06:04:08.242Z"
   },
   {
    "duration": 246,
    "start_time": "2023-03-12T06:04:08.300Z"
   },
   {
    "duration": 481,
    "start_time": "2023-03-12T06:04:08.548Z"
   },
   {
    "duration": 22,
    "start_time": "2023-03-12T06:04:09.031Z"
   },
   {
    "duration": 273,
    "start_time": "2023-03-12T06:04:09.055Z"
   },
   {
    "duration": 28,
    "start_time": "2023-03-12T06:04:09.330Z"
   },
   {
    "duration": 250,
    "start_time": "2023-03-12T06:04:09.360Z"
   },
   {
    "duration": 45,
    "start_time": "2023-03-12T06:04:09.612Z"
   },
   {
    "duration": 248,
    "start_time": "2023-03-12T06:04:09.659Z"
   },
   {
    "duration": 30,
    "start_time": "2023-03-12T06:04:09.909Z"
   },
   {
    "duration": 88,
    "start_time": "2023-03-12T06:04:09.942Z"
   },
   {
    "duration": 84,
    "start_time": "2023-03-12T06:04:10.033Z"
   },
   {
    "duration": 107,
    "start_time": "2023-03-12T06:04:10.119Z"
   },
   {
    "duration": 30,
    "start_time": "2023-03-12T06:04:10.228Z"
   },
   {
    "duration": 26,
    "start_time": "2023-03-12T06:04:10.261Z"
   },
   {
    "duration": 50699,
    "start_time": "2023-03-12T06:04:10.289Z"
   },
   {
    "duration": 34,
    "start_time": "2023-03-12T06:05:00.990Z"
   },
   {
    "duration": 625,
    "start_time": "2023-03-12T06:05:01.026Z"
   },
   {
    "duration": 29,
    "start_time": "2023-03-12T06:05:01.652Z"
   },
   {
    "duration": 11,
    "start_time": "2023-03-12T06:05:01.683Z"
   },
   {
    "duration": 28,
    "start_time": "2023-03-12T06:12:59.809Z"
   },
   {
    "duration": 9,
    "start_time": "2023-03-12T06:13:00.588Z"
   },
   {
    "duration": 19,
    "start_time": "2023-03-12T06:13:16.523Z"
   },
   {
    "duration": 4,
    "start_time": "2023-03-12T06:13:18.544Z"
   },
   {
    "duration": 119,
    "start_time": "2023-03-12T06:14:01.905Z"
   },
   {
    "duration": 10,
    "start_time": "2023-03-12T06:14:20.208Z"
   },
   {
    "duration": 10,
    "start_time": "2023-03-12T06:15:06.907Z"
   },
   {
    "duration": 9,
    "start_time": "2023-03-12T06:18:24.152Z"
   },
   {
    "duration": 10,
    "start_time": "2023-03-12T06:18:54.395Z"
   },
   {
    "duration": 13,
    "start_time": "2023-03-12T06:19:04.076Z"
   },
   {
    "duration": 9,
    "start_time": "2023-03-12T06:19:13.508Z"
   },
   {
    "duration": 9,
    "start_time": "2023-03-12T06:19:16.990Z"
   },
   {
    "duration": 10,
    "start_time": "2023-03-12T06:19:21.346Z"
   },
   {
    "duration": 5,
    "start_time": "2023-03-12T06:19:25.398Z"
   },
   {
    "duration": 65,
    "start_time": "2023-03-12T06:19:48.581Z"
   },
   {
    "duration": 27,
    "start_time": "2023-03-12T06:20:00.234Z"
   },
   {
    "duration": 162,
    "start_time": "2023-03-12T06:20:33.788Z"
   },
   {
    "duration": 11,
    "start_time": "2023-03-12T06:22:03.017Z"
   },
   {
    "duration": 81,
    "start_time": "2023-03-12T06:22:12.849Z"
   },
   {
    "duration": 9297,
    "start_time": "2023-03-12T06:22:28.430Z"
   },
   {
    "duration": 85,
    "start_time": "2023-03-12T06:22:37.728Z"
   },
   {
    "duration": 376,
    "start_time": "2023-03-12T06:29:28.232Z"
   },
   {
    "duration": 44,
    "start_time": "2023-03-12T06:38:55.806Z"
   },
   {
    "duration": 14,
    "start_time": "2023-03-12T06:38:59.011Z"
   },
   {
    "duration": 86388,
    "start_time": "2023-03-12T06:40:58.046Z"
   },
   {
    "duration": 28,
    "start_time": "2023-03-12T06:42:24.436Z"
   },
   {
    "duration": 27,
    "start_time": "2023-03-12T06:42:24.481Z"
   },
   {
    "duration": 791,
    "start_time": "2023-03-12T06:44:01.362Z"
   },
   {
    "duration": 2468,
    "start_time": "2023-03-12T06:45:41.728Z"
   },
   {
    "duration": 1311,
    "start_time": "2023-03-12T06:45:44.199Z"
   },
   {
    "duration": 4,
    "start_time": "2023-03-12T06:45:45.512Z"
   },
   {
    "duration": 3336,
    "start_time": "2023-03-12T06:45:45.518Z"
   },
   {
    "duration": 39,
    "start_time": "2023-03-12T06:45:48.855Z"
   },
   {
    "duration": 530,
    "start_time": "2023-03-12T06:45:48.897Z"
   },
   {
    "duration": 583,
    "start_time": "2023-03-12T06:45:49.429Z"
   },
   {
    "duration": 40,
    "start_time": "2023-03-12T06:45:50.014Z"
   },
   {
    "duration": 285,
    "start_time": "2023-03-12T06:45:50.056Z"
   },
   {
    "duration": 562,
    "start_time": "2023-03-12T06:45:50.344Z"
   },
   {
    "duration": 29,
    "start_time": "2023-03-12T06:45:50.908Z"
   },
   {
    "duration": 25,
    "start_time": "2023-03-12T06:45:50.939Z"
   },
   {
    "duration": 73,
    "start_time": "2023-03-12T06:45:50.966Z"
   },
   {
    "duration": 54,
    "start_time": "2023-03-12T06:45:51.041Z"
   },
   {
    "duration": 329,
    "start_time": "2023-03-12T06:45:51.097Z"
   },
   {
    "duration": 26,
    "start_time": "2023-03-12T06:45:51.428Z"
   },
   {
    "duration": 43,
    "start_time": "2023-03-12T06:45:51.456Z"
   },
   {
    "duration": 49,
    "start_time": "2023-03-12T06:45:51.502Z"
   },
   {
    "duration": 272,
    "start_time": "2023-03-12T06:45:51.553Z"
   },
   {
    "duration": 428,
    "start_time": "2023-03-12T06:45:51.827Z"
   },
   {
    "duration": 39,
    "start_time": "2023-03-12T06:45:52.257Z"
   },
   {
    "duration": 343,
    "start_time": "2023-03-12T06:45:52.298Z"
   },
   {
    "duration": 50,
    "start_time": "2023-03-12T06:45:52.644Z"
   },
   {
    "duration": 297,
    "start_time": "2023-03-12T06:45:52.697Z"
   },
   {
    "duration": 33,
    "start_time": "2023-03-12T06:45:52.996Z"
   },
   {
    "duration": 288,
    "start_time": "2023-03-12T06:45:53.031Z"
   },
   {
    "duration": 30,
    "start_time": "2023-03-12T06:45:53.320Z"
   },
   {
    "duration": 110,
    "start_time": "2023-03-12T06:45:53.354Z"
   },
   {
    "duration": 103,
    "start_time": "2023-03-12T06:45:53.466Z"
   },
   {
    "duration": 126,
    "start_time": "2023-03-12T06:45:53.571Z"
   },
   {
    "duration": 48,
    "start_time": "2023-03-12T06:45:53.699Z"
   },
   {
    "duration": 17,
    "start_time": "2023-03-12T06:45:53.749Z"
   },
   {
    "duration": 82120,
    "start_time": "2023-03-12T06:45:53.768Z"
   },
   {
    "duration": 26,
    "start_time": "2023-03-12T06:47:15.889Z"
   },
   {
    "duration": 850,
    "start_time": "2023-03-12T06:47:15.917Z"
   },
   {
    "duration": 0,
    "start_time": "2023-03-12T06:47:16.769Z"
   },
   {
    "duration": 0,
    "start_time": "2023-03-12T06:47:16.776Z"
   },
   {
    "duration": 0,
    "start_time": "2023-03-12T06:47:16.777Z"
   },
   {
    "duration": 0,
    "start_time": "2023-03-12T06:47:16.778Z"
   },
   {
    "duration": 11,
    "start_time": "2023-03-12T06:48:45.827Z"
   },
   {
    "duration": 19,
    "start_time": "2023-03-12T06:48:48.350Z"
   },
   {
    "duration": 7,
    "start_time": "2023-03-12T06:48:56.492Z"
   },
   {
    "duration": 14,
    "start_time": "2023-03-12T06:49:07.708Z"
   },
   {
    "duration": 6,
    "start_time": "2023-03-12T06:49:32.634Z"
   },
   {
    "duration": 13,
    "start_time": "2023-03-12T06:50:09.120Z"
   },
   {
    "duration": 5,
    "start_time": "2023-03-12T06:50:24.446Z"
   },
   {
    "duration": 24,
    "start_time": "2023-03-12T06:50:25.365Z"
   },
   {
    "duration": 14,
    "start_time": "2023-03-12T06:51:17.277Z"
   },
   {
    "duration": 14,
    "start_time": "2023-03-12T06:51:18.244Z"
   },
   {
    "duration": 21,
    "start_time": "2023-03-12T06:52:03.052Z"
   },
   {
    "duration": 103,
    "start_time": "2023-03-12T06:52:06.148Z"
   },
   {
    "duration": 28,
    "start_time": "2023-03-12T06:56:01.518Z"
   },
   {
    "duration": 935,
    "start_time": "2023-03-12T06:56:04.554Z"
   },
   {
    "duration": 20,
    "start_time": "2023-03-12T06:56:12.159Z"
   },
   {
    "duration": 149,
    "start_time": "2023-03-12T06:57:39.067Z"
   },
   {
    "duration": 19,
    "start_time": "2023-03-12T06:57:40.216Z"
   },
   {
    "duration": 2501,
    "start_time": "2023-03-12T06:58:01.130Z"
   },
   {
    "duration": 1264,
    "start_time": "2023-03-12T06:58:03.634Z"
   },
   {
    "duration": 4,
    "start_time": "2023-03-12T06:58:04.901Z"
   },
   {
    "duration": 3457,
    "start_time": "2023-03-12T06:58:04.907Z"
   },
   {
    "duration": 28,
    "start_time": "2023-03-12T06:58:08.366Z"
   },
   {
    "duration": 537,
    "start_time": "2023-03-12T06:58:08.397Z"
   },
   {
    "duration": 544,
    "start_time": "2023-03-12T06:58:08.936Z"
   },
   {
    "duration": 46,
    "start_time": "2023-03-12T06:58:09.484Z"
   },
   {
    "duration": 304,
    "start_time": "2023-03-12T06:58:09.532Z"
   },
   {
    "duration": 554,
    "start_time": "2023-03-12T06:58:09.839Z"
   },
   {
    "duration": 29,
    "start_time": "2023-03-12T06:58:10.395Z"
   },
   {
    "duration": 24,
    "start_time": "2023-03-12T06:58:10.426Z"
   },
   {
    "duration": 53,
    "start_time": "2023-03-12T06:58:10.451Z"
   },
   {
    "duration": 32,
    "start_time": "2023-03-12T06:58:10.507Z"
   },
   {
    "duration": 348,
    "start_time": "2023-03-12T06:58:10.540Z"
   },
   {
    "duration": 35,
    "start_time": "2023-03-12T06:58:10.891Z"
   },
   {
    "duration": 20,
    "start_time": "2023-03-12T06:58:10.929Z"
   },
   {
    "duration": 58,
    "start_time": "2023-03-12T06:58:10.951Z"
   },
   {
    "duration": 279,
    "start_time": "2023-03-12T06:58:11.011Z"
   },
   {
    "duration": 447,
    "start_time": "2023-03-12T06:58:11.292Z"
   },
   {
    "duration": 41,
    "start_time": "2023-03-12T06:58:11.741Z"
   },
   {
    "duration": 316,
    "start_time": "2023-03-12T06:58:11.787Z"
   },
   {
    "duration": 31,
    "start_time": "2023-03-12T06:58:12.106Z"
   },
   {
    "duration": 257,
    "start_time": "2023-03-12T06:58:12.138Z"
   },
   {
    "duration": 45,
    "start_time": "2023-03-12T06:58:12.397Z"
   },
   {
    "duration": 353,
    "start_time": "2023-03-12T06:58:12.444Z"
   },
   {
    "duration": 34,
    "start_time": "2023-03-12T06:58:12.799Z"
   },
   {
    "duration": 108,
    "start_time": "2023-03-12T06:58:12.835Z"
   },
   {
    "duration": 90,
    "start_time": "2023-03-12T06:58:12.945Z"
   },
   {
    "duration": 116,
    "start_time": "2023-03-12T06:58:13.038Z"
   },
   {
    "duration": 60,
    "start_time": "2023-03-12T06:58:13.156Z"
   },
   {
    "duration": 14,
    "start_time": "2023-03-12T06:58:13.218Z"
   },
   {
    "duration": 82243,
    "start_time": "2023-03-12T06:58:13.235Z"
   },
   {
    "duration": 30,
    "start_time": "2023-03-12T06:59:35.480Z"
   },
   {
    "duration": 916,
    "start_time": "2023-03-12T06:59:35.512Z"
   },
   {
    "duration": 20,
    "start_time": "2023-03-12T06:59:36.430Z"
   },
   {
    "duration": 16550,
    "start_time": "2023-03-12T06:59:36.451Z"
   },
   {
    "duration": 373,
    "start_time": "2023-03-12T06:59:53.003Z"
   },
   {
    "duration": 5,
    "start_time": "2023-03-12T06:59:53.390Z"
   },
   {
    "duration": 146,
    "start_time": "2023-03-12T07:47:32.732Z"
   },
   {
    "duration": 4,
    "start_time": "2023-03-12T07:49:25.739Z"
   },
   {
    "duration": 161,
    "start_time": "2023-03-12T07:56:03.050Z"
   },
   {
    "duration": 59,
    "start_time": "2023-03-12T07:56:52.134Z"
   },
   {
    "duration": 67,
    "start_time": "2023-03-12T07:58:13.559Z"
   },
   {
    "duration": 36563,
    "start_time": "2023-03-12T07:58:18.863Z"
   },
   {
    "duration": 22497,
    "start_time": "2023-03-12T08:00:20.184Z"
   },
   {
    "duration": 17,
    "start_time": "2023-03-12T08:01:09.976Z"
   },
   {
    "duration": 5,
    "start_time": "2023-03-12T08:01:30.320Z"
   },
   {
    "duration": 5,
    "start_time": "2023-03-12T08:02:00.560Z"
   },
   {
    "duration": 35949,
    "start_time": "2023-03-12T08:02:19.634Z"
   },
   {
    "duration": 22760,
    "start_time": "2023-03-12T08:03:08.821Z"
   },
   {
    "duration": 60,
    "start_time": "2023-03-12T08:07:16.071Z"
   },
   {
    "duration": 23,
    "start_time": "2023-03-12T08:07:41.644Z"
   },
   {
    "duration": 5,
    "start_time": "2023-03-12T08:08:07.960Z"
   },
   {
    "duration": 2318,
    "start_time": "2023-03-12T08:09:01.645Z"
   },
   {
    "duration": 106,
    "start_time": "2023-03-12T08:09:31.541Z"
   },
   {
    "duration": 22393,
    "start_time": "2023-03-12T08:10:19.171Z"
   },
   {
    "duration": 23595,
    "start_time": "2023-03-12T08:12:09.627Z"
   },
   {
    "duration": 27458,
    "start_time": "2023-03-12T08:14:11.613Z"
   },
   {
    "duration": 25644,
    "start_time": "2023-03-12T08:15:14.257Z"
   },
   {
    "duration": 113,
    "start_time": "2023-03-12T08:16:22.028Z"
   },
   {
    "duration": 56,
    "start_time": "2023-03-12T08:16:27.193Z"
   },
   {
    "duration": 2410,
    "start_time": "2023-03-12T08:16:34.489Z"
   },
   {
    "duration": 2364,
    "start_time": "2023-03-12T08:16:36.902Z"
   },
   {
    "duration": 2589,
    "start_time": "2023-03-12T08:16:39.269Z"
   },
   {
    "duration": 4,
    "start_time": "2023-03-12T08:16:41.860Z"
   },
   {
    "duration": 3681,
    "start_time": "2023-03-12T08:16:41.866Z"
   },
   {
    "duration": 32,
    "start_time": "2023-03-12T08:16:45.549Z"
   },
   {
    "duration": 510,
    "start_time": "2023-03-12T08:16:45.582Z"
   },
   {
    "duration": 514,
    "start_time": "2023-03-12T08:16:46.094Z"
   },
   {
    "duration": 42,
    "start_time": "2023-03-12T08:16:46.610Z"
   },
   {
    "duration": 326,
    "start_time": "2023-03-12T08:16:46.657Z"
   },
   {
    "duration": 594,
    "start_time": "2023-03-12T08:16:46.987Z"
   },
   {
    "duration": 36,
    "start_time": "2023-03-12T08:16:47.584Z"
   },
   {
    "duration": 50,
    "start_time": "2023-03-12T08:16:47.622Z"
   },
   {
    "duration": 76,
    "start_time": "2023-03-12T08:16:47.673Z"
   },
   {
    "duration": 51,
    "start_time": "2023-03-12T08:16:47.751Z"
   },
   {
    "duration": 388,
    "start_time": "2023-03-12T08:16:47.803Z"
   },
   {
    "duration": 25,
    "start_time": "2023-03-12T08:16:48.192Z"
   },
   {
    "duration": 20,
    "start_time": "2023-03-12T08:16:48.219Z"
   },
   {
    "duration": 58,
    "start_time": "2023-03-12T08:16:48.241Z"
   },
   {
    "duration": 259,
    "start_time": "2023-03-12T08:16:48.301Z"
   },
   {
    "duration": 409,
    "start_time": "2023-03-12T08:16:48.562Z"
   },
   {
    "duration": 44,
    "start_time": "2023-03-12T08:16:48.973Z"
   },
   {
    "duration": 275,
    "start_time": "2023-03-12T08:16:49.018Z"
   },
   {
    "duration": 28,
    "start_time": "2023-03-12T08:16:49.295Z"
   },
   {
    "duration": 245,
    "start_time": "2023-03-12T08:16:49.325Z"
   },
   {
    "duration": 56,
    "start_time": "2023-03-12T08:16:49.572Z"
   },
   {
    "duration": 283,
    "start_time": "2023-03-12T08:16:49.630Z"
   },
   {
    "duration": 32,
    "start_time": "2023-03-12T08:16:49.917Z"
   },
   {
    "duration": 94,
    "start_time": "2023-03-12T08:16:49.951Z"
   },
   {
    "duration": 93,
    "start_time": "2023-03-12T08:16:50.047Z"
   },
   {
    "duration": 131,
    "start_time": "2023-03-12T08:16:50.142Z"
   },
   {
    "duration": 52,
    "start_time": "2023-03-12T08:16:50.281Z"
   },
   {
    "duration": 13,
    "start_time": "2023-03-12T08:16:50.335Z"
   },
   {
    "duration": 71851,
    "start_time": "2023-03-12T08:16:50.350Z"
   },
   {
    "duration": 25,
    "start_time": "2023-03-12T08:18:02.203Z"
   },
   {
    "duration": 986,
    "start_time": "2023-03-12T08:18:02.229Z"
   },
   {
    "duration": 18,
    "start_time": "2023-03-12T08:18:03.217Z"
   },
   {
    "duration": 15776,
    "start_time": "2023-03-12T08:18:03.237Z"
   },
   {
    "duration": 145,
    "start_time": "2023-03-12T08:18:19.015Z"
   },
   {
    "duration": 34422,
    "start_time": "2023-03-12T08:18:19.162Z"
   },
   {
    "duration": 15105,
    "start_time": "2023-03-12T08:18:53.587Z"
   },
   {
    "duration": 41,
    "start_time": "2023-03-12T08:19:08.694Z"
   },
   {
    "duration": 0,
    "start_time": "2023-03-12T08:19:08.737Z"
   },
   {
    "duration": 220,
    "start_time": "2023-03-12T08:31:14.803Z"
   },
   {
    "duration": 132,
    "start_time": "2023-03-12T08:32:55.263Z"
   },
   {
    "duration": 4279,
    "start_time": "2023-03-12T08:35:10.001Z"
   },
   {
    "duration": 1996729,
    "start_time": "2023-03-12T08:35:57.074Z"
   },
   {
    "duration": 18358,
    "start_time": "2023-03-12T09:40:17.340Z"
   },
   {
    "duration": 30,
    "start_time": "2023-03-12T09:40:42.516Z"
   },
   {
    "duration": 4,
    "start_time": "2023-03-12T09:41:04.891Z"
   },
   {
    "duration": 5083,
    "start_time": "2023-03-12T09:42:08.261Z"
   },
   {
    "duration": 5139,
    "start_time": "2023-03-12T09:42:40.316Z"
   },
   {
    "duration": 132,
    "start_time": "2023-03-12T09:43:01.359Z"
   },
   {
    "duration": 2569,
    "start_time": "2023-03-12T09:45:30.483Z"
   },
   {
    "duration": 2310,
    "start_time": "2023-03-12T09:45:33.055Z"
   },
   {
    "duration": 2895,
    "start_time": "2023-03-12T09:45:35.367Z"
   },
   {
    "duration": 4,
    "start_time": "2023-03-12T09:45:38.264Z"
   },
   {
    "duration": 3649,
    "start_time": "2023-03-12T09:45:38.270Z"
   },
   {
    "duration": 16,
    "start_time": "2023-03-12T09:45:41.921Z"
   },
   {
    "duration": 540,
    "start_time": "2023-03-12T09:45:41.939Z"
   },
   {
    "duration": 567,
    "start_time": "2023-03-12T09:45:42.481Z"
   },
   {
    "duration": 50,
    "start_time": "2023-03-12T09:45:43.051Z"
   },
   {
    "duration": 276,
    "start_time": "2023-03-12T09:45:43.104Z"
   },
   {
    "duration": 542,
    "start_time": "2023-03-12T09:45:43.383Z"
   },
   {
    "duration": 28,
    "start_time": "2023-03-12T09:45:43.927Z"
   },
   {
    "duration": 36,
    "start_time": "2023-03-12T09:45:43.957Z"
   },
   {
    "duration": 52,
    "start_time": "2023-03-12T09:45:43.996Z"
   },
   {
    "duration": 34,
    "start_time": "2023-03-12T09:45:44.051Z"
   },
   {
    "duration": 321,
    "start_time": "2023-03-12T09:45:44.087Z"
   },
   {
    "duration": 26,
    "start_time": "2023-03-12T09:45:44.410Z"
   },
   {
    "duration": 39,
    "start_time": "2023-03-12T09:45:44.438Z"
   },
   {
    "duration": 44,
    "start_time": "2023-03-12T09:45:44.479Z"
   },
   {
    "duration": 257,
    "start_time": "2023-03-12T09:45:44.525Z"
   },
   {
    "duration": 424,
    "start_time": "2023-03-12T09:45:44.784Z"
   },
   {
    "duration": 28,
    "start_time": "2023-03-12T09:45:45.209Z"
   },
   {
    "duration": 274,
    "start_time": "2023-03-12T09:45:45.239Z"
   },
   {
    "duration": 31,
    "start_time": "2023-03-12T09:45:45.515Z"
   },
   {
    "duration": 238,
    "start_time": "2023-03-12T09:45:45.548Z"
   },
   {
    "duration": 31,
    "start_time": "2023-03-12T09:45:45.788Z"
   },
   {
    "duration": 268,
    "start_time": "2023-03-12T09:45:45.820Z"
   },
   {
    "duration": 34,
    "start_time": "2023-03-12T09:45:46.090Z"
   },
   {
    "duration": 90,
    "start_time": "2023-03-12T09:45:46.125Z"
   },
   {
    "duration": 84,
    "start_time": "2023-03-12T09:45:46.217Z"
   },
   {
    "duration": 108,
    "start_time": "2023-03-12T09:45:46.303Z"
   },
   {
    "duration": 47,
    "start_time": "2023-03-12T09:45:46.413Z"
   },
   {
    "duration": 25,
    "start_time": "2023-03-12T09:45:46.461Z"
   },
   {
    "duration": 86663,
    "start_time": "2023-03-12T09:45:46.488Z"
   },
   {
    "duration": 35,
    "start_time": "2023-03-12T09:47:13.153Z"
   },
   {
    "duration": 875,
    "start_time": "2023-03-12T09:47:13.190Z"
   },
   {
    "duration": 23,
    "start_time": "2023-03-12T09:47:14.066Z"
   },
   {
    "duration": 15028,
    "start_time": "2023-03-12T09:47:14.091Z"
   },
   {
    "duration": 147,
    "start_time": "2023-03-12T09:47:29.120Z"
   },
   {
    "duration": 23019,
    "start_time": "2023-03-12T09:47:29.268Z"
   },
   {
    "duration": 15421,
    "start_time": "2023-03-12T09:47:52.294Z"
   },
   {
    "duration": 3,
    "start_time": "2023-03-12T09:48:07.718Z"
   },
   {
    "duration": 22169,
    "start_time": "2023-03-12T09:48:07.723Z"
   },
   {
    "duration": 89,
    "start_time": "2023-03-12T09:48:29.894Z"
   },
   {
    "duration": 93,
    "start_time": "2023-03-12T09:48:29.986Z"
   },
   {
    "duration": 5272,
    "start_time": "2023-03-12T09:48:30.082Z"
   },
   {
    "duration": 1482,
    "start_time": "2023-03-12T09:48:35.356Z"
   },
   {
    "duration": 5,
    "start_time": "2023-03-12T09:48:36.841Z"
   },
   {
    "duration": 182,
    "start_time": "2023-03-12T09:48:36.848Z"
   },
   {
    "duration": 54,
    "start_time": "2023-03-12T09:48:37.032Z"
   },
   {
    "duration": 5,
    "start_time": "2023-03-12T09:48:37.089Z"
   },
   {
    "duration": 8,
    "start_time": "2023-03-12T09:48:37.097Z"
   },
   {
    "duration": 36425,
    "start_time": "2023-03-12T09:49:15.868Z"
   },
   {
    "duration": 3705,
    "start_time": "2023-03-12T09:49:52.296Z"
   },
   {
    "duration": 5,
    "start_time": "2023-03-12T09:49:56.003Z"
   },
   {
    "duration": 11,
    "start_time": "2023-03-12T09:54:23.433Z"
   },
   {
    "duration": 12,
    "start_time": "2023-03-12T10:00:32.392Z"
   },
   {
    "duration": 12,
    "start_time": "2023-03-12T10:00:45.049Z"
   },
   {
    "duration": 10,
    "start_time": "2023-03-12T10:01:01.679Z"
   },
   {
    "duration": 11,
    "start_time": "2023-03-12T10:01:28.968Z"
   },
   {
    "duration": 9,
    "start_time": "2023-03-12T10:01:53.434Z"
   },
   {
    "duration": 5596,
    "start_time": "2023-03-12T10:09:02.984Z"
   },
   {
    "duration": 740,
    "start_time": "2023-03-12T10:10:23.572Z"
   },
   {
    "duration": 83,
    "start_time": "2023-03-12T10:12:11.602Z"
   },
   {
    "duration": 10,
    "start_time": "2023-03-12T10:16:04.066Z"
   },
   {
    "duration": 2347,
    "start_time": "2023-03-12T10:17:08.742Z"
   },
   {
    "duration": 2263,
    "start_time": "2023-03-12T10:17:11.092Z"
   },
   {
    "duration": 1289,
    "start_time": "2023-03-12T10:17:13.356Z"
   },
   {
    "duration": 4,
    "start_time": "2023-03-12T10:17:14.647Z"
   },
   {
    "duration": 3103,
    "start_time": "2023-03-12T10:17:14.652Z"
   },
   {
    "duration": 23,
    "start_time": "2023-03-12T10:17:17.757Z"
   },
   {
    "duration": 505,
    "start_time": "2023-03-12T10:17:17.782Z"
   },
   {
    "duration": 504,
    "start_time": "2023-03-12T10:17:18.288Z"
   },
   {
    "duration": 37,
    "start_time": "2023-03-12T10:17:18.793Z"
   },
   {
    "duration": 265,
    "start_time": "2023-03-12T10:17:18.833Z"
   },
   {
    "duration": 503,
    "start_time": "2023-03-12T10:17:19.100Z"
   },
   {
    "duration": 32,
    "start_time": "2023-03-12T10:17:19.606Z"
   },
   {
    "duration": 37,
    "start_time": "2023-03-12T10:17:19.640Z"
   },
   {
    "duration": 33,
    "start_time": "2023-03-12T10:17:19.679Z"
   },
   {
    "duration": 30,
    "start_time": "2023-03-12T10:17:19.714Z"
   },
   {
    "duration": 318,
    "start_time": "2023-03-12T10:17:19.746Z"
   },
   {
    "duration": 33,
    "start_time": "2023-03-12T10:17:20.065Z"
   },
   {
    "duration": 22,
    "start_time": "2023-03-12T10:17:20.100Z"
   },
   {
    "duration": 53,
    "start_time": "2023-03-12T10:17:20.124Z"
   },
   {
    "duration": 247,
    "start_time": "2023-03-12T10:17:20.179Z"
   },
   {
    "duration": 408,
    "start_time": "2023-03-12T10:17:20.428Z"
   },
   {
    "duration": 24,
    "start_time": "2023-03-12T10:17:20.838Z"
   },
   {
    "duration": 265,
    "start_time": "2023-03-12T10:17:20.863Z"
   },
   {
    "duration": 30,
    "start_time": "2023-03-12T10:17:21.130Z"
   },
   {
    "duration": 219,
    "start_time": "2023-03-12T10:17:21.176Z"
   },
   {
    "duration": 31,
    "start_time": "2023-03-12T10:17:21.397Z"
   },
   {
    "duration": 259,
    "start_time": "2023-03-12T10:17:21.430Z"
   },
   {
    "duration": 37,
    "start_time": "2023-03-12T10:17:21.694Z"
   },
   {
    "duration": 91,
    "start_time": "2023-03-12T10:17:21.733Z"
   },
   {
    "duration": 91,
    "start_time": "2023-03-12T10:17:21.826Z"
   },
   {
    "duration": 110,
    "start_time": "2023-03-12T10:17:21.920Z"
   },
   {
    "duration": 54,
    "start_time": "2023-03-12T10:17:22.032Z"
   },
   {
    "duration": 16,
    "start_time": "2023-03-12T10:17:22.088Z"
   },
   {
    "duration": 80658,
    "start_time": "2023-03-12T10:17:22.106Z"
   },
   {
    "duration": 30,
    "start_time": "2023-03-12T10:18:42.766Z"
   },
   {
    "duration": 876,
    "start_time": "2023-03-12T10:18:42.798Z"
   },
   {
    "duration": 19,
    "start_time": "2023-03-12T10:18:43.676Z"
   },
   {
    "duration": 13826,
    "start_time": "2023-03-12T10:18:43.697Z"
   },
   {
    "duration": 141,
    "start_time": "2023-03-12T10:18:57.525Z"
   },
   {
    "duration": 17518,
    "start_time": "2023-03-12T10:18:57.668Z"
   },
   {
    "duration": 15000,
    "start_time": "2023-03-12T10:19:15.189Z"
   },
   {
    "duration": 2781507,
    "start_time": "2023-03-12T10:19:30.191Z"
   },
   {
    "duration": 17002,
    "start_time": "2023-03-12T11:05:51.700Z"
   },
   {
    "duration": 83,
    "start_time": "2023-03-12T11:06:08.704Z"
   },
   {
    "duration": 94,
    "start_time": "2023-03-12T11:06:08.884Z"
   },
   {
    "duration": 4929,
    "start_time": "2023-03-12T11:06:08.980Z"
   },
   {
    "duration": 711,
    "start_time": "2023-03-12T11:06:13.910Z"
   },
   {
    "duration": 4,
    "start_time": "2023-03-12T11:06:14.623Z"
   },
   {
    "duration": 44050,
    "start_time": "2023-03-12T11:06:14.628Z"
   },
   {
    "duration": 3522,
    "start_time": "2023-03-12T11:06:58.680Z"
   },
   {
    "duration": 5,
    "start_time": "2023-03-12T11:07:02.204Z"
   },
   {
    "duration": 43,
    "start_time": "2023-03-12T11:07:02.211Z"
   },
   {
    "duration": 743,
    "start_time": "2023-03-12T11:07:02.277Z"
   },
   {
    "duration": 10,
    "start_time": "2023-03-12T11:07:03.022Z"
   },
   {
    "duration": 8377,
    "start_time": "2023-03-14T09:21:07.692Z"
   },
   {
    "duration": 1493,
    "start_time": "2023-03-14T09:21:16.071Z"
   },
   {
    "duration": 3,
    "start_time": "2023-03-14T09:21:17.567Z"
   },
   {
    "duration": 2978,
    "start_time": "2023-03-14T09:21:18.824Z"
   },
   {
    "duration": 14,
    "start_time": "2023-03-14T09:21:51.836Z"
   },
   {
    "duration": 454,
    "start_time": "2023-03-14T09:21:55.240Z"
   },
   {
    "duration": 437,
    "start_time": "2023-03-14T09:21:59.908Z"
   },
   {
    "duration": 39,
    "start_time": "2023-03-14T09:22:17.687Z"
   },
   {
    "duration": 223,
    "start_time": "2023-03-14T09:22:42.350Z"
   },
   {
    "duration": 439,
    "start_time": "2023-03-14T09:22:53.162Z"
   },
   {
    "duration": 24,
    "start_time": "2023-03-14T09:23:04.694Z"
   },
   {
    "duration": 19,
    "start_time": "2023-03-14T09:23:37.710Z"
   },
   {
    "duration": 30,
    "start_time": "2023-03-14T09:23:41.049Z"
   },
   {
    "duration": 30,
    "start_time": "2023-03-14T09:24:20.561Z"
   },
   {
    "duration": 295,
    "start_time": "2023-03-14T09:24:24.689Z"
   },
   {
    "duration": 23,
    "start_time": "2023-03-14T09:24:34.710Z"
   },
   {
    "duration": 18,
    "start_time": "2023-03-14T09:24:45.650Z"
   },
   {
    "duration": 29,
    "start_time": "2023-03-14T09:24:47.540Z"
   },
   {
    "duration": 219,
    "start_time": "2023-03-14T09:24:54.191Z"
   },
   {
    "duration": 373,
    "start_time": "2023-03-14T09:24:59.808Z"
   },
   {
    "duration": 21,
    "start_time": "2023-03-14T09:25:10.804Z"
   },
   {
    "duration": 212,
    "start_time": "2023-03-14T09:25:32.267Z"
   },
   {
    "duration": 28,
    "start_time": "2023-03-14T09:25:49.489Z"
   },
   {
    "duration": 190,
    "start_time": "2023-03-14T09:25:59.492Z"
   },
   {
    "duration": 28,
    "start_time": "2023-03-14T09:26:08.103Z"
   },
   {
    "duration": 209,
    "start_time": "2023-03-14T09:26:14.533Z"
   },
   {
    "duration": 29,
    "start_time": "2023-03-14T09:26:26.739Z"
   },
   {
    "duration": 43,
    "start_time": "2023-03-14T09:27:58.691Z"
   },
   {
    "duration": 68,
    "start_time": "2023-03-14T09:28:27.369Z"
   },
   {
    "duration": 61,
    "start_time": "2023-03-14T09:28:29.392Z"
   },
   {
    "duration": 93,
    "start_time": "2023-03-14T09:29:32.172Z"
   },
   {
    "duration": 48,
    "start_time": "2023-03-14T09:30:16.353Z"
   },
   {
    "duration": 15,
    "start_time": "2023-03-14T09:30:16.931Z"
   },
   {
    "duration": 70819,
    "start_time": "2023-03-14T09:30:30.874Z"
   },
   {
    "duration": 24,
    "start_time": "2023-03-14T09:32:10.128Z"
   },
   {
    "duration": 742,
    "start_time": "2023-03-14T09:32:21.840Z"
   },
   {
    "duration": 19,
    "start_time": "2023-03-14T09:32:22.583Z"
   },
   {
    "duration": 13431,
    "start_time": "2023-03-14T09:32:46.130Z"
   },
   {
    "duration": 7197,
    "start_time": "2023-03-15T11:27:54.430Z"
   },
   {
    "duration": 2100,
    "start_time": "2023-03-15T11:28:01.629Z"
   },
   {
    "duration": 1433,
    "start_time": "2023-03-15T11:28:03.731Z"
   },
   {
    "duration": 3,
    "start_time": "2023-03-15T11:28:06.906Z"
   },
   {
    "duration": 4401,
    "start_time": "2023-03-15T11:28:07.730Z"
   },
   {
    "duration": 20,
    "start_time": "2023-03-15T11:28:24.214Z"
   },
   {
    "duration": 402,
    "start_time": "2023-03-15T11:29:36.021Z"
   },
   {
    "duration": 31,
    "start_time": "2023-03-15T11:30:11.243Z"
   },
   {
    "duration": 206,
    "start_time": "2023-03-15T11:30:18.664Z"
   },
   {
    "duration": 198,
    "start_time": "2023-03-15T11:33:26.505Z"
   },
   {
    "duration": 11,
    "start_time": "2023-03-15T11:37:25.621Z"
   },
   {
    "duration": 120,
    "start_time": "2023-03-15T11:37:44.716Z"
   },
   {
    "duration": 9,
    "start_time": "2023-03-15T11:37:56.815Z"
   },
   {
    "duration": 5,
    "start_time": "2023-03-15T11:38:07.417Z"
   },
   {
    "duration": 638,
    "start_time": "2023-03-15T11:38:20.921Z"
   },
   {
    "duration": 28,
    "start_time": "2023-03-15T11:39:38.609Z"
   },
   {
    "duration": 67,
    "start_time": "2023-03-15T11:39:47.909Z"
   },
   {
    "duration": 30,
    "start_time": "2023-03-15T11:40:04.121Z"
   },
   {
    "duration": 18,
    "start_time": "2023-03-15T11:40:24.602Z"
   },
   {
    "duration": 185,
    "start_time": "2023-03-15T11:40:37.518Z"
   },
   {
    "duration": 72,
    "start_time": "2023-03-15T11:42:35.522Z"
   },
   {
    "duration": 177,
    "start_time": "2023-03-15T11:42:46.732Z"
   },
   {
    "duration": 5,
    "start_time": "2023-03-15T11:45:29.419Z"
   },
   {
    "duration": 44,
    "start_time": "2023-03-15T11:47:16.609Z"
   },
   {
    "duration": 15,
    "start_time": "2023-03-15T11:47:19.727Z"
   },
   {
    "duration": 16,
    "start_time": "2023-03-15T11:47:54.222Z"
   },
   {
    "duration": 32,
    "start_time": "2023-03-15T11:48:20.635Z"
   },
   {
    "duration": 88,
    "start_time": "2023-03-15T11:48:22.004Z"
   },
   {
    "duration": 72,
    "start_time": "2023-03-15T11:48:46.708Z"
   },
   {
    "duration": 13,
    "start_time": "2023-03-15T11:49:46.012Z"
   },
   {
    "duration": 11,
    "start_time": "2023-03-15T11:49:54.272Z"
   },
   {
    "duration": 13,
    "start_time": "2023-03-15T11:49:59.172Z"
   },
   {
    "duration": 20,
    "start_time": "2023-03-15T11:50:13.524Z"
   },
   {
    "duration": 14,
    "start_time": "2023-03-15T11:50:15.902Z"
   },
   {
    "duration": 33,
    "start_time": "2023-03-15T11:50:25.636Z"
   },
   {
    "duration": 17,
    "start_time": "2023-03-15T11:50:43.023Z"
   },
   {
    "duration": 21,
    "start_time": "2023-03-15T11:56:01.992Z"
   },
   {
    "duration": 9,
    "start_time": "2023-03-15T11:56:14.814Z"
   },
   {
    "duration": 85,
    "start_time": "2023-03-15T11:57:02.534Z"
   },
   {
    "duration": 12,
    "start_time": "2023-03-15T11:57:06.623Z"
   },
   {
    "duration": 9,
    "start_time": "2023-03-15T11:57:33.457Z"
   },
   {
    "duration": 9,
    "start_time": "2023-03-15T11:57:35.836Z"
   },
   {
    "duration": 43,
    "start_time": "2023-03-15T11:57:41.304Z"
   },
   {
    "duration": 46,
    "start_time": "2023-03-15T11:58:03.096Z"
   },
   {
    "duration": 46,
    "start_time": "2023-03-15T11:58:49.303Z"
   },
   {
    "duration": 12,
    "start_time": "2023-03-15T11:59:06.093Z"
   },
   {
    "duration": 41,
    "start_time": "2023-03-15T12:01:26.821Z"
   },
   {
    "duration": 5,
    "start_time": "2023-03-15T12:01:30.148Z"
   },
   {
    "duration": 354,
    "start_time": "2023-03-15T12:02:03.493Z"
   },
   {
    "duration": 211,
    "start_time": "2023-03-15T12:02:13.397Z"
   },
   {
    "duration": 70,
    "start_time": "2023-03-15T12:03:14.073Z"
   },
   {
    "duration": 28,
    "start_time": "2023-03-15T12:09:12.436Z"
   },
   {
    "duration": 9,
    "start_time": "2023-03-15T12:10:04.389Z"
   },
   {
    "duration": 9,
    "start_time": "2023-03-15T12:10:07.780Z"
   },
   {
    "duration": 340,
    "start_time": "2023-03-15T12:12:07.846Z"
   },
   {
    "duration": 9,
    "start_time": "2023-03-15T12:12:20.981Z"
   },
   {
    "duration": 218,
    "start_time": "2023-03-15T12:12:31.037Z"
   },
   {
    "duration": 303,
    "start_time": "2023-03-15T12:12:38.628Z"
   },
   {
    "duration": 289,
    "start_time": "2023-03-15T12:13:12.555Z"
   },
   {
    "duration": 12206,
    "start_time": "2023-03-15T12:16:56.899Z"
   },
   {
    "duration": 10,
    "start_time": "2023-03-15T12:18:20.981Z"
   },
   {
    "duration": 97,
    "start_time": "2023-03-15T12:18:25.395Z"
   },
   {
    "duration": 55,
    "start_time": "2023-03-15T12:18:30.747Z"
   },
   {
    "duration": 14,
    "start_time": "2023-03-15T12:18:33.314Z"
   },
   {
    "duration": 47714,
    "start_time": "2023-03-15T12:18:40.924Z"
   },
   {
    "duration": 799,
    "start_time": "2023-03-15T12:22:18.150Z"
   },
   {
    "duration": 18,
    "start_time": "2023-03-15T12:22:38.100Z"
   },
   {
    "duration": 14,
    "start_time": "2023-03-15T12:23:24.717Z"
   },
   {
    "duration": 15,
    "start_time": "2023-03-15T12:23:35.196Z"
   },
   {
    "duration": 2151,
    "start_time": "2023-03-15T12:24:03.695Z"
   },
   {
    "duration": 2184,
    "start_time": "2023-03-15T12:24:05.849Z"
   },
   {
    "duration": 6,
    "start_time": "2023-03-15T12:24:08.035Z"
   },
   {
    "duration": 5,
    "start_time": "2023-03-15T12:24:08.042Z"
   },
   {
    "duration": 2595,
    "start_time": "2023-03-15T12:24:08.048Z"
   },
   {
    "duration": 17,
    "start_time": "2023-03-15T12:24:10.645Z"
   },
   {
    "duration": 28,
    "start_time": "2023-03-15T12:24:10.664Z"
   },
   {
    "duration": 183,
    "start_time": "2023-03-15T12:24:10.694Z"
   },
   {
    "duration": 171,
    "start_time": "2023-03-15T12:24:10.878Z"
   },
   {
    "duration": 233,
    "start_time": "2023-03-15T12:24:11.051Z"
   },
   {
    "duration": 364,
    "start_time": "2023-03-15T12:24:11.285Z"
   },
   {
    "duration": 30,
    "start_time": "2023-03-15T12:24:11.651Z"
   },
   {
    "duration": 17,
    "start_time": "2023-03-15T12:24:11.682Z"
   },
   {
    "duration": 28,
    "start_time": "2023-03-15T12:24:11.700Z"
   },
   {
    "duration": 38,
    "start_time": "2023-03-15T12:24:11.729Z"
   },
   {
    "duration": 239,
    "start_time": "2023-03-15T12:24:11.768Z"
   },
   {
    "duration": 21,
    "start_time": "2023-03-15T12:24:12.009Z"
   },
   {
    "duration": 24,
    "start_time": "2023-03-15T12:24:12.032Z"
   },
   {
    "duration": 25,
    "start_time": "2023-03-15T12:24:12.058Z"
   },
   {
    "duration": 221,
    "start_time": "2023-03-15T12:24:12.084Z"
   },
   {
    "duration": 506,
    "start_time": "2023-03-15T12:24:12.306Z"
   },
   {
    "duration": 44,
    "start_time": "2023-03-15T12:24:12.813Z"
   },
   {
    "duration": 199,
    "start_time": "2023-03-15T12:24:12.858Z"
   },
   {
    "duration": 24,
    "start_time": "2023-03-15T12:24:13.058Z"
   },
   {
    "duration": 179,
    "start_time": "2023-03-15T12:24:13.083Z"
   },
   {
    "duration": 24,
    "start_time": "2023-03-15T12:24:13.263Z"
   },
   {
    "duration": 201,
    "start_time": "2023-03-15T12:24:13.289Z"
   },
   {
    "duration": 180,
    "start_time": "2023-03-15T12:24:13.493Z"
   },
   {
    "duration": 27,
    "start_time": "2023-03-15T12:24:13.675Z"
   },
   {
    "duration": 72,
    "start_time": "2023-03-15T12:24:13.704Z"
   },
   {
    "duration": 52,
    "start_time": "2023-03-15T12:24:13.778Z"
   },
   {
    "duration": 349,
    "start_time": "2023-03-15T12:24:13.831Z"
   },
   {
    "duration": 80,
    "start_time": "2023-03-15T12:24:14.181Z"
   },
   {
    "duration": 22,
    "start_time": "2023-03-15T12:24:14.263Z"
   },
   {
    "duration": 13,
    "start_time": "2023-03-15T12:24:14.286Z"
   },
   {
    "duration": 37764,
    "start_time": "2023-03-15T12:24:14.300Z"
   },
   {
    "duration": 22,
    "start_time": "2023-03-15T12:24:52.066Z"
   },
   {
    "duration": 649,
    "start_time": "2023-03-15T12:24:52.090Z"
   },
   {
    "duration": 3,
    "start_time": "2023-03-15T12:24:52.741Z"
   },
   {
    "duration": 24,
    "start_time": "2023-03-15T12:24:52.745Z"
   },
   {
    "duration": 12,
    "start_time": "2023-03-15T12:25:22.852Z"
   },
   {
    "duration": 77,
    "start_time": "2023-03-15T12:33:56.124Z"
   },
   {
    "duration": 18,
    "start_time": "2023-03-15T12:34:00.229Z"
   },
   {
    "duration": 18,
    "start_time": "2023-03-15T12:34:07.939Z"
   },
   {
    "duration": 11,
    "start_time": "2023-03-15T12:41:19.243Z"
   },
   {
    "duration": 5,
    "start_time": "2023-03-15T12:42:05.450Z"
   },
   {
    "duration": 10,
    "start_time": "2023-03-15T12:42:12.107Z"
   },
   {
    "duration": 91,
    "start_time": "2023-03-15T12:47:22.170Z"
   },
   {
    "duration": 50,
    "start_time": "2023-03-15T12:47:48.270Z"
   },
   {
    "duration": 11382,
    "start_time": "2023-03-15T12:48:04.245Z"
   },
   {
    "duration": 92,
    "start_time": "2023-03-15T12:48:27.952Z"
   },
   {
    "duration": 465,
    "start_time": "2023-03-15T12:48:33.298Z"
   },
   {
    "duration": 48,
    "start_time": "2023-03-15T12:49:32.474Z"
   },
   {
    "duration": 92,
    "start_time": "2023-03-15T12:49:50.003Z"
   },
   {
    "duration": 15,
    "start_time": "2023-03-15T12:50:13.651Z"
   },
   {
    "duration": 14,
    "start_time": "2023-03-15T12:50:14.090Z"
   },
   {
    "duration": 31521,
    "start_time": "2023-03-15T12:50:15.582Z"
   },
   {
    "duration": 366,
    "start_time": "2023-03-15T12:50:57.522Z"
   },
   {
    "duration": 10,
    "start_time": "2023-03-15T12:51:21.204Z"
   },
   {
    "duration": 97,
    "start_time": "2023-03-15T12:51:34.644Z"
   },
   {
    "duration": 427,
    "start_time": "2023-03-15T12:51:40.124Z"
   },
   {
    "duration": 45,
    "start_time": "2023-03-15T12:52:11.030Z"
   },
   {
    "duration": 25,
    "start_time": "2023-03-15T12:52:48.539Z"
   },
   {
    "duration": 63,
    "start_time": "2023-03-15T12:53:04.030Z"
   },
   {
    "duration": 15,
    "start_time": "2023-03-15T12:53:09.747Z"
   },
   {
    "duration": 28346,
    "start_time": "2023-03-15T12:53:12.779Z"
   },
   {
    "duration": 383,
    "start_time": "2023-03-15T12:53:52.539Z"
   },
   {
    "duration": 58,
    "start_time": "2023-03-15T12:53:56.714Z"
   },
   {
    "duration": 10377,
    "start_time": "2023-03-15T12:54:06.091Z"
   },
   {
    "duration": 106,
    "start_time": "2023-03-15T12:54:40.139Z"
   },
   {
    "duration": 53,
    "start_time": "2023-03-15T12:54:55.468Z"
   },
   {
    "duration": 2049,
    "start_time": "2023-03-15T12:55:34.481Z"
   },
   {
    "duration": 2013,
    "start_time": "2023-03-15T12:55:36.532Z"
   },
   {
    "duration": 1598,
    "start_time": "2023-03-15T12:55:38.547Z"
   },
   {
    "duration": 4,
    "start_time": "2023-03-15T12:55:40.147Z"
   },
   {
    "duration": 4345,
    "start_time": "2023-03-15T12:55:40.154Z"
   },
   {
    "duration": 16,
    "start_time": "2023-03-15T12:55:44.501Z"
   },
   {
    "duration": 49,
    "start_time": "2023-03-15T12:55:44.519Z"
   },
   {
    "duration": 202,
    "start_time": "2023-03-15T12:55:44.570Z"
   },
   {
    "duration": 209,
    "start_time": "2023-03-15T12:55:44.775Z"
   },
   {
    "duration": 222,
    "start_time": "2023-03-15T12:55:44.987Z"
   },
   {
    "duration": 436,
    "start_time": "2023-03-15T12:55:45.211Z"
   },
   {
    "duration": 31,
    "start_time": "2023-03-15T12:55:45.660Z"
   },
   {
    "duration": 16,
    "start_time": "2023-03-15T12:55:45.693Z"
   },
   {
    "duration": 30,
    "start_time": "2023-03-15T12:55:45.710Z"
   },
   {
    "duration": 33,
    "start_time": "2023-03-15T12:55:45.741Z"
   },
   {
    "duration": 251,
    "start_time": "2023-03-15T12:55:45.776Z"
   },
   {
    "duration": 28,
    "start_time": "2023-03-15T12:55:46.029Z"
   },
   {
    "duration": 22,
    "start_time": "2023-03-15T12:55:46.059Z"
   },
   {
    "duration": 34,
    "start_time": "2023-03-15T12:55:46.083Z"
   },
   {
    "duration": 216,
    "start_time": "2023-03-15T12:55:46.119Z"
   },
   {
    "duration": 351,
    "start_time": "2023-03-15T12:55:46.337Z"
   },
   {
    "duration": 36,
    "start_time": "2023-03-15T12:55:46.690Z"
   },
   {
    "duration": 31,
    "start_time": "2023-03-15T12:55:46.728Z"
   },
   {
    "duration": 170,
    "start_time": "2023-03-15T12:55:46.760Z"
   },
   {
    "duration": 31,
    "start_time": "2023-03-15T12:55:46.931Z"
   },
   {
    "duration": 178,
    "start_time": "2023-03-15T12:55:46.964Z"
   },
   {
    "duration": 35,
    "start_time": "2023-03-15T12:55:47.144Z"
   },
   {
    "duration": 211,
    "start_time": "2023-03-15T12:55:47.183Z"
   },
   {
    "duration": 180,
    "start_time": "2023-03-15T12:55:47.395Z"
   },
   {
    "duration": 24,
    "start_time": "2023-03-15T12:55:47.576Z"
   },
   {
    "duration": 70,
    "start_time": "2023-03-15T12:55:47.601Z"
   },
   {
    "duration": 51,
    "start_time": "2023-03-15T12:55:47.673Z"
   },
   {
    "duration": 315,
    "start_time": "2023-03-15T12:55:47.725Z"
   },
   {
    "duration": 69,
    "start_time": "2023-03-15T12:55:48.042Z"
   },
   {
    "duration": 47,
    "start_time": "2023-03-15T12:55:48.113Z"
   },
   {
    "duration": 12,
    "start_time": "2023-03-15T12:55:48.162Z"
   },
   {
    "duration": 29989,
    "start_time": "2023-03-15T12:55:48.176Z"
   },
   {
    "duration": 23,
    "start_time": "2023-03-15T12:56:18.166Z"
   },
   {
    "duration": 528,
    "start_time": "2023-03-15T12:56:18.190Z"
   },
   {
    "duration": 14,
    "start_time": "2023-03-15T12:56:18.720Z"
   },
   {
    "duration": 9828,
    "start_time": "2023-03-15T12:56:18.736Z"
   },
   {
    "duration": 89,
    "start_time": "2023-03-15T12:56:28.566Z"
   },
   {
    "duration": 11040,
    "start_time": "2023-03-15T12:56:28.657Z"
   },
   {
    "duration": 267,
    "start_time": "2023-03-15T12:56:39.699Z"
   },
   {
    "duration": 0,
    "start_time": "2023-03-15T12:56:39.968Z"
   },
   {
    "duration": 0,
    "start_time": "2023-03-15T12:56:39.969Z"
   },
   {
    "duration": 0,
    "start_time": "2023-03-15T12:56:39.970Z"
   },
   {
    "duration": 0,
    "start_time": "2023-03-15T12:56:39.970Z"
   },
   {
    "duration": 0,
    "start_time": "2023-03-15T12:56:39.972Z"
   },
   {
    "duration": 0,
    "start_time": "2023-03-15T12:56:39.973Z"
   },
   {
    "duration": 0,
    "start_time": "2023-03-15T12:56:39.974Z"
   },
   {
    "duration": 0,
    "start_time": "2023-03-15T12:56:39.974Z"
   },
   {
    "duration": 0,
    "start_time": "2023-03-15T12:56:39.975Z"
   },
   {
    "duration": 0,
    "start_time": "2023-03-15T12:56:39.976Z"
   },
   {
    "duration": 0,
    "start_time": "2023-03-15T12:56:39.977Z"
   },
   {
    "duration": 0,
    "start_time": "2023-03-15T12:56:39.978Z"
   },
   {
    "duration": 0,
    "start_time": "2023-03-15T12:56:39.978Z"
   },
   {
    "duration": 0,
    "start_time": "2023-03-15T12:56:39.979Z"
   },
   {
    "duration": 0,
    "start_time": "2023-03-15T12:56:39.980Z"
   },
   {
    "duration": 11395,
    "start_time": "2023-03-15T12:59:20.869Z"
   },
   {
    "duration": 11527,
    "start_time": "2023-03-15T13:01:29.019Z"
   },
   {
    "duration": 16553,
    "start_time": "2023-03-15T13:01:52.708Z"
   },
   {
    "duration": 450,
    "start_time": "2023-03-15T13:02:38.472Z"
   },
   {
    "duration": 31622,
    "start_time": "2023-03-15T13:03:05.043Z"
   },
   {
    "duration": 2797,
    "start_time": "2023-03-15T13:03:36.667Z"
   },
   {
    "duration": 4,
    "start_time": "2023-03-15T13:03:39.466Z"
   }
  ],
  "kernelspec": {
   "display_name": "Python 3 (ipykernel)",
   "language": "python",
   "name": "python3"
  },
  "language_info": {
   "codemirror_mode": {
    "name": "ipython",
    "version": 3
   },
   "file_extension": ".py",
   "mimetype": "text/x-python",
   "name": "python",
   "nbconvert_exporter": "python",
   "pygments_lexer": "ipython3",
   "version": "3.9.7"
  },
  "toc": {
   "base_numbering": 1,
   "nav_menu": {},
   "number_sections": true,
   "sideBar": true,
   "skip_h1_title": true,
   "title_cell": "Table of Contents",
   "title_sidebar": "Contents",
   "toc_cell": false,
   "toc_position": {
    "height": "calc(100% - 180px)",
    "left": "10px",
    "top": "150px",
    "width": "206.047px"
   },
   "toc_section_display": true,
   "toc_window_display": true
  },
  "varInspector": {
   "cols": {
    "lenName": 16,
    "lenType": 16,
    "lenVar": 40
   },
   "kernels_config": {
    "python": {
     "delete_cmd_postfix": "",
     "delete_cmd_prefix": "del ",
     "library": "var_list.py",
     "varRefreshCmd": "print(var_dic_list())"
    },
    "r": {
     "delete_cmd_postfix": ") ",
     "delete_cmd_prefix": "rm(",
     "library": "var_list.r",
     "varRefreshCmd": "cat(var_dic_list()) "
    }
   },
   "types_to_exclude": [
    "module",
    "function",
    "builtin_function_or_method",
    "instance",
    "_Feature"
   ],
   "window_display": false
  }
 },
 "nbformat": 4,
 "nbformat_minor": 2
}
